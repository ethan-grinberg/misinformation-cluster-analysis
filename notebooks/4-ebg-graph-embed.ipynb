{
 "cells": [
  {
   "cell_type": "code",
   "execution_count": 1,
   "metadata": {},
   "outputs": [],
   "source": [
    "import pandas as pd\n",
    "import sys\n",
    "import networkx as nx\n",
    "import karateclub.graph_embedding as ge\n",
    "sys.path.append(\"../src/features/\")\n",
    "from graph_embed import GraphEmbed"
   ]
  },
  {
   "cell_type": "code",
   "execution_count": 2,
   "metadata": {},
   "outputs": [],
   "source": [
    "all_networks = pd.read_csv(\"../data/raw/all_networks.csv\")"
   ]
  },
  {
   "cell_type": "code",
   "execution_count": 3,
   "metadata": {},
   "outputs": [],
   "source": [
    "GE = GraphEmbed(\"graph2vec\")\n",
    "graphs = GE.build_graphs(all_networks, 5)"
   ]
  },
  {
   "cell_type": "code",
   "execution_count": 5,
   "metadata": {},
   "outputs": [],
   "source": [
    "GE.fit()"
   ]
  },
  {
   "cell_type": "code",
   "execution_count": 6,
   "metadata": {},
   "outputs": [],
   "source": [
    "embeddings = GE.get_embedding_df()"
   ]
  },
  {
   "cell_type": "code",
   "execution_count": 7,
   "metadata": {},
   "outputs": [
    {
     "data": {
      "text/html": [
       "<div>\n",
       "<style scoped>\n",
       "    .dataframe tbody tr th:only-of-type {\n",
       "        vertical-align: middle;\n",
       "    }\n",
       "\n",
       "    .dataframe tbody tr th {\n",
       "        vertical-align: top;\n",
       "    }\n",
       "\n",
       "    .dataframe thead th {\n",
       "        text-align: right;\n",
       "    }\n",
       "</style>\n",
       "<table border=\"1\" class=\"dataframe\">\n",
       "  <thead>\n",
       "    <tr style=\"text-align: right;\">\n",
       "      <th></th>\n",
       "      <th>article_id</th>\n",
       "      <th>graph_embedding</th>\n",
       "    </tr>\n",
       "  </thead>\n",
       "  <tbody>\n",
       "    <tr>\n",
       "      <th>0</th>\n",
       "      <td>2580216</td>\n",
       "      <td>[0.08142645, -0.07509965, 0.010610695, 0.01480...</td>\n",
       "    </tr>\n",
       "    <tr>\n",
       "      <th>1</th>\n",
       "      <td>2598631</td>\n",
       "      <td>[0.08516509, -0.080856204, 0.00028427693, 0.02...</td>\n",
       "    </tr>\n",
       "    <tr>\n",
       "      <th>2</th>\n",
       "      <td>2638743</td>\n",
       "      <td>[0.087407805, -0.0833772, -0.007777944, 0.0308...</td>\n",
       "    </tr>\n",
       "    <tr>\n",
       "      <th>3</th>\n",
       "      <td>2573814</td>\n",
       "      <td>[0.088380694, -0.09444473, 0.0005020265, 0.018...</td>\n",
       "    </tr>\n",
       "    <tr>\n",
       "      <th>4</th>\n",
       "      <td>2584626</td>\n",
       "      <td>[0.076347195, -0.08153656, -0.0040088985, 0.02...</td>\n",
       "    </tr>\n",
       "    <tr>\n",
       "      <th>...</th>\n",
       "      <td>...</td>\n",
       "      <td>...</td>\n",
       "    </tr>\n",
       "    <tr>\n",
       "      <th>755</th>\n",
       "      <td>2591357</td>\n",
       "      <td>[0.052337524, -0.056100667, -0.0020478251, 0.0...</td>\n",
       "    </tr>\n",
       "    <tr>\n",
       "      <th>756</th>\n",
       "      <td>2591471</td>\n",
       "      <td>[0.06850735, -0.08046798, -0.0029436036, 0.021...</td>\n",
       "    </tr>\n",
       "    <tr>\n",
       "      <th>757</th>\n",
       "      <td>2592919</td>\n",
       "      <td>[0.055196315, -0.06382099, 0.0043505896, 0.012...</td>\n",
       "    </tr>\n",
       "    <tr>\n",
       "      <th>758</th>\n",
       "      <td>2591270</td>\n",
       "      <td>[0.054832555, -0.06748072, 0.006031511, 0.0117...</td>\n",
       "    </tr>\n",
       "    <tr>\n",
       "      <th>759</th>\n",
       "      <td>2578161</td>\n",
       "      <td>[0.061071306, -0.070109434, 0.009428407, 0.021...</td>\n",
       "    </tr>\n",
       "  </tbody>\n",
       "</table>\n",
       "<p>760 rows × 2 columns</p>\n",
       "</div>"
      ],
      "text/plain": [
       "     article_id                                    graph_embedding\n",
       "0       2580216  [0.08142645, -0.07509965, 0.010610695, 0.01480...\n",
       "1       2598631  [0.08516509, -0.080856204, 0.00028427693, 0.02...\n",
       "2       2638743  [0.087407805, -0.0833772, -0.007777944, 0.0308...\n",
       "3       2573814  [0.088380694, -0.09444473, 0.0005020265, 0.018...\n",
       "4       2584626  [0.076347195, -0.08153656, -0.0040088985, 0.02...\n",
       "..          ...                                                ...\n",
       "755     2591357  [0.052337524, -0.056100667, -0.0020478251, 0.0...\n",
       "756     2591471  [0.06850735, -0.08046798, -0.0029436036, 0.021...\n",
       "757     2592919  [0.055196315, -0.06382099, 0.0043505896, 0.012...\n",
       "758     2591270  [0.054832555, -0.06748072, 0.006031511, 0.0117...\n",
       "759     2578161  [0.061071306, -0.070109434, 0.009428407, 0.021...\n",
       "\n",
       "[760 rows x 2 columns]"
      ]
     },
     "execution_count": 7,
     "metadata": {},
     "output_type": "execute_result"
    }
   ],
   "source": [
    "embeddings"
   ]
  }
 ],
 "metadata": {
  "interpreter": {
   "hash": "bdb1f293a72cda3337025d9d00554afb1343cd7218118617db03a8cb5103ebd2"
  },
  "kernelspec": {
   "display_name": "Python 3.8.5 ('base')",
   "language": "python",
   "name": "python3"
  },
  "language_info": {
   "codemirror_mode": {
    "name": "ipython",
    "version": 3
   },
   "file_extension": ".py",
   "mimetype": "text/x-python",
   "name": "python",
   "nbconvert_exporter": "python",
   "pygments_lexer": "ipython3",
   "version": "3.8.5"
  },
  "orig_nbformat": 4
 },
 "nbformat": 4,
 "nbformat_minor": 2
}
