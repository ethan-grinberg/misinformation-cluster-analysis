{
 "cells": [
  {
   "cell_type": "markdown",
   "metadata": {},
   "source": [
    "# Warning\n",
    "\n",
    "don't run all cells at once, visualizations take up a lot of space"
   ]
  },
  {
   "cell_type": "code",
   "execution_count": null,
   "metadata": {},
   "outputs": [],
   "source": [
    "import pandas as pd\n",
    "import numpy as np\n",
    "import networkx as nx\n",
    "import sys\n",
    "from matplotlib import pyplot as plt\n",
    "from functools import reduce\n",
    "import os\n",
    "import altair as alt\n",
    "\n",
    "sys.path.append(\"../src/\")\n",
    "from features.graph_embed import GraphEmbed\n",
    "from models.cluster_graphs import ClusterGraphs\n",
    "from visualization.visualize import Visualize\n",
    "print(\"import done\")"
   ]
  },
  {
   "cell_type": "markdown",
   "metadata": {},
   "source": [
    "## Compiling all analysis types"
   ]
  },
  {
   "cell_type": "code",
   "execution_count": null,
   "metadata": {},
   "outputs": [],
   "source": [
    "cluster_f_name = 'pheme_graphs_clustered.pkl'\n",
    "raw_data = pd.read_csv('../data/raw/pheme/pheme_all_events.csv')"
   ]
  },
  {
   "cell_type": "code",
   "execution_count": null,
   "metadata": {},
   "outputs": [],
   "source": [
    "default_a_type = 'user_level'\n",
    "all_clusters = {}\n",
    "all_graphs = {}\n",
    "all_viz = {}\n",
    "for f in os.listdir(\"../data/archived/\"):\n",
    "    if f.startswith(\".\"):\n",
    "        continue\n",
    "    clusters = pd.read_pickle(os.path.join(\"..\", \"data\", \"archived\", f, cluster_f_name))\n",
    "    clusters['analysis_type'] = f\n",
    "    all_clusters[f] = clusters\n",
    "\n",
    "    graphs = GraphEmbed.read_graphs(clusters)\n",
    "    all_graphs[f] = graphs\n",
    "    all_viz[f] = Visualize(clusters, graphs)\n",
    "\n",
    "clusters = pd.read_pickle(os.path.join(\"..\", \"models\", cluster_f_name))\n",
    "clusters['analysis_type'] = default_a_type\n",
    "all_clusters[default_a_type] = clusters\n",
    "\n",
    "graphs = GraphEmbed.read_graphs(clusters)\n",
    "all_graphs[default_a_type] = graphs\n",
    "all_viz[default_a_type] = Visualize(clusters, graphs)"
   ]
  },
  {
   "cell_type": "code",
   "execution_count": null,
   "metadata": {},
   "outputs": [],
   "source": [
    "analysis_types = list(all_clusters.keys())\n",
    "analysis_types"
   ]
  },
  {
   "cell_type": "code",
   "execution_count": null,
   "metadata": {},
   "outputs": [],
   "source": [
    "all_clusters[analysis_types[0]].columns"
   ]
  },
  {
   "cell_type": "code",
   "execution_count": null,
   "metadata": {},
   "outputs": [],
   "source": [
    "raw_data.title.nunique()"
   ]
  },
  {
   "cell_type": "code",
   "execution_count": null,
   "metadata": {},
   "outputs": [],
   "source": [
    "num_clusters = 3"
   ]
  },
  {
   "cell_type": "code",
   "execution_count": null,
   "metadata": {},
   "outputs": [],
   "source": [
    "cl = ClusterGraphs(clusters)\n",
    "num_clusters, inertias = cl.choose_clust_num_k_means()"
   ]
  },
  {
   "cell_type": "code",
   "execution_count": null,
   "metadata": {},
   "outputs": [],
   "source": [
    "plt.plot(inertias)"
   ]
  },
  {
   "cell_type": "code",
   "execution_count": null,
   "metadata": {},
   "outputs": [],
   "source": [
    "num_clusters"
   ]
  },
  {
   "cell_type": "code",
   "execution_count": null,
   "metadata": {},
   "outputs": [],
   "source": [
    "len(clusters)"
   ]
  },
  {
   "cell_type": "code",
   "execution_count": null,
   "metadata": {},
   "outputs": [],
   "source": [
    "ind_clusts = {}\n",
    "for k, v in all_clusters.items():\n",
    "    clusts = []\n",
    "    for i in range(num_clusters):\n",
    "        clusts.append(v.loc[v.label == i])\n",
    "    ind_clusts[k] = clusts"
   ]
  },
  {
   "cell_type": "markdown",
   "metadata": {},
   "source": [
    "## Exploring Differences between Clusters"
   ]
  },
  {
   "cell_type": "markdown",
   "metadata": {},
   "source": [
    "### Central Network of each cluster"
   ]
  },
  {
   "cell_type": "markdown",
   "metadata": {},
   "source": [
    "#### User Level"
   ]
  },
  {
   "cell_type": "code",
   "execution_count": null,
   "metadata": {},
   "outputs": [],
   "source": [
    "all_viz['user_level'].viz_graphs(clusters.loc[clusters.is_mean_vec == True].id.to_list())"
   ]
  },
  {
   "cell_type": "markdown",
   "metadata": {},
   "source": [
    "#### Tweet Level"
   ]
  },
  {
   "cell_type": "code",
   "execution_count": null,
   "metadata": {},
   "outputs": [],
   "source": [
    "tweet_l = all_clusters['tweet_level']\n",
    "all_viz['tweet_level'].viz_graphs(tweet_l.loc[tweet_l.is_mean_vec == True].id.to_list())"
   ]
  },
  {
   "cell_type": "markdown",
   "metadata": {},
   "source": [
    "### Cluster Size"
   ]
  },
  {
   "cell_type": "code",
   "execution_count": null,
   "metadata": {},
   "outputs": [],
   "source": [
    "all_viz['user_level'].plot_cluster_size()"
   ]
  },
  {
   "cell_type": "code",
   "execution_count": null,
   "metadata": {},
   "outputs": [],
   "source": [
    "all_viz['tweet_level'].plot_cluster_size()"
   ]
  },
  {
   "cell_type": "code",
   "execution_count": null,
   "metadata": {},
   "outputs": [],
   "source": [
    "all_viz['user_level_no_unverified'].plot_cluster_size()"
   ]
  },
  {
   "cell_type": "code",
   "execution_count": null,
   "metadata": {},
   "outputs": [],
   "source": [
    "all_viz['tweet_level_no_unverified'].plot_cluster_size()"
   ]
  },
  {
   "cell_type": "code",
   "execution_count": null,
   "metadata": {},
   "outputs": [],
   "source": [
    "all_viz['user_level'].graph_point_range_cluster_info(True, {\"num_nodes\": \"Number of Nodes\"}, 200, 250, 3)"
   ]
  },
  {
   "cell_type": "code",
   "execution_count": null,
   "metadata": {},
   "outputs": [],
   "source": [
    "all_viz['tweet_level'].graph_point_range_cluster_info(True, {\"num_nodes\": \"Number of Nodes\"}, 200, 250, 3)"
   ]
  },
  {
   "cell_type": "code",
   "execution_count": null,
   "metadata": {},
   "outputs": [],
   "source": [
    "all_viz['user_level'].graph_point_range_cluster_info(True, {\"num_wcc\": \"Number of Components user level\"}, 200, 250, 1)"
   ]
  },
  {
   "cell_type": "code",
   "execution_count": null,
   "metadata": {},
   "outputs": [],
   "source": [
    "all_viz['tweet_level'].graph_point_range_cluster_info(True, {\"num_wcc\": \"Number of Components tweet level\"}, 200, 250, 1)"
   ]
  },
  {
   "cell_type": "code",
   "execution_count": null,
   "metadata": {},
   "outputs": [],
   "source": [
    "all_viz['user_level'].graph_point_range_cluster_info(True, {'largest_wcc': \"Largest Component user level\"}, 200, 250, 3)"
   ]
  },
  {
   "cell_type": "code",
   "execution_count": null,
   "metadata": {},
   "outputs": [],
   "source": [
    "all_viz['tweet_level'].graph_point_range_cluster_info(True, {'largest_wcc': \"Largest Component tweet level\"}, 200, 250, 3)"
   ]
  },
  {
   "cell_type": "code",
   "execution_count": null,
   "metadata": {},
   "outputs": [],
   "source": [
    "all_viz['user_level'].graph_point_range_cluster_info(True, {'diameter_largest_wcc': 'largest component user level'}, 200, 250, 3)"
   ]
  },
  {
   "cell_type": "code",
   "execution_count": null,
   "metadata": {},
   "outputs": [],
   "source": [
    "all_viz['tweet_level'].graph_point_range_cluster_info(True, {'diameter_largest_wcc': 'largest component tweet level'}, 200, 250, 3)"
   ]
  },
  {
   "cell_type": "code",
   "execution_count": null,
   "metadata": {},
   "outputs": [],
   "source": [
    "all_viz['user_level'].graph_point_range_cluster_info(True, {'wiener_index': 'wiener index user level'}, 200, 250, 3)"
   ]
  },
  {
   "cell_type": "code",
   "execution_count": null,
   "metadata": {},
   "outputs": [],
   "source": [
    "all_viz['tweet_level'].graph_point_range_cluster_info(True, {'wiener_index': 'wiener index tweet level'}, 200, 250, 3)"
   ]
  },
  {
   "cell_type": "code",
   "execution_count": null,
   "metadata": {},
   "outputs": [],
   "source": [
    "all_viz['user_level'].graph_point_range_cluster_info(True, {'sentiment_mean': 'sentiment mean user level'}, 200, 250, 3)"
   ]
  },
  {
   "cell_type": "code",
   "execution_count": null,
   "metadata": {},
   "outputs": [],
   "source": [
    "all_viz['tweet_level'].graph_point_range_cluster_info(True, {'sentiment_mean': 'sentiment mean tweet level'}, 200, 250, 3)"
   ]
  },
  {
   "cell_type": "code",
   "execution_count": null,
   "metadata": {},
   "outputs": [],
   "source": [
    "all_viz['user_level'].graph_point_range_cluster_info(True, {'user_friends_count_mean': 'user friend count mean user level'}, 200, 250, 3)"
   ]
  },
  {
   "cell_type": "code",
   "execution_count": null,
   "metadata": {},
   "outputs": [],
   "source": [
    "all_viz['tweet_level'].graph_point_range_cluster_info(True, {'user_friends_count_mean': 'user friend count mean tweet level'}, 200, 250, 3)"
   ]
  },
  {
   "cell_type": "code",
   "execution_count": null,
   "metadata": {},
   "outputs": [],
   "source": [
    "all_viz['user_level'].graph_point_range_cluster_info(True, {'user_follower_count_mean': 'user follower count mean user level'}, 200, 250, 3)"
   ]
  },
  {
   "cell_type": "code",
   "execution_count": null,
   "metadata": {},
   "outputs": [],
   "source": [
    "all_viz['tweet_level'].graph_point_range_cluster_info(True, {'user_follower_count_mean': 'user follower count mean tweet level'}, 200, 250, 3)"
   ]
  },
  {
   "cell_type": "code",
   "execution_count": null,
   "metadata": {},
   "outputs": [],
   "source": [
    "all_viz['user_level'].graph_point_range_cluster_info(True, {'user_tweet_count_mean': 'user tweet count mean user level'}, 200, 250, 3)"
   ]
  },
  {
   "cell_type": "code",
   "execution_count": null,
   "metadata": {},
   "outputs": [],
   "source": [
    "all_viz['tweet_level'].graph_point_range_cluster_info(True, {'user_tweet_count_mean': 'user tweet count mean tweet level'}, 200, 250, 3)"
   ]
  },
  {
   "cell_type": "code",
   "execution_count": null,
   "metadata": {},
   "outputs": [],
   "source": [
    "all_viz['user_level'].graph_point_range_cluster_info(True, {'mentions_count_mean': 'mentions count mean user level'}, 200, 250, 3)"
   ]
  },
  {
   "cell_type": "code",
   "execution_count": null,
   "metadata": {},
   "outputs": [],
   "source": [
    "all_viz['tweet_level'].graph_point_range_cluster_info(True, {'mentions_count_mean': 'mentions count mean tweet level'}, 200, 250, 3)"
   ]
  },
  {
   "cell_type": "code",
   "execution_count": null,
   "metadata": {},
   "outputs": [],
   "source": [
    "all_viz['user_level'].graph_point_range_cluster_info(True, {'favorite_count_mean': 'favorite count mean user level'}, 200, 250, 3)"
   ]
  },
  {
   "cell_type": "code",
   "execution_count": null,
   "metadata": {},
   "outputs": [],
   "source": [
    "all_viz['tweet_level'].graph_point_range_cluster_info(True, {'favorite_count_mean': 'favorite count mean tweet level'}, 200, 250, 3)"
   ]
  },
  {
   "cell_type": "code",
   "execution_count": null,
   "metadata": {},
   "outputs": [],
   "source": [
    "all_viz['user_level'].graph_point_range_cluster_info(True, {'retweet_count_mean': 'retweet count mean user level'}, 200, 250, 3)"
   ]
  },
  {
   "cell_type": "code",
   "execution_count": null,
   "metadata": {},
   "outputs": [],
   "source": [
    "all_viz['tweet_level'].graph_point_range_cluster_info(True, {'retweet_count_mean': 'retweet count mean tweet level'}, 200, 250, 3)"
   ]
  },
  {
   "cell_type": "code",
   "execution_count": null,
   "metadata": {},
   "outputs": [],
   "source": [
    "all_viz['user_level'].graph_point_range_cluster_info(True, {'hashtags_count_mean': 'hashtag count mean user level'}, 200, 250, 3)"
   ]
  },
  {
   "cell_type": "code",
   "execution_count": null,
   "metadata": {},
   "outputs": [],
   "source": [
    "all_viz['tweet_level'].graph_point_range_cluster_info(True, {'hashtags_count_mean': 'hashtag count mean tweet level'}, 200, 250, 3)"
   ]
  },
  {
   "cell_type": "code",
   "execution_count": null,
   "metadata": {},
   "outputs": [],
   "source": [
    "all_viz['user_level'].graph_point_range_cluster_info(True, {'media_count_mean': 'media count mean user level'}, 200, 250, 3)"
   ]
  },
  {
   "cell_type": "code",
   "execution_count": null,
   "metadata": {},
   "outputs": [],
   "source": [
    "all_viz['tweet_level'].graph_point_range_cluster_info(True, {'media_count_mean': 'media count mean tweet level'}, 200, 250, 3)"
   ]
  },
  {
   "cell_type": "code",
   "execution_count": null,
   "metadata": {},
   "outputs": [],
   "source": [
    "all_viz['user_level'].graph_point_range_cluster_info(True, {'urls_mean': 'urls mean user level'}, 200, 250, 3)"
   ]
  },
  {
   "cell_type": "code",
   "execution_count": null,
   "metadata": {},
   "outputs": [],
   "source": [
    "all_viz['tweet_level'].graph_point_range_cluster_info(True, {'urls_mean': 'urls mean tweet level'}, 200, 250, 3)"
   ]
  },
  {
   "cell_type": "code",
   "execution_count": null,
   "metadata": {},
   "outputs": [],
   "source": [
    "all_viz['user_level'].graph_point_range_cluster_info(True, {'mean_user_mentions': 'mean_user_mentions user level'}, 200, 250, 3)"
   ]
  },
  {
   "cell_type": "code",
   "execution_count": null,
   "metadata": {},
   "outputs": [],
   "source": [
    "all_viz['tweet_level'].graph_point_range_cluster_info(True, {'mean_user_mentions': 'mean_user_mentions tweet level'}, 200, 250, 3)"
   ]
  },
  {
   "cell_type": "code",
   "execution_count": null,
   "metadata": {},
   "outputs": [],
   "source": [
    "all_viz['user_level'].graph_point_range_cluster_info(True, {'mean_tweet_len': 'mean tweet len user level'}, 200, 250, 3)"
   ]
  },
  {
   "cell_type": "code",
   "execution_count": null,
   "metadata": {},
   "outputs": [],
   "source": [
    "all_viz['tweet_level'].graph_point_range_cluster_info(True, {'mean_tweet_len': 'mean tweet len tweet level'}, 200, 250, 3)"
   ]
  },
  {
   "cell_type": "code",
   "execution_count": null,
   "metadata": {},
   "outputs": [],
   "source": [
    "all_viz['user_level'].viz_ind_cluster_truth()"
   ]
  },
  {
   "cell_type": "code",
   "execution_count": null,
   "metadata": {},
   "outputs": [],
   "source": [
    "all_viz['tweet_level'].viz_ind_cluster_truth()"
   ]
  },
  {
   "cell_type": "code",
   "execution_count": null,
   "metadata": {},
   "outputs": [],
   "source": [
    "all_viz['tweet_level_no_unverified'].viz_ind_cluster_truth()"
   ]
  },
  {
   "cell_type": "code",
   "execution_count": null,
   "metadata": {},
   "outputs": [],
   "source": [
    "all_viz['user_level'].viz_type_clusters(\"truth\")"
   ]
  },
  {
   "cell_type": "code",
   "execution_count": null,
   "metadata": {},
   "outputs": [],
   "source": [
    "all_viz['tweet_level'].viz_type_clusters(\"truth\")"
   ]
  },
  {
   "cell_type": "code",
   "execution_count": null,
   "metadata": {},
   "outputs": [],
   "source": [
    "all_viz['user_level'].viz_type_clusters(\"event\")"
   ]
  },
  {
   "cell_type": "code",
   "execution_count": null,
   "metadata": {},
   "outputs": [],
   "source": [
    "all_viz['tweet_level'].viz_type_clusters(\"event\")"
   ]
  },
  {
   "cell_type": "code",
   "execution_count": null,
   "metadata": {},
   "outputs": [],
   "source": [
    "all_viz['user_level'].graph_reduced_dimensions([\"id\", \"num_nodes\", \"title\", 'truth', 'event'], 400, 400, \"How Diffusion Networks Vary\")"
   ]
  },
  {
   "cell_type": "code",
   "execution_count": null,
   "metadata": {},
   "outputs": [],
   "source": [
    "all_viz['tweet_level'].graph_reduced_dimensions([\"id\", \"num_nodes\", \"title\", 'truth', 'event'], 400, 400, \"How Diffusion Networks Vary\")"
   ]
  }
 ],
 "metadata": {
  "kernelspec": {
   "display_name": "Python 3.8.5 ('base')",
   "language": "python",
   "name": "python3"
  },
  "language_info": {
   "codemirror_mode": {
    "name": "ipython",
    "version": 3
   },
   "file_extension": ".py",
   "mimetype": "text/x-python",
   "name": "python",
   "nbconvert_exporter": "python",
   "pygments_lexer": "ipython3",
   "version": "3.8.5"
  },
  "orig_nbformat": 4,
  "vscode": {
   "interpreter": {
    "hash": "60015666735a0000599ba2ae15b8f747bd6817ebd70a53af7ea250f075b403ad"
   }
  }
 },
 "nbformat": 4,
 "nbformat_minor": 2
}
