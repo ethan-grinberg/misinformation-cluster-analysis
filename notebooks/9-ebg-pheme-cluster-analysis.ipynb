{
 "cells": [
  {
   "cell_type": "markdown",
   "metadata": {},
   "source": [
    "# Warning\n",
    "\n",
    "don't run all cells at once, visualizations take up a lot of space"
   ]
  },
  {
   "cell_type": "code",
   "execution_count": 213,
   "metadata": {},
   "outputs": [
    {
     "name": "stdout",
     "output_type": "stream",
     "text": [
      "import done\n"
     ]
    }
   ],
   "source": [
    "import pandas as pd\n",
    "import numpy as np\n",
    "import networkx as nx\n",
    "from networkx.drawing.nx_pydot import graphviz_layout\n",
    "import sys\n",
    "from matplotlib import pyplot as plt\n",
    "from functools import reduce\n",
    "import os\n",
    "import altair as alt\n",
    "\n",
    "sys.path.append(\"../src/\")\n",
    "from features.graph_embed import GraphEmbed\n",
    "from models.cluster_graphs import ClusterGraphs\n",
    "from visualization.visualize import Visualize\n",
    "print(\"import done\")"
   ]
  },
  {
   "cell_type": "markdown",
   "metadata": {},
   "source": [
    "## Compiling all analysis types"
   ]
  },
  {
   "cell_type": "code",
   "execution_count": 214,
   "metadata": {},
   "outputs": [
    {
     "name": "stderr",
     "output_type": "stream",
     "text": [
      "<ipython-input-214-5b68a4846b13>:2: DtypeWarning: Columns (0,1) have mixed types. Specify dtype option on import or set low_memory=False.\n",
      "  raw_data = pd.read_csv('../data/raw/pheme/pheme_all_events.csv')\n"
     ]
    }
   ],
   "source": [
    "cluster_f_name = 'pheme_graphs_clustered.pkl'\n",
    "raw_data = pd.read_csv('../data/raw/pheme/pheme_all_events.csv')"
   ]
  },
  {
   "cell_type": "code",
   "execution_count": 215,
   "metadata": {},
   "outputs": [],
   "source": [
    "default_a_type = 'user_level'\n",
    "all_clusters = {}\n",
    "all_graphs = {}\n",
    "all_viz = {}\n",
    "for f in os.listdir(\"../data/archived/\"):\n",
    "    if f.startswith(\".\"):\n",
    "        continue\n",
    "    clusters = pd.read_pickle(os.path.join(\"..\", \"data\", \"archived\", f, cluster_f_name))\n",
    "    clusters['analysis_type'] = f\n",
    "    all_clusters[f] = clusters\n",
    "\n",
    "    graphs = GraphEmbed.read_graphs(clusters)\n",
    "    all_graphs[f] = graphs\n",
    "    all_viz[f] = Visualize(clusters, graphs)\n",
    "\n",
    "clusters = pd.read_pickle(os.path.join(\"..\", \"models\", cluster_f_name))\n",
    "clusters['analysis_type'] = default_a_type\n",
    "all_clusters[default_a_type] = clusters\n",
    "\n",
    "graphs = GraphEmbed.read_graphs(clusters)\n",
    "all_graphs[default_a_type] = graphs\n",
    "all_viz[default_a_type] = Visualize(clusters, graphs)"
   ]
  },
  {
   "cell_type": "code",
   "execution_count": null,
   "metadata": {},
   "outputs": [],
   "source": [
    "analysis_types = list(all_clusters.keys())\n",
    "analysis_types"
   ]
  },
  {
   "cell_type": "code",
   "execution_count": null,
   "metadata": {},
   "outputs": [],
   "source": [
    "all_clusters[analysis_types[0]].columns"
   ]
  },
  {
   "cell_type": "code",
   "execution_count": null,
   "metadata": {},
   "outputs": [],
   "source": [
    "raw_data.title.nunique()"
   ]
  },
  {
   "cell_type": "code",
   "execution_count": null,
   "metadata": {},
   "outputs": [],
   "source": [
    "num_clusters = 3"
   ]
  },
  {
   "cell_type": "code",
   "execution_count": null,
   "metadata": {},
   "outputs": [],
   "source": [
    "cl = ClusterGraphs(clusters)\n",
    "num_clusters, inertias = cl.choose_clust_num_k_means()"
   ]
  },
  {
   "cell_type": "code",
   "execution_count": null,
   "metadata": {},
   "outputs": [],
   "source": [
    "plt.plot(inertias)"
   ]
  },
  {
   "cell_type": "code",
   "execution_count": null,
   "metadata": {},
   "outputs": [],
   "source": [
    "num_clusters"
   ]
  },
  {
   "cell_type": "code",
   "execution_count": null,
   "metadata": {},
   "outputs": [],
   "source": [
    "len(clusters)"
   ]
  },
  {
   "cell_type": "code",
   "execution_count": null,
   "metadata": {},
   "outputs": [],
   "source": [
    "ind_clusts = {}\n",
    "for k, v in all_clusters.items():\n",
    "    clusts = []\n",
    "    for i in range(num_clusters):\n",
    "        clusts.append(v.loc[v.label == i])\n",
    "    ind_clusts[k] = clusts"
   ]
  },
  {
   "cell_type": "markdown",
   "metadata": {},
   "source": [
    "## Exploring Differences between Clusters"
   ]
  },
  {
   "cell_type": "markdown",
   "metadata": {},
   "source": [
    "### Central Network of each cluster"
   ]
  },
  {
   "cell_type": "markdown",
   "metadata": {},
   "source": [
    "#### User Level"
   ]
  },
  {
   "cell_type": "code",
   "execution_count": null,
   "metadata": {},
   "outputs": [],
   "source": [
    "all_viz['user_level'].viz_graphs(clusters.loc[clusters.is_mean_vec == True].id.to_list())"
   ]
  },
  {
   "cell_type": "markdown",
   "metadata": {},
   "source": [
    "#### Tweet Level"
   ]
  },
  {
   "cell_type": "code",
   "execution_count": null,
   "metadata": {},
   "outputs": [],
   "source": [
    "tweet_l = all_clusters['tweet_level']\n",
    "all_viz['tweet_level'].viz_graphs(tweet_l.loc[tweet_l.is_mean_vec == True].id.to_list())"
   ]
  },
  {
   "cell_type": "markdown",
   "metadata": {},
   "source": [
    "### Cluster Size"
   ]
  },
  {
   "cell_type": "code",
   "execution_count": null,
   "metadata": {},
   "outputs": [],
   "source": [
    "all_viz['user_level'].plot_cluster_size()"
   ]
  },
  {
   "cell_type": "code",
   "execution_count": null,
   "metadata": {},
   "outputs": [],
   "source": [
    "all_viz['tweet_level'].plot_cluster_size()"
   ]
  },
  {
   "cell_type": "code",
   "execution_count": null,
   "metadata": {},
   "outputs": [],
   "source": [
    "all_viz['user_level_no_unverified'].plot_cluster_size()"
   ]
  },
  {
   "cell_type": "code",
   "execution_count": null,
   "metadata": {},
   "outputs": [],
   "source": [
    "all_viz['tweet_level_no_unverified'].plot_cluster_size()"
   ]
  },
  {
   "cell_type": "markdown",
   "metadata": {},
   "source": [
    "### Topological Features"
   ]
  },
  {
   "cell_type": "code",
   "execution_count": null,
   "metadata": {},
   "outputs": [],
   "source": [
    "all_viz['user_level'].graph_point_range_cluster_info(True, {\"num_nodes\": \"Number of Nodes\"}, 200, 250, 3)"
   ]
  },
  {
   "cell_type": "code",
   "execution_count": null,
   "metadata": {},
   "outputs": [],
   "source": [
    "all_viz['tweet_level'].graph_point_range_cluster_info(True, {\"num_nodes\": \"Number of Nodes\"}, 200, 250, 3)"
   ]
  },
  {
   "cell_type": "code",
   "execution_count": null,
   "metadata": {},
   "outputs": [],
   "source": [
    "all_viz['user_level'].graph_point_range_cluster_info(True, {\"num_wcc\": \"Number of Components user level\"}, 200, 250, 1)"
   ]
  },
  {
   "cell_type": "code",
   "execution_count": null,
   "metadata": {},
   "outputs": [],
   "source": [
    "all_viz['tweet_level'].graph_point_range_cluster_info(True, {\"num_wcc\": \"Number of Components tweet level\"}, 200, 250, 1)"
   ]
  },
  {
   "cell_type": "code",
   "execution_count": null,
   "metadata": {},
   "outputs": [],
   "source": [
    "all_viz['user_level'].graph_point_range_cluster_info(True, {'largest_wcc': \"Largest Component user level\"}, 200, 250, 3)"
   ]
  },
  {
   "cell_type": "code",
   "execution_count": null,
   "metadata": {},
   "outputs": [],
   "source": [
    "all_viz['tweet_level'].graph_point_range_cluster_info(True, {'largest_wcc': \"Largest Component tweet level\"}, 200, 250, 3)"
   ]
  },
  {
   "cell_type": "code",
   "execution_count": null,
   "metadata": {},
   "outputs": [],
   "source": [
    "all_viz['user_level'].graph_point_range_cluster_info(True, {'diameter_largest_wcc': 'largest component user level'}, 200, 250, 3)"
   ]
  },
  {
   "cell_type": "code",
   "execution_count": null,
   "metadata": {},
   "outputs": [],
   "source": [
    "all_viz['tweet_level'].graph_point_range_cluster_info(True, {'diameter_largest_wcc': 'largest component tweet level'}, 200, 250, 3)"
   ]
  },
  {
   "cell_type": "code",
   "execution_count": null,
   "metadata": {},
   "outputs": [],
   "source": [
    "all_viz['user_level'].graph_point_range_cluster_info(True, {'wiener_index': 'wiener index user level'}, 200, 250, 3)"
   ]
  },
  {
   "cell_type": "code",
   "execution_count": null,
   "metadata": {},
   "outputs": [],
   "source": [
    "all_viz['tweet_level'].graph_point_range_cluster_info(True, {'wiener_index': 'wiener index tweet level'}, 200, 250, 3)"
   ]
  },
  {
   "cell_type": "markdown",
   "metadata": {},
   "source": [
    "### Text Features"
   ]
  },
  {
   "cell_type": "code",
   "execution_count": null,
   "metadata": {},
   "outputs": [],
   "source": [
    "all_viz['user_level'].graph_point_range_cluster_info(True, {'sentiment_mean': 'sentiment mean user level'}, 200, 250, 3)"
   ]
  },
  {
   "cell_type": "code",
   "execution_count": null,
   "metadata": {},
   "outputs": [],
   "source": [
    "all_viz['tweet_level'].graph_point_range_cluster_info(True, {'sentiment_mean': 'sentiment mean tweet level'}, 200, 250, 3)"
   ]
  },
  {
   "cell_type": "code",
   "execution_count": null,
   "metadata": {},
   "outputs": [],
   "source": [
    "all_viz['user_level'].graph_point_range_cluster_info(True, {'mean_tweet_len': 'mean tweet len user level'}, 200, 250, 3)"
   ]
  },
  {
   "cell_type": "code",
   "execution_count": null,
   "metadata": {},
   "outputs": [],
   "source": [
    "all_viz['tweet_level'].graph_point_range_cluster_info(True, {'mean_tweet_len': 'mean tweet len tweet level'}, 200, 250, 3)"
   ]
  },
  {
   "cell_type": "markdown",
   "metadata": {},
   "source": [
    "### Social Features"
   ]
  },
  {
   "cell_type": "code",
   "execution_count": null,
   "metadata": {},
   "outputs": [],
   "source": [
    "all_viz['user_level'].graph_point_range_cluster_info(True, {'user_friends_count_mean': 'user friend count mean user level'}, 200, 250, 3)"
   ]
  },
  {
   "cell_type": "code",
   "execution_count": null,
   "metadata": {},
   "outputs": [],
   "source": [
    "all_viz['tweet_level'].graph_point_range_cluster_info(True, {'user_friends_count_mean': 'user friend count mean tweet level'}, 200, 250, 3)"
   ]
  },
  {
   "cell_type": "code",
   "execution_count": null,
   "metadata": {},
   "outputs": [],
   "source": [
    "all_viz['user_level'].graph_point_range_cluster_info(True, {'user_follower_count_mean': 'user follower count mean user level'}, 200, 250, 3)"
   ]
  },
  {
   "cell_type": "code",
   "execution_count": null,
   "metadata": {},
   "outputs": [],
   "source": [
    "all_viz['tweet_level'].graph_point_range_cluster_info(True, {'user_follower_count_mean': 'user follower count mean tweet level'}, 200, 250, 3)"
   ]
  },
  {
   "cell_type": "code",
   "execution_count": null,
   "metadata": {},
   "outputs": [],
   "source": [
    "all_viz['user_level'].graph_point_range_cluster_info(True, {'user_tweet_count_mean': 'user tweet count mean user level'}, 200, 250, 3)"
   ]
  },
  {
   "cell_type": "code",
   "execution_count": null,
   "metadata": {},
   "outputs": [],
   "source": [
    "all_viz['tweet_level'].graph_point_range_cluster_info(True, {'user_tweet_count_mean': 'user tweet count mean tweet level'}, 200, 250, 3)"
   ]
  },
  {
   "cell_type": "code",
   "execution_count": null,
   "metadata": {},
   "outputs": [],
   "source": [
    "all_viz['user_level'].graph_point_range_cluster_info(True, {'mentions_count_mean': 'mentions count mean user level'}, 200, 250, 3)"
   ]
  },
  {
   "cell_type": "code",
   "execution_count": null,
   "metadata": {},
   "outputs": [],
   "source": [
    "all_viz['tweet_level'].graph_point_range_cluster_info(True, {'mentions_count_mean': 'mentions count mean tweet level'}, 200, 250, 3)"
   ]
  },
  {
   "cell_type": "code",
   "execution_count": null,
   "metadata": {},
   "outputs": [],
   "source": [
    "all_viz['user_level'].graph_point_range_cluster_info(True, {'favorite_count_mean': 'favorite count mean user level'}, 200, 250, 3)"
   ]
  },
  {
   "cell_type": "code",
   "execution_count": null,
   "metadata": {},
   "outputs": [],
   "source": [
    "all_viz['tweet_level'].graph_point_range_cluster_info(True, {'favorite_count_mean': 'favorite count mean tweet level'}, 200, 250, 3)"
   ]
  },
  {
   "cell_type": "code",
   "execution_count": null,
   "metadata": {},
   "outputs": [],
   "source": [
    "all_viz['user_level'].graph_point_range_cluster_info(True, {'retweet_count_mean': 'retweet count mean user level'}, 200, 250, 3)"
   ]
  },
  {
   "cell_type": "code",
   "execution_count": null,
   "metadata": {},
   "outputs": [],
   "source": [
    "all_viz['tweet_level'].graph_point_range_cluster_info(True, {'retweet_count_mean': 'retweet count mean tweet level'}, 200, 250, 3)"
   ]
  },
  {
   "cell_type": "code",
   "execution_count": null,
   "metadata": {},
   "outputs": [],
   "source": [
    "all_viz['user_level'].graph_point_range_cluster_info(True, {'hashtags_count_mean': 'hashtag count mean user level'}, 200, 250, 3)"
   ]
  },
  {
   "cell_type": "code",
   "execution_count": null,
   "metadata": {},
   "outputs": [],
   "source": [
    "all_viz['tweet_level'].graph_point_range_cluster_info(True, {'hashtags_count_mean': 'hashtag count mean tweet level'}, 200, 250, 3)"
   ]
  },
  {
   "cell_type": "code",
   "execution_count": null,
   "metadata": {},
   "outputs": [],
   "source": [
    "all_viz['user_level'].graph_point_range_cluster_info(True, {'media_count_mean': 'media count mean user level'}, 200, 250, 3)"
   ]
  },
  {
   "cell_type": "code",
   "execution_count": null,
   "metadata": {},
   "outputs": [],
   "source": [
    "all_viz['tweet_level'].graph_point_range_cluster_info(True, {'media_count_mean': 'media count mean tweet level'}, 200, 250, 3)"
   ]
  },
  {
   "cell_type": "code",
   "execution_count": null,
   "metadata": {},
   "outputs": [],
   "source": [
    "all_viz['user_level'].graph_point_range_cluster_info(True, {'urls_mean': 'urls mean user level'}, 200, 250, 3)"
   ]
  },
  {
   "cell_type": "code",
   "execution_count": null,
   "metadata": {},
   "outputs": [],
   "source": [
    "all_viz['tweet_level'].graph_point_range_cluster_info(True, {'urls_mean': 'urls mean tweet level'}, 200, 250, 3)"
   ]
  },
  {
   "cell_type": "code",
   "execution_count": null,
   "metadata": {},
   "outputs": [],
   "source": [
    "all_viz['user_level'].graph_point_range_cluster_info(True, {'mean_user_mentions': 'mean_user_mentions user level'}, 200, 250, 3)"
   ]
  },
  {
   "cell_type": "code",
   "execution_count": null,
   "metadata": {},
   "outputs": [],
   "source": [
    "all_viz['tweet_level'].graph_point_range_cluster_info(True, {'mean_user_mentions': 'mean_user_mentions tweet level'}, 200, 250, 3)"
   ]
  },
  {
   "cell_type": "code",
   "execution_count": null,
   "metadata": {},
   "outputs": [],
   "source": [
    "all_viz['user_level'].viz_ind_cluster_truth()"
   ]
  },
  {
   "cell_type": "code",
   "execution_count": null,
   "metadata": {},
   "outputs": [],
   "source": [
    "all_viz['tweet_level'].viz_ind_cluster_truth()"
   ]
  },
  {
   "cell_type": "code",
   "execution_count": null,
   "metadata": {},
   "outputs": [],
   "source": [
    "all_viz['tweet_level_no_unverified'].viz_ind_cluster_truth()"
   ]
  },
  {
   "cell_type": "code",
   "execution_count": null,
   "metadata": {},
   "outputs": [],
   "source": [
    "all_viz['user_level'].viz_type_clusters(\"truth\")"
   ]
  },
  {
   "cell_type": "code",
   "execution_count": null,
   "metadata": {},
   "outputs": [],
   "source": [
    "all_viz['tweet_level'].viz_type_clusters(\"truth\")"
   ]
  },
  {
   "cell_type": "code",
   "execution_count": null,
   "metadata": {},
   "outputs": [],
   "source": [
    "all_viz['user_level'].viz_type_clusters(\"event\")"
   ]
  },
  {
   "cell_type": "code",
   "execution_count": null,
   "metadata": {},
   "outputs": [],
   "source": [
    "all_viz['tweet_level'].viz_type_clusters(\"event\")"
   ]
  },
  {
   "cell_type": "code",
   "execution_count": null,
   "metadata": {},
   "outputs": [],
   "source": [
    "all_viz['user_level'].graph_reduced_dimensions([\"id\", \"num_nodes\", \"title\", 'truth', 'event'], 400, 400, \"How Diffusion Networks Vary\")"
   ]
  },
  {
   "cell_type": "code",
   "execution_count": null,
   "metadata": {},
   "outputs": [],
   "source": [
    "all_viz['tweet_level'].graph_reduced_dimensions([\"id\", \"num_nodes\", \"title\", 'truth', 'event'], 400, 400, \"How Diffusion Networks Vary\")"
   ]
  },
  {
   "cell_type": "markdown",
   "metadata": {},
   "source": [
    "## Random Tweet Level Networks"
   ]
  },
  {
   "cell_type": "code",
   "execution_count": null,
   "metadata": {},
   "outputs": [],
   "source": [
    "rand_ids = [ind_clusts['tweet_level'][0].sample().id.values[0], ind_clusts['tweet_level'][1].sample().id.values[0], ind_clusts['tweet_level'][2].sample().id.values[0]]\n",
    "all_viz['tweet_level'].viz_graphs(rand_ids)"
   ]
  },
  {
   "cell_type": "markdown",
   "metadata": {},
   "source": [
    "## Trying to understand thread structure"
   ]
  },
  {
   "cell_type": "code",
   "execution_count": 282,
   "metadata": {},
   "outputs": [],
   "source": [
    "def all_keys(dict_obj):\n",
    "    ''' This function generates all keys of\n",
    "        a nested dictionary. \n",
    "    '''\n",
    "    # Iterate over all keys of the dictionary\n",
    "    for key , value in dict_obj.items():\n",
    "        yield key\n",
    "        # If value is of dictionary type then yield all keys\n",
    "        # in that nested dictionary\n",
    "        if isinstance(value, dict):\n",
    "            for k in all_keys(value):\n",
    "                yield k"
   ]
  },
  {
   "cell_type": "code",
   "execution_count": 283,
   "metadata": {},
   "outputs": [],
   "source": [
    "def recursive_g(g, dic):\n",
    "    if not isinstance(dic, dict):\n",
    "        return\n",
    "    for k,v in dic.items():\n",
    "        if isinstance(v, dict):\n",
    "            for con in v.keys():\n",
    "                g.add_edge(k, con)\n",
    "            recursive_g(g, v)"
   ]
  },
  {
   "cell_type": "code",
   "execution_count": 216,
   "metadata": {},
   "outputs": [],
   "source": [
    "rand_id = 524944399890124801\n",
    "test_net = tweet_l.loc[tweet_l.id == rand_id]\n",
    "struct = {\"524944399890124801\":{\"524945108291297280\":[],\"524945130113863680\":[],\"524945376911314945\":[],\"524946532416884736\":{\"524949253312217088\":{\"524951483872444416\":{\"524967855105007616\":{\"524969433308340224\":{\"524970090912313345\":{\"524971261005660160\":{\"524971862682767360\":{\"524972557116915712\":[]}},\"524971624093982721\":[]},\"524970408479850496\":[]}}}}},\"524946767209459712\":[],\"524946868887756801\":[],\"524948340057047040\":[],\"524948893633871872\":[],\"524952198170836992\":{\"524952535548063745\":{\"524953373200891904\":{\"524953954111995904\":[]}}}}}\n",
    "test_g = all_graphs['tweet_level'][rand_id]\n",
    "test_raw = raw_data.loc[raw_data.thread == rand_id]"
   ]
  },
  {
   "cell_type": "code",
   "execution_count": 221,
   "metadata": {},
   "outputs": [],
   "source": [
    "test_raw = test_raw.loc[test_raw.is_source_tweet != 1].copy()\n",
    "test_raw['in_reply_tweet'] = test_raw['in_reply_tweet'].astype(np.int64)\n",
    "test_raw['in_reply_user'] = test_raw['in_reply_user'].astype(np.int64)"
   ]
  },
  {
   "cell_type": "code",
   "execution_count": 285,
   "metadata": {},
   "outputs": [],
   "source": [
    "all_ids = []\n",
    "for key in all_keys(struct):\n",
    "    all_ids.append(int(key))"
   ]
  },
  {
   "cell_type": "code",
   "execution_count": 226,
   "metadata": {},
   "outputs": [],
   "source": [
    "tweets = set(test_raw.tweet_id.unique())\n",
    "replies = set(test_raw.in_reply_tweet.unique())\n",
    "all_tweets = tweets.union(replies)"
   ]
  },
  {
   "cell_type": "code",
   "execution_count": 227,
   "metadata": {},
   "outputs": [
    {
     "data": {
      "text/plain": [
       "26"
      ]
     },
     "execution_count": 227,
     "metadata": {},
     "output_type": "execute_result"
    }
   ],
   "source": [
    "len(all_tweets)"
   ]
  },
  {
   "cell_type": "code",
   "execution_count": 287,
   "metadata": {},
   "outputs": [
    {
     "data": {
      "text/plain": [
       "23"
      ]
     },
     "execution_count": 287,
     "metadata": {},
     "output_type": "execute_result"
    }
   ],
   "source": [
    "len(all_ids)"
   ]
  },
  {
   "cell_type": "code",
   "execution_count": 288,
   "metadata": {},
   "outputs": [],
   "source": [
    "thread_structure = nx.Graph()\n",
    "recursive_g(thread_structure, struct)\n",
    "nodes_thread = list(thread_structure.nodes)\n",
    "mapping_thread = {nodes_thread[i]: i for i in range(len(nodes_thread))}\n",
    "thread_structure = nx.relabel_nodes(thread_structure, mapping_thread)"
   ]
  },
  {
   "cell_type": "code",
   "execution_count": 289,
   "metadata": {},
   "outputs": [],
   "source": [
    "g = nx.from_pandas_edgelist(test_raw, \"tweet_id\", \"in_reply_tweet\", create_using=nx.DiGraph)\n",
    "nodes = list(g.nodes)\n",
    "mapping = {nodes[i]: i for i in range(len(nodes))}\n",
    "g= nx.relabel_nodes(g, mapping)"
   ]
  },
  {
   "cell_type": "code",
   "execution_count": 295,
   "metadata": {},
   "outputs": [],
   "source": [
    "dif = all_tweets.difference(set(all_ids))"
   ]
  },
  {
   "cell_type": "code",
   "execution_count": 291,
   "metadata": {},
   "outputs": [
    {
     "name": "stdout",
     "output_type": "stream",
     "text": [
      "524944399890124800 1\n",
      "524946532416884800 10\n",
      "524952535548063680 15\n",
      "524970090912313280 22\n"
     ]
    }
   ],
   "source": [
    "for i in dif:\n",
    "    print(i, mapping[i])"
   ]
  },
  {
   "cell_type": "code",
   "execution_count": 270,
   "metadata": {},
   "outputs": [
    {
     "data": {
      "image/png": "[encoded data removed]",
      "text/plain": [
       "<Figure size 432x288 with 1 Axes>"
      ]
     },
     "metadata": {},
     "output_type": "display_data"
    }
   ],
   "source": [
    "pos = graphviz_layout(g, prog=\"dot\")\n",
    "nx.draw(g, pos=pos, with_labels=True)"
   ]
  },
  {
   "cell_type": "code",
   "execution_count": 281,
   "metadata": {},
   "outputs": [
    {
     "data": {
      "image/png": "[encoded data removed]",
      "text/plain": [
       "<Figure size 432x288 with 1 Axes>"
      ]
     },
     "metadata": {},
     "output_type": "display_data"
    }
   ],
   "source": [
    "nx.draw(thread_structure, with_labels=True)"
   ]
  },
  {
   "cell_type": "code",
   "execution_count": 294,
   "metadata": {},
   "outputs": [
    {
     "data": {
      "text/plain": [
       "{524945108291297280: 0,\n",
       " 524944399890124800: 1,\n",
       " 524945130113863680: 2,\n",
       " 524945376911314945: 3,\n",
       " 524946532416884736: 4,\n",
       " 524946767209459712: 5,\n",
       " 524946868887756801: 6,\n",
       " 524948340057047040: 7,\n",
       " 524948893633871872: 8,\n",
       " 524949253312217088: 9,\n",
       " 524946532416884800: 10,\n",
       " 524951483872444416: 11,\n",
       " 524952198170836992: 12,\n",
       " 524952535548063745: 13,\n",
       " 524953373200891904: 14,\n",
       " 524952535548063680: 15,\n",
       " 524953954111995904: 16,\n",
       " 524967855105007616: 17,\n",
       " 524969433308340224: 18,\n",
       " 524970090912313345: 19,\n",
       " 524970408479850496: 20,\n",
       " 524971261005660160: 21,\n",
       " 524970090912313280: 22,\n",
       " 524971624093982721: 23,\n",
       " 524971862682767360: 24,\n",
       " 524972557116915712: 25}"
      ]
     },
     "execution_count": 294,
     "metadata": {},
     "output_type": "execute_result"
    }
   ],
   "source": [
    "mapping"
   ]
  },
  {
   "cell_type": "code",
   "execution_count": 293,
   "metadata": {},
   "outputs": [
    {
     "data": {
      "text/plain": [
       "{'524944399890124801': 0,\n",
       " '524945108291297280': 1,\n",
       " '524945130113863680': 2,\n",
       " '524945376911314945': 3,\n",
       " '524946532416884736': 4,\n",
       " '524946767209459712': 5,\n",
       " '524946868887756801': 6,\n",
       " '524948340057047040': 7,\n",
       " '524948893633871872': 8,\n",
       " '524952198170836992': 9,\n",
       " '524949253312217088': 10,\n",
       " '524951483872444416': 11,\n",
       " '524967855105007616': 12,\n",
       " '524969433308340224': 13,\n",
       " '524970090912313345': 14,\n",
       " '524970408479850496': 15,\n",
       " '524971261005660160': 16,\n",
       " '524971624093982721': 17,\n",
       " '524971862682767360': 18,\n",
       " '524972557116915712': 19,\n",
       " '524952535548063745': 20,\n",
       " '524953373200891904': 21,\n",
       " '524953954111995904': 22}"
      ]
     },
     "execution_count": 293,
     "metadata": {},
     "output_type": "execute_result"
    }
   ],
   "source": [
    "mapping_thread"
   ]
  }
 ],
 "metadata": {
  "kernelspec": {
   "display_name": "Python 3.8.5 ('base')",
   "language": "python",
   "name": "python3"
  },
  "language_info": {
   "codemirror_mode": {
    "name": "ipython",
    "version": 3
   },
   "file_extension": ".py",
   "mimetype": "text/x-python",
   "name": "python",
   "nbconvert_exporter": "python",
   "pygments_lexer": "ipython3",
   "version": "3.8.5"
  },
  "orig_nbformat": 4,
  "vscode": {
   "interpreter": {
    "hash": "60015666735a0000599ba2ae15b8f747bd6817ebd70a53af7ea250f075b403ad"
   }
  }
 },
 "nbformat": 4,
 "nbformat_minor": 2
}
