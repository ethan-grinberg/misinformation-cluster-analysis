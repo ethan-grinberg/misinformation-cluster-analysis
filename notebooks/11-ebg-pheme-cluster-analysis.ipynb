{
 "cells": [
  {
   "cell_type": "code",
   "execution_count": null,
   "metadata": {},
   "outputs": [],
   "source": [
    "import pandas as pd\n",
    "import numpy as np\n",
    "import networkx as nx\n",
    "from networkx.drawing.nx_pydot import graphviz_layout\n",
    "import sys\n",
    "from matplotlib import pyplot as plt\n",
    "from functools import reduce\n",
    "import os\n",
    "import altair as alt\n",
    "\n",
    "sys.path.append(\"../src/\")\n",
    "from features.graph_embed import GraphEmbed\n",
    "from models.cluster_graphs import ClusterGraphs\n",
    "from visualization.visualize import Visualize\n",
    "print(\"import done\")"
   ]
  },
  {
   "cell_type": "code",
   "execution_count": null,
   "metadata": {},
   "outputs": [],
   "source": [
    "cluster_f_name = 'pheme_graphs_clustered.pkl'\n",
    "raw_data = pd.read_csv('../data/raw/pheme/pheme_all_events.csv')\n",
    "clusters = pd.read_pickle(os.path.join(\"..\", \"models\", cluster_f_name))\n",
    "\n",
    "drop_small_events = False"
   ]
  },
  {
   "cell_type": "code",
   "execution_count": null,
   "metadata": {},
   "outputs": [],
   "source": [
    "if drop_small_events:\n",
    "    clusters = clusters.groupby('event').filter(lambda x: len(x) > 6)\n",
    "\n",
    "graphs = GraphEmbed.read_graphs(clusters)\n",
    "viz = Visualize(clusters, graphs)"
   ]
  },
  {
   "cell_type": "markdown",
   "metadata": {},
   "source": [
    "# Clustering test"
   ]
  },
  {
   "cell_type": "code",
   "execution_count": null,
   "metadata": {},
   "outputs": [],
   "source": [
    "from sklearn.preprocessing import StandardScaler\n",
    "from sklearn.cluster import KMeans\n",
    "from kneed import KneeLocator\n",
    "from sklearn.manifold import TSNE"
   ]
  },
  {
   "cell_type": "code",
   "execution_count": null,
   "metadata": {},
   "outputs": [],
   "source": [
    "def choose_clust_num_k_means(graph_vecs, end=11):\n",
    "        inertias = []\n",
    "        for i in range(1, end):\n",
    "            kmeans = KMeans(n_clusters=i, random_state=0)\n",
    "            kmeans.fit(graph_vecs)\n",
    "\n",
    "            inertia = kmeans.inertia_\n",
    "            inertias.append(inertia)\n",
    "\n",
    "        # choose best cluster num\n",
    "        kneedle = KneeLocator(\n",
    "            range(1, end), inertias, S=1.0, curve=\"convex\", direction=\"decreasing\"\n",
    "        )\n",
    "        return kneedle.elbow, inertias\n",
    "    \n",
    "def cluster_k_means_clusters(graph_vecs, n_clusters=None):\n",
    "    if n_clusters is None:\n",
    "        n_clusters, inertias = choose_clust_num_k_means(graph_vecs)\n",
    "    \n",
    "    kmeans = KMeans(n_clusters=n_clusters, random_state=0)\n",
    "    kmeans.fit(graph_vecs)\n",
    "\n",
    "    return pd.Series(kmeans.labels_)\n",
    "\n",
    "def graph_reduced_dimensions(X, labels, width, height, title):\n",
    "        tsne = TSNE(2)\n",
    "        two_d = tsne.fit_transform(X)\n",
    "\n",
    "        components = pd.DataFrame(two_d, columns=['dimension 1', 'dimension 2'])\n",
    "        components['label'] = labels\n",
    "        \n",
    "        chart = alt.Chart(components).mark_circle(size=60).encode(\n",
    "                    x='dimension 1',\n",
    "                    y='dimension 2',\n",
    "                    color='label:N'\n",
    "                ).properties(title=title, width=width, height=height).interactive()\n",
    "        \n",
    "        chart = chart.configure_title(fontSize=25, fontWeight='bold')\n",
    "        chart = chart.configure_header(titleFontSize=25, titleFontWeight='bold')\n",
    "        chart = chart.configure_legend(titleFontSize=25, labelFontSize=20, labelFontWeight='bold', titleFontWeight='bold')\n",
    "        chart = chart.configure_axis(grid=False, titleFontSize=20, labelFontSize=15, labelAngle=0)\n",
    "\n",
    "        return chart"
   ]
  },
  {
   "cell_type": "code",
   "execution_count": null,
   "metadata": {},
   "outputs": [],
   "source": [
    "clusters.columns"
   ]
  },
  {
   "cell_type": "code",
   "execution_count": null,
   "metadata": {},
   "outputs": [],
   "source": [
    "X = clusters.loc[:, ['time_per_node', 'nodes_per_thread', 'largest_wcc', 'diameter_largest_wcc', 'num_nodes', 'sentiment_mean', 'user_tweet_count_mean', 'urls_mean', 'media_count_mean', 'user_follower_count_mean', 'user_friends_count_mean', 'num_edges', 'unverified']]\n",
    "\n",
    "scaler = StandardScaler()\n",
    "X = scaler.fit_transform(X)\n",
    "labels = cluster_k_means_clusters(X, n_clusters=3)\n",
    "graph_reduced_dimensions(X, labels, 200, 300, 'test')"
   ]
  },
  {
   "cell_type": "code",
   "execution_count": null,
   "metadata": {},
   "outputs": [],
   "source": [
    "labels.value_counts()"
   ]
  },
  {
   "cell_type": "markdown",
   "metadata": {},
   "source": [
    "# Overview\n",
    "\n",
    "Data: Each network is a combination of all rumour threads relating to a specific rumour. All pheme rumours are included except ones that don't have any edges"
   ]
  },
  {
   "cell_type": "code",
   "execution_count": null,
   "metadata": {},
   "outputs": [],
   "source": [
    "numerics = ['int16', 'int32', 'int64', 'float16', 'float32', 'float64']\n",
    "numeric_features = clusters.select_dtypes(numerics).copy()\n",
    "numeric_features.columns"
   ]
  },
  {
   "cell_type": "markdown",
   "metadata": {},
   "source": [
    "## Clustering stats"
   ]
  },
  {
   "cell_type": "code",
   "execution_count": null,
   "metadata": {},
   "outputs": [],
   "source": [
    "cl = ClusterGraphs(clusters)\n",
    "num_clusters, inertias = cl.choose_clust_num_k_means()\n",
    "plt.plot(inertias)"
   ]
  },
  {
   "cell_type": "code",
   "execution_count": null,
   "metadata": {},
   "outputs": [],
   "source": [
    "num_clusters"
   ]
  },
  {
   "cell_type": "code",
   "execution_count": null,
   "metadata": {},
   "outputs": [],
   "source": [
    "len(clusters)"
   ]
  },
  {
   "cell_type": "markdown",
   "metadata": {},
   "source": [
    "## Descriptive Stats"
   ]
  },
  {
   "cell_type": "code",
   "execution_count": null,
   "metadata": {},
   "outputs": [],
   "source": [
    "clusters.loc[:, ['num_threads', 'num_nodes', 'num_edges', 'num_wcc', 'largest_wcc',\n",
    "       'diameter_largest_wcc', 'max_out_degree', 'max_in_degree',\n",
    "       'mean_out_degree', 'mean_in_degree', 'wiener_index', 'nodes_per_thread']].describe()"
   ]
  },
  {
   "cell_type": "code",
   "execution_count": null,
   "metadata": {},
   "outputs": [],
   "source": [
    "clusters.event.value_counts()"
   ]
  },
  {
   "cell_type": "code",
   "execution_count": null,
   "metadata": {},
   "outputs": [],
   "source": [
    "clusters.truth.value_counts()"
   ]
  },
  {
   "cell_type": "code",
   "execution_count": null,
   "metadata": {},
   "outputs": [],
   "source": [
    "viz.graph_point_range_cluster_info(False, ['num_threads'], 300, 250, 1, 'event')"
   ]
  },
  {
   "cell_type": "code",
   "execution_count": null,
   "metadata": {},
   "outputs": [],
   "source": [
    "viz.graph_point_range_cluster_info(False, ['num_nodes'], 300, 250, 1, 'event')"
   ]
  },
  {
   "cell_type": "code",
   "execution_count": null,
   "metadata": {},
   "outputs": [],
   "source": [
    "viz.graph_point_range_cluster_info(False, ['nodes_per_thread'], 300, 250, 1, 'event')"
   ]
  },
  {
   "cell_type": "markdown",
   "metadata": {},
   "source": [
    "# Exploring Differences between Clusters"
   ]
  },
  {
   "cell_type": "markdown",
   "metadata": {},
   "source": [
    "## Central Network of Each cluster"
   ]
  },
  {
   "cell_type": "code",
   "execution_count": null,
   "metadata": {},
   "outputs": [],
   "source": [
    "viz.viz_graphs(clusters.loc[clusters.is_mean_vec == True].id.to_list())"
   ]
  },
  {
   "cell_type": "markdown",
   "metadata": {},
   "source": [
    "## Cluster Size"
   ]
  },
  {
   "cell_type": "code",
   "execution_count": null,
   "metadata": {},
   "outputs": [],
   "source": [
    "viz.plot_cluster_size()"
   ]
  },
  {
   "cell_type": "markdown",
   "metadata": {},
   "source": [
    "## Truth Composition of Each cluster"
   ]
  },
  {
   "cell_type": "code",
   "execution_count": null,
   "metadata": {},
   "outputs": [],
   "source": [
    "viz.viz_ind_cluster_truth()"
   ]
  },
  {
   "cell_type": "markdown",
   "metadata": {},
   "source": [
    "## Topological Features"
   ]
  },
  {
   "cell_type": "code",
   "execution_count": null,
   "metadata": {},
   "outputs": [],
   "source": [
    "viz.graph_point_range_cluster_info(False, ['num_nodes', 'num_edges'], 200, 250, 3, 'label')"
   ]
  },
  {
   "cell_type": "code",
   "execution_count": null,
   "metadata": {},
   "outputs": [],
   "source": [
    "viz.graph_point_range_cluster_info(False, ['num_nodes', 'num_edges'], 200, 250, 3, 'truth')"
   ]
  },
  {
   "cell_type": "code",
   "execution_count": null,
   "metadata": {},
   "outputs": [],
   "source": [
    "viz.graph_point_range_cluster_info(False, ['num_wcc', 'num_threads'], 200, 250, 3, 'label')"
   ]
  },
  {
   "cell_type": "code",
   "execution_count": null,
   "metadata": {},
   "outputs": [],
   "source": [
    "viz.graph_point_range_cluster_info(False, ['num_wcc', 'num_threads'], 200, 250, 3, 'truth')"
   ]
  },
  {
   "cell_type": "code",
   "execution_count": null,
   "metadata": {},
   "outputs": [],
   "source": [
    "viz.graph_point_range_cluster_info(False, ['largest_wcc'], 200, 250, 3, 'label')"
   ]
  },
  {
   "cell_type": "code",
   "execution_count": null,
   "metadata": {},
   "outputs": [],
   "source": [
    "viz.graph_point_range_cluster_info(False, ['largest_wcc'], 200, 250, 3, 'truth')"
   ]
  },
  {
   "cell_type": "code",
   "execution_count": null,
   "metadata": {},
   "outputs": [],
   "source": [
    "viz.graph_point_range_cluster_info(False, ['diameter_largest_wcc'], 200, 250, 3, 'label')"
   ]
  },
  {
   "cell_type": "code",
   "execution_count": null,
   "metadata": {},
   "outputs": [],
   "source": [
    "viz.graph_point_range_cluster_info(False, ['diameter_largest_wcc'], 200, 250, 3, 'truth')"
   ]
  },
  {
   "cell_type": "code",
   "execution_count": null,
   "metadata": {},
   "outputs": [],
   "source": [
    "viz.graph_point_range_cluster_info(False, ['wiener_index'], 200, 250, 3, 'label')"
   ]
  },
  {
   "cell_type": "code",
   "execution_count": null,
   "metadata": {},
   "outputs": [],
   "source": [
    "viz.graph_point_range_cluster_info(False, ['wiener_index'], 200, 250, 3, 'truth')"
   ]
  },
  {
   "cell_type": "code",
   "execution_count": null,
   "metadata": {},
   "outputs": [],
   "source": [
    "viz.graph_point_range_cluster_info(False, ['nodes_per_thread'], 200, 250, 3, 'label')"
   ]
  },
  {
   "cell_type": "code",
   "execution_count": null,
   "metadata": {},
   "outputs": [],
   "source": [
    "viz.graph_point_range_cluster_info(False, ['nodes_per_thread'], 200, 250, 3, 'truth')"
   ]
  },
  {
   "cell_type": "markdown",
   "metadata": {},
   "source": [
    "## Text Features"
   ]
  },
  {
   "cell_type": "code",
   "execution_count": null,
   "metadata": {},
   "outputs": [],
   "source": [
    "viz.graph_point_range_cluster_info(False, ['sentiment_mean'], 200, 250, 3, 'label')"
   ]
  },
  {
   "cell_type": "code",
   "execution_count": null,
   "metadata": {},
   "outputs": [],
   "source": [
    "viz.graph_point_range_cluster_info(False, ['sentiment_mean'], 200, 250, 3, 'truth')"
   ]
  },
  {
   "cell_type": "markdown",
   "metadata": {},
   "source": [
    "## Time "
   ]
  },
  {
   "cell_type": "code",
   "execution_count": null,
   "metadata": {},
   "outputs": [],
   "source": [
    "viz.graph_point_range_cluster_info(False, ['total_time'], 200, 250, 3, 'label')"
   ]
  },
  {
   "cell_type": "code",
   "execution_count": null,
   "metadata": {},
   "outputs": [],
   "source": [
    "viz.graph_point_range_cluster_info(False, ['time_per_node'], 200, 250, 3, 'label')"
   ]
  },
  {
   "cell_type": "markdown",
   "metadata": {},
   "source": [
    "## Social Features"
   ]
  },
  {
   "cell_type": "markdown",
   "metadata": {},
   "source": [
    "## TSNE Plot"
   ]
  },
  {
   "cell_type": "code",
   "execution_count": null,
   "metadata": {},
   "outputs": [],
   "source": [
    "viz.graph_reduced_dimensions([\"id\", \"num_nodes\", \"title\", 'truth', 'event'], 400, 400, \"How Threads Networks Vary\")"
   ]
  },
  {
   "cell_type": "markdown",
   "metadata": {},
   "source": [
    "## Correlations"
   ]
  },
  {
   "cell_type": "code",
   "execution_count": null,
   "metadata": {},
   "outputs": [],
   "source": [
    "numeric_features"
   ]
  },
  {
   "cell_type": "code",
   "execution_count": null,
   "metadata": {},
   "outputs": [],
   "source": [
    "viz.get_corr_heat_map(numeric_features.columns.to_list())"
   ]
  }
 ],
 "metadata": {
  "kernelspec": {
   "display_name": "Python 3.8.5 ('base')",
   "language": "python",
   "name": "python3"
  },
  "language_info": {
   "codemirror_mode": {
    "name": "ipython",
    "version": 3
   },
   "file_extension": ".py",
   "mimetype": "text/x-python",
   "name": "python",
   "nbconvert_exporter": "python",
   "pygments_lexer": "ipython3",
   "version": "3.8.5"
  },
  "orig_nbformat": 4,
  "vscode": {
   "interpreter": {
    "hash": "60015666735a0000599ba2ae15b8f747bd6817ebd70a53af7ea250f075b403ad"
   }
  }
 },
 "nbformat": 4,
 "nbformat_minor": 2
}
