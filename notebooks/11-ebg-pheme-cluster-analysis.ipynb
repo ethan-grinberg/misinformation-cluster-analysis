{
 "cells": [
  {
   "cell_type": "code",
   "execution_count": 2,
   "metadata": {},
   "outputs": [
    {
     "name": "stdout",
     "output_type": "stream",
     "text": [
      "import done\n"
     ]
    }
   ],
   "source": [
    "import pandas as pd\n",
    "import numpy as np\n",
    "import networkx as nx\n",
    "from networkx.drawing.nx_pydot import graphviz_layout\n",
    "import sys\n",
    "from matplotlib import pyplot as plt\n",
    "from functools import reduce\n",
    "import os\n",
    "import altair as alt\n",
    "\n",
    "sys.path.append(\"../src/\")\n",
    "from features.graph_embed import GraphEmbed\n",
    "from models.cluster_graphs import ClusterGraphs\n",
    "from visualization.visualize import Visualize\n",
    "print(\"import done\")"
   ]
  },
  {
   "cell_type": "code",
   "execution_count": 3,
   "metadata": {},
   "outputs": [
    {
     "name": "stderr",
     "output_type": "stream",
     "text": [
      "<ipython-input-3-319f18d333e0>:2: DtypeWarning: Columns (0) have mixed types. Specify dtype option on import or set low_memory=False.\n",
      "  raw_data = pd.read_csv('../data/raw/pheme/pheme_all_events.csv')\n"
     ]
    }
   ],
   "source": [
    "cluster_f_name = 'pheme_graphs_clustered.pkl'\n",
    "raw_data = pd.read_csv('../data/raw/pheme/pheme_all_events.csv')\n",
    "\n",
    "clusters = pd.read_pickle(os.path.join(\"..\", \"models\", cluster_f_name))\n",
    "graphs = GraphEmbed.read_graphs(clusters)\n",
    "viz = Visualize(clusters, graphs)"
   ]
  },
  {
   "cell_type": "markdown",
   "metadata": {},
   "source": [
    "# Overview\n",
    "\n",
    "Data: Each network is a combination of all rumour threads relating to a specific rumour. All pheme rumours are included"
   ]
  },
  {
   "cell_type": "code",
   "execution_count": 21,
   "metadata": {},
   "outputs": [
    {
     "data": {
      "text/plain": [
       "Index(['id', 'mean_tweet_len', 'mean_user_mentions', 'urls_mean',\n",
       "       'media_count_mean', 'hashtags_count_mean', 'retweet_count_mean',\n",
       "       'favorite_count_mean', 'mentions_count_mean', 'user_tweet_count_mean',\n",
       "       'user_follower_count_mean', 'user_friends_count_mean', 'sentiment_mean',\n",
       "       'num_threads', 'num_nodes', 'num_edges', 'num_wcc', 'largest_wcc',\n",
       "       'diameter_largest_wcc', 'max_out_degree', 'max_in_degree',\n",
       "       'mean_out_degree', 'mean_in_degree', 'wiener_index', 'label'],\n",
       "      dtype='object')"
      ]
     },
     "execution_count": 21,
     "metadata": {},
     "output_type": "execute_result"
    }
   ],
   "source": [
    "numerics = ['int16', 'int32', 'int64', 'float16', 'float32', 'float64']\n",
    "numeric_features = clusters.select_dtypes(numerics)\n",
    "numeric_features.columns"
   ]
  },
  {
   "cell_type": "markdown",
   "metadata": {},
   "source": [
    "## Clustering stats"
   ]
  },
  {
   "cell_type": "code",
   "execution_count": 4,
   "metadata": {},
   "outputs": [
    {
     "data": {
      "text/plain": [
       "[<matplotlib.lines.Line2D at 0x16e0609cbe0>]"
      ]
     },
     "execution_count": 4,
     "metadata": {},
     "output_type": "execute_result"
    },
    {
     "data": {
      "image/png": "[encoded data removed]",
      "text/plain": [
       "<Figure size 432x288 with 1 Axes>"
      ]
     },
     "metadata": {
      "needs_background": "light"
     },
     "output_type": "display_data"
    }
   ],
   "source": [
    "cl = ClusterGraphs(clusters)\n",
    "num_clusters, inertias = cl.choose_clust_num_k_means()\n",
    "plt.plot(inertias)"
   ]
  },
  {
   "cell_type": "code",
   "execution_count": 5,
   "metadata": {},
   "outputs": [
    {
     "data": {
      "text/plain": [
       "3"
      ]
     },
     "execution_count": 5,
     "metadata": {},
     "output_type": "execute_result"
    }
   ],
   "source": [
    "num_clusters"
   ]
  },
  {
   "cell_type": "code",
   "execution_count": 6,
   "metadata": {},
   "outputs": [
    {
     "data": {
      "text/plain": [
       "235"
      ]
     },
     "execution_count": 6,
     "metadata": {},
     "output_type": "execute_result"
    }
   ],
   "source": [
    "len(clusters)"
   ]
  },
  {
   "cell_type": "markdown",
   "metadata": {},
   "source": [
    "## Descriptive Stats"
   ]
  },
  {
   "cell_type": "code",
   "execution_count": 23,
   "metadata": {},
   "outputs": [
    {
     "data": {
      "text/html": [
       "<div>\n",
       "<style scoped>\n",
       "    .dataframe tbody tr th:only-of-type {\n",
       "        vertical-align: middle;\n",
       "    }\n",
       "\n",
       "    .dataframe tbody tr th {\n",
       "        vertical-align: top;\n",
       "    }\n",
       "\n",
       "    .dataframe thead th {\n",
       "        text-align: right;\n",
       "    }\n",
       "</style>\n",
       "<table border=\"1\" class=\"dataframe\">\n",
       "  <thead>\n",
       "    <tr style=\"text-align: right;\">\n",
       "      <th></th>\n",
       "      <th>num_threads</th>\n",
       "      <th>num_nodes</th>\n",
       "      <th>num_edges</th>\n",
       "      <th>num_wcc</th>\n",
       "      <th>largest_wcc</th>\n",
       "      <th>diameter_largest_wcc</th>\n",
       "      <th>max_out_degree</th>\n",
       "      <th>max_in_degree</th>\n",
       "      <th>mean_out_degree</th>\n",
       "      <th>mean_in_degree</th>\n",
       "      <th>wiener_index</th>\n",
       "    </tr>\n",
       "  </thead>\n",
       "  <tbody>\n",
       "    <tr>\n",
       "      <th>count</th>\n",
       "      <td>235.000000</td>\n",
       "      <td>235.000000</td>\n",
       "      <td>235.000000</td>\n",
       "      <td>235.000000</td>\n",
       "      <td>235.000000</td>\n",
       "      <td>235.000000</td>\n",
       "      <td>235.000000</td>\n",
       "      <td>235.0</td>\n",
       "      <td>235.000000</td>\n",
       "      <td>235.000000</td>\n",
       "      <td>235.000000</td>\n",
       "    </tr>\n",
       "    <tr>\n",
       "      <th>mean</th>\n",
       "      <td>10.140426</td>\n",
       "      <td>140.272340</td>\n",
       "      <td>129.523404</td>\n",
       "      <td>10.748936</td>\n",
       "      <td>0.493167</td>\n",
       "      <td>10.038298</td>\n",
       "      <td>14.400000</td>\n",
       "      <td>1.0</td>\n",
       "      <td>0.909880</td>\n",
       "      <td>0.909880</td>\n",
       "      <td>38.054383</td>\n",
       "    </tr>\n",
       "    <tr>\n",
       "      <th>std</th>\n",
       "      <td>16.041128</td>\n",
       "      <td>228.795121</td>\n",
       "      <td>213.691352</td>\n",
       "      <td>16.429620</td>\n",
       "      <td>0.325574</td>\n",
       "      <td>8.291860</td>\n",
       "      <td>6.108142</td>\n",
       "      <td>0.0</td>\n",
       "      <td>0.051563</td>\n",
       "      <td>0.051563</td>\n",
       "      <td>81.338879</td>\n",
       "    </tr>\n",
       "    <tr>\n",
       "      <th>min</th>\n",
       "      <td>1.000000</td>\n",
       "      <td>5.000000</td>\n",
       "      <td>4.000000</td>\n",
       "      <td>1.000000</td>\n",
       "      <td>0.034204</td>\n",
       "      <td>2.000000</td>\n",
       "      <td>2.000000</td>\n",
       "      <td>1.0</td>\n",
       "      <td>0.625000</td>\n",
       "      <td>0.625000</td>\n",
       "      <td>0.898129</td>\n",
       "    </tr>\n",
       "    <tr>\n",
       "      <th>25%</th>\n",
       "      <td>2.000000</td>\n",
       "      <td>27.000000</td>\n",
       "      <td>24.500000</td>\n",
       "      <td>2.000000</td>\n",
       "      <td>0.203203</td>\n",
       "      <td>4.000000</td>\n",
       "      <td>10.000000</td>\n",
       "      <td>1.0</td>\n",
       "      <td>0.896836</td>\n",
       "      <td>0.896836</td>\n",
       "      <td>5.766234</td>\n",
       "    </tr>\n",
       "    <tr>\n",
       "      <th>50%</th>\n",
       "      <td>4.000000</td>\n",
       "      <td>60.000000</td>\n",
       "      <td>57.000000</td>\n",
       "      <td>4.000000</td>\n",
       "      <td>0.420000</td>\n",
       "      <td>7.000000</td>\n",
       "      <td>15.000000</td>\n",
       "      <td>1.0</td>\n",
       "      <td>0.923077</td>\n",
       "      <td>0.923077</td>\n",
       "      <td>13.309091</td>\n",
       "    </tr>\n",
       "    <tr>\n",
       "      <th>75%</th>\n",
       "      <td>12.000000</td>\n",
       "      <td>164.000000</td>\n",
       "      <td>147.000000</td>\n",
       "      <td>12.000000</td>\n",
       "      <td>0.747062</td>\n",
       "      <td>13.000000</td>\n",
       "      <td>18.000000</td>\n",
       "      <td>1.0</td>\n",
       "      <td>0.941176</td>\n",
       "      <td>0.941176</td>\n",
       "      <td>30.802049</td>\n",
       "    </tr>\n",
       "    <tr>\n",
       "      <th>max</th>\n",
       "      <td>131.000000</td>\n",
       "      <td>2243.000000</td>\n",
       "      <td>2102.000000</td>\n",
       "      <td>141.000000</td>\n",
       "      <td>1.000000</td>\n",
       "      <td>54.000000</td>\n",
       "      <td>38.000000</td>\n",
       "      <td>1.0</td>\n",
       "      <td>0.988636</td>\n",
       "      <td>0.988636</td>\n",
       "      <td>784.266332</td>\n",
       "    </tr>\n",
       "  </tbody>\n",
       "</table>\n",
       "</div>"
      ],
      "text/plain": [
       "       num_threads    num_nodes    num_edges     num_wcc  largest_wcc  \\\n",
       "count   235.000000   235.000000   235.000000  235.000000   235.000000   \n",
       "mean     10.140426   140.272340   129.523404   10.748936     0.493167   \n",
       "std      16.041128   228.795121   213.691352   16.429620     0.325574   \n",
       "min       1.000000     5.000000     4.000000    1.000000     0.034204   \n",
       "25%       2.000000    27.000000    24.500000    2.000000     0.203203   \n",
       "50%       4.000000    60.000000    57.000000    4.000000     0.420000   \n",
       "75%      12.000000   164.000000   147.000000   12.000000     0.747062   \n",
       "max     131.000000  2243.000000  2102.000000  141.000000     1.000000   \n",
       "\n",
       "       diameter_largest_wcc  max_out_degree  max_in_degree  mean_out_degree  \\\n",
       "count            235.000000      235.000000          235.0       235.000000   \n",
       "mean              10.038298       14.400000            1.0         0.909880   \n",
       "std                8.291860        6.108142            0.0         0.051563   \n",
       "min                2.000000        2.000000            1.0         0.625000   \n",
       "25%                4.000000       10.000000            1.0         0.896836   \n",
       "50%                7.000000       15.000000            1.0         0.923077   \n",
       "75%               13.000000       18.000000            1.0         0.941176   \n",
       "max               54.000000       38.000000            1.0         0.988636   \n",
       "\n",
       "       mean_in_degree  wiener_index  \n",
       "count      235.000000    235.000000  \n",
       "mean         0.909880     38.054383  \n",
       "std          0.051563     81.338879  \n",
       "min          0.625000      0.898129  \n",
       "25%          0.896836      5.766234  \n",
       "50%          0.923077     13.309091  \n",
       "75%          0.941176     30.802049  \n",
       "max          0.988636    784.266332  "
      ]
     },
     "execution_count": 23,
     "metadata": {},
     "output_type": "execute_result"
    }
   ],
   "source": [
    "clusters.loc[:, ['num_threads', 'num_nodes', 'num_edges', 'num_wcc', 'largest_wcc',\n",
    "       'diameter_largest_wcc', 'max_out_degree', 'max_in_degree',\n",
    "       'mean_out_degree', 'mean_in_degree', 'wiener_index']].describe()"
   ]
  },
  {
   "cell_type": "code",
   "execution_count": 25,
   "metadata": {},
   "outputs": [
    {
     "data": {
      "text/plain": [
       "sydneysiege          60\n",
       "charliehebdo         59\n",
       "ottawashooting       49\n",
       "ferguson             36\n",
       "germanwings-crash    18\n",
       "prince-toronto        6\n",
       "putinmissing          5\n",
       "ebola-essien          1\n",
       "gurlitt               1\n",
       "Name: event, dtype: int64"
      ]
     },
     "execution_count": 25,
     "metadata": {},
     "output_type": "execute_result"
    }
   ],
   "source": [
    "clusters.event.value_counts()"
   ]
  }
 ],
 "metadata": {
  "kernelspec": {
   "display_name": "Python 3.8.5 ('base')",
   "language": "python",
   "name": "python3"
  },
  "language_info": {
   "codemirror_mode": {
    "name": "ipython",
    "version": 3
   },
   "file_extension": ".py",
   "mimetype": "text/x-python",
   "name": "python",
   "nbconvert_exporter": "python",
   "pygments_lexer": "ipython3",
   "version": "3.8.5"
  },
  "orig_nbformat": 4,
  "vscode": {
   "interpreter": {
    "hash": "60015666735a0000599ba2ae15b8f747bd6817ebd70a53af7ea250f075b403ad"
   }
  }
 },
 "nbformat": 4,
 "nbformat_minor": 2
}
