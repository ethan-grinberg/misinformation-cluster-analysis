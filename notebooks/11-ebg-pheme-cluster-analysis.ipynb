{
 "cells": [
  {
   "cell_type": "code",
   "execution_count": 221,
   "metadata": {},
   "outputs": [
    {
     "name": "stdout",
     "output_type": "stream",
     "text": [
      "import done\n"
     ]
    }
   ],
   "source": [
    "import pandas as pd\n",
    "import numpy as np\n",
    "import networkx as nx\n",
    "from networkx.drawing.nx_pydot import graphviz_layout\n",
    "import sys\n",
    "from matplotlib import pyplot as plt\n",
    "from functools import reduce\n",
    "import os\n",
    "import altair as alt\n",
    "\n",
    "sys.path.append(\"../src/\")\n",
    "from features.graph_embed import GraphEmbed\n",
    "from models.cluster_graphs import ClusterGraphs\n",
    "from visualization.visualize import Visualize\n",
    "print(\"import done\")"
   ]
  },
  {
   "cell_type": "code",
   "execution_count": 231,
   "metadata": {},
   "outputs": [
    {
     "name": "stderr",
     "output_type": "stream",
     "text": [
      "<ipython-input-231-8df5d9430f48>:2: DtypeWarning: Columns (0) have mixed types. Specify dtype option on import or set low_memory=False.\n",
      "  raw_data = pd.read_csv('../data/raw/pheme/pheme_all_events.csv')\n"
     ]
    }
   ],
   "source": [
    "cluster_f_name = 'pheme_graphs_clustered.pkl'\n",
    "raw_data = pd.read_csv('../data/raw/pheme/pheme_all_events.csv')\n",
    "clusters = pd.read_pickle(os.path.join(\"..\", \"models\", cluster_f_name))\n",
    "\n",
    "drop_small_events = True"
   ]
  },
  {
   "cell_type": "code",
   "execution_count": 208,
   "metadata": {},
   "outputs": [],
   "source": [
    "if drop_small_events:\n",
    "    clusters = clusters.groupby('event').filter(lambda x: len(x) > 6)\n",
    "\n",
    "graphs = GraphEmbed.read_graphs(clusters)\n",
    "viz = Visualize(clusters, graphs)"
   ]
  },
  {
   "cell_type": "markdown",
   "metadata": {},
   "source": [
    "# Clustering test"
   ]
  },
  {
   "cell_type": "code",
   "execution_count": 46,
   "metadata": {},
   "outputs": [],
   "source": [
    "from sklearn.preprocessing import StandardScaler\n",
    "from sklearn.cluster import KMeans\n",
    "from kneed import KneeLocator\n",
    "from sklearn.manifold import TSNE"
   ]
  },
  {
   "cell_type": "code",
   "execution_count": 47,
   "metadata": {},
   "outputs": [],
   "source": [
    "def choose_clust_num_k_means(graph_vecs, end=11):\n",
    "        inertias = []\n",
    "        for i in range(1, end):\n",
    "            kmeans = KMeans(n_clusters=i, random_state=0)\n",
    "            kmeans.fit(graph_vecs)\n",
    "\n",
    "            inertia = kmeans.inertia_\n",
    "            inertias.append(inertia)\n",
    "\n",
    "        # choose best cluster num\n",
    "        kneedle = KneeLocator(\n",
    "            range(1, end), inertias, S=1.0, curve=\"convex\", direction=\"decreasing\"\n",
    "        )\n",
    "        return kneedle.elbow, inertias\n",
    "    \n",
    "def cluster_k_means_clusters(graph_vecs, n_clusters=None):\n",
    "    if n_clusters is None:\n",
    "        n_clusters, inertias = choose_clust_num_k_means(graph_vecs)\n",
    "    \n",
    "    kmeans = KMeans(n_clusters=n_clusters, random_state=0)\n",
    "    kmeans.fit(graph_vecs)\n",
    "\n",
    "    return pd.Series(kmeans.labels_)\n",
    "\n",
    "def graph_reduced_dimensions(X, labels, width, height, title):\n",
    "        tsne = TSNE(2)\n",
    "        two_d = tsne.fit_transform(X)\n",
    "\n",
    "        components = pd.DataFrame(two_d, columns=['dimension 1', 'dimension 2'])\n",
    "        components['label'] = labels\n",
    "        \n",
    "        chart = alt.Chart(components).mark_circle(size=60).encode(\n",
    "                    x='dimension 1',\n",
    "                    y='dimension 2',\n",
    "                    color='label:N'\n",
    "                ).properties(title=title, width=width, height=height).interactive()\n",
    "        \n",
    "        chart = chart.configure_title(fontSize=25, fontWeight='bold')\n",
    "        chart = chart.configure_header(titleFontSize=25, titleFontWeight='bold')\n",
    "        chart = chart.configure_legend(titleFontSize=25, labelFontSize=20, labelFontWeight='bold', titleFontWeight='bold')\n",
    "        chart = chart.configure_axis(grid=False, titleFontSize=20, labelFontSize=15, labelAngle=0)\n",
    "\n",
    "        return chart"
   ]
  },
  {
   "cell_type": "code",
   "execution_count": 223,
   "metadata": {},
   "outputs": [
    {
     "data": {
      "text/plain": [
       "Index(['graph_embedding', 'id', 'truth', 'title', 'event', 'mean_tweet_len',\n",
       "       'mean_user_mentions', 'urls_mean', 'media_count_mean',\n",
       "       'hashtags_count_mean', 'retweet_count_mean', 'favorite_count_mean',\n",
       "       'mentions_count_mean', 'user_tweet_count_mean',\n",
       "       'user_follower_count_mean', 'user_friends_count_mean', 'sentiment_mean',\n",
       "       'total_time', 'unverified', 'truth_val', 'num_threads', 'edges',\n",
       "       'num_nodes', 'num_edges', 'num_wcc', 'largest_wcc',\n",
       "       'diameter_largest_wcc', 'max_out_degree', 'max_in_degree',\n",
       "       'mean_out_degree', 'mean_in_degree', 'wiener_index', 'time_per_node',\n",
       "       'nodes_per_thread', 'label', 'is_mean_vec'],\n",
       "      dtype='object')"
      ]
     },
     "execution_count": 223,
     "metadata": {},
     "output_type": "execute_result"
    }
   ],
   "source": [
    "clusters.columns"
   ]
  },
  {
   "cell_type": "code",
   "execution_count": 232,
   "metadata": {},
   "outputs": [
    {
     "data": {
      "text/html": [
       "\n",
       "<div id=\"altair-viz-202c73fd44fb469780dc3fb06c67bfd6\"></div>\n",
       "<script type=\"text/javascript\">\n",
       "  (function(spec, embedOpt){\n",
       "    let outputDiv = document.currentScript.previousElementSibling;\n",
       "    if (outputDiv.id !== \"altair-viz-202c73fd44fb469780dc3fb06c67bfd6\") {\n",
       "      outputDiv = document.getElementById(\"altair-viz-202c73fd44fb469780dc3fb06c67bfd6\");\n",
       "    }\n",
       "    const paths = {\n",
       "      \"vega\": \"https://cdn.jsdelivr.net/npm//vega@5?noext\",\n",
       "      \"vega-lib\": \"https://cdn.jsdelivr.net/npm//vega-lib?noext\",\n",
       "      \"vega-lite\": \"https://cdn.jsdelivr.net/npm//vega-lite@4.8.1?noext\",\n",
       "      \"vega-embed\": \"https://cdn.jsdelivr.net/npm//vega-embed@6?noext\",\n",
       "    };\n",
       "\n",
       "    function loadScript(lib) {\n",
       "      return new Promise(function(resolve, reject) {\n",
       "        var s = document.createElement('script');\n",
       "        s.src = paths[lib];\n",
       "        s.async = true;\n",
       "        s.onload = () => resolve(paths[lib]);\n",
       "        s.onerror = () => reject(`Error loading script: ${paths[lib]}`);\n",
       "        document.getElementsByTagName(\"head\")[0].appendChild(s);\n",
       "      });\n",
       "    }\n",
       "\n",
       "    function showError(err) {\n",
       "      outputDiv.innerHTML = `<div class=\"error\" style=\"color:red;\">${err}</div>`;\n",
       "      throw err;\n",
       "    }\n",
       "\n",
       "    function displayChart(vegaEmbed) {\n",
       "      vegaEmbed(outputDiv, spec, embedOpt)\n",
       "        .catch(err => showError(`Javascript Error: ${err.message}<br>This usually means there's a typo in your chart specification. See the javascript console for the full traceback.`));\n",
       "    }\n",
       "\n",
       "    if(typeof define === \"function\" && define.amd) {\n",
       "      requirejs.config({paths});\n",
       "      require([\"vega-embed\"], displayChart, err => showError(`Error loading script: ${err.message}`));\n",
       "    } else if (typeof vegaEmbed === \"function\") {\n",
       "      displayChart(vegaEmbed);\n",
       "    } else {\n",
       "      loadScript(\"vega\")\n",
       "        .then(() => loadScript(\"vega-lite\"))\n",
       "        .then(() => loadScript(\"vega-embed\"))\n",
       "        .catch(showError)\n",
       "        .then(() => displayChart(vegaEmbed));\n",
       "    }\n",
       "  })({\"config\": {\"view\": {\"continuousWidth\": 400, \"continuousHeight\": 300}, \"axis\": {\"grid\": false, \"labelAngle\": 0, \"labelFontSize\": 15, \"titleFontSize\": 20}, \"header\": {\"titleFontSize\": 25, \"titleFontWeight\": \"bold\"}, \"legend\": {\"labelFontSize\": 20, \"labelFontWeight\": \"bold\", \"titleFontSize\": 25, \"titleFontWeight\": \"bold\"}, \"title\": {\"fontSize\": 25, \"fontWeight\": \"bold\"}}, \"data\": {\"name\": \"data-bad291d9a847db30835becf0c2d7e1cb\"}, \"mark\": {\"type\": \"circle\", \"size\": 60}, \"encoding\": {\"color\": {\"type\": \"nominal\", \"field\": \"label\"}, \"x\": {\"type\": \"quantitative\", \"field\": \"dimension 1\"}, \"y\": {\"type\": \"quantitative\", \"field\": \"dimension 2\"}}, \"height\": 300, \"selection\": {\"selector082\": {\"type\": \"interval\", \"bind\": \"scales\", \"encodings\": [\"x\", \"y\"]}}, \"title\": \"test\", \"width\": 200, \"$schema\": \"https://vega.github.io/schema/vega-lite/v4.8.1.json\", \"datasets\": {\"data-bad291d9a847db30835becf0c2d7e1cb\": [{\"dimension 1\": 10.888107299804688, \"dimension 2\": 3.533203363418579, \"label\": 2}, {\"dimension 1\": -8.783392906188965, \"dimension 2\": -3.36352801322937, \"label\": 1}, {\"dimension 1\": -10.068713188171387, \"dimension 2\": -7.172063827514648, \"label\": 0}, {\"dimension 1\": 5.885959148406982, \"dimension 2\": 3.3654699325561523, \"label\": 1}, {\"dimension 1\": -12.890189170837402, \"dimension 2\": -4.031085968017578, \"label\": 2}, {\"dimension 1\": 12.964422225952148, \"dimension 2\": 6.011874198913574, \"label\": 2}, {\"dimension 1\": 9.986376762390137, \"dimension 2\": -4.442491054534912, \"label\": 1}, {\"dimension 1\": -9.542957305908203, \"dimension 2\": 4.5774407386779785, \"label\": 0}, {\"dimension 1\": -9.290458679199219, \"dimension 2\": -2.8620011806488037, \"label\": 0}, {\"dimension 1\": 9.374558448791504, \"dimension 2\": -3.51871657371521, \"label\": 1}, {\"dimension 1\": -1.5844285488128662, \"dimension 2\": -3.5505130290985107, \"label\": 1}, {\"dimension 1\": -0.06981320679187775, \"dimension 2\": -1.3339250087738037, \"label\": 1}, {\"dimension 1\": 9.367561340332031, \"dimension 2\": -5.506190299987793, \"label\": 1}, {\"dimension 1\": 11.377571105957031, \"dimension 2\": 3.802093029022217, \"label\": 2}, {\"dimension 1\": -1.1530616283416748, \"dimension 2\": -7.72104549407959, \"label\": 1}, {\"dimension 1\": -7.597918510437012, \"dimension 2\": 0.7918895483016968, \"label\": 0}, {\"dimension 1\": 2.7311763763427734, \"dimension 2\": -5.841188430786133, \"label\": 1}, {\"dimension 1\": 0.6200924515724182, \"dimension 2\": 6.993889331817627, \"label\": 0}, {\"dimension 1\": -4.972771644592285, \"dimension 2\": -4.3976335525512695, \"label\": 1}, {\"dimension 1\": -10.64233684539795, \"dimension 2\": -2.683776617050171, \"label\": 0}, {\"dimension 1\": 5.9200239181518555, \"dimension 2\": -8.017448425292969, \"label\": 1}, {\"dimension 1\": -11.04528522491455, \"dimension 2\": 7.081320762634277, \"label\": 0}, {\"dimension 1\": 10.448281288146973, \"dimension 2\": -6.84170389175415, \"label\": 1}, {\"dimension 1\": 14.082122802734375, \"dimension 2\": 7.959319114685059, \"label\": 2}, {\"dimension 1\": 5.075888633728027, \"dimension 2\": 7.577521324157715, \"label\": 1}, {\"dimension 1\": 0.3030947148799896, \"dimension 2\": 6.039287090301514, \"label\": 0}, {\"dimension 1\": 7.676497459411621, \"dimension 2\": -6.201160430908203, \"label\": 1}, {\"dimension 1\": 4.5611090660095215, \"dimension 2\": -6.647793292999268, \"label\": 1}, {\"dimension 1\": 2.9618570804595947, \"dimension 2\": -6.482585906982422, \"label\": 1}, {\"dimension 1\": -0.3272846043109894, \"dimension 2\": -3.3523716926574707, \"label\": 1}, {\"dimension 1\": -10.564034461975098, \"dimension 2\": -3.3651669025421143, \"label\": 0}, {\"dimension 1\": -6.898898124694824, \"dimension 2\": -6.14027738571167, \"label\": 1}, {\"dimension 1\": 11.69123363494873, \"dimension 2\": 0.28269484639167786, \"label\": 1}, {\"dimension 1\": -3.102649450302124, \"dimension 2\": -8.856283187866211, \"label\": 1}, {\"dimension 1\": 11.340457916259766, \"dimension 2\": 0.40857815742492676, \"label\": 1}, {\"dimension 1\": 2.202608585357666, \"dimension 2\": 7.942499160766602, \"label\": 0}, {\"dimension 1\": 3.164316415786743, \"dimension 2\": -9.869348526000977, \"label\": 1}, {\"dimension 1\": 5.496951580047607, \"dimension 2\": -7.864991188049316, \"label\": 1}, {\"dimension 1\": -5.599790096282959, \"dimension 2\": -8.904866218566895, \"label\": 1}, {\"dimension 1\": 7.586155414581299, \"dimension 2\": -6.695501327514648, \"label\": 1}, {\"dimension 1\": -8.869826316833496, \"dimension 2\": 4.436479091644287, \"label\": 0}, {\"dimension 1\": -9.090128898620605, \"dimension 2\": -4.113119125366211, \"label\": 1}, {\"dimension 1\": -2.662757635116577, \"dimension 2\": -7.525859832763672, \"label\": 1}, {\"dimension 1\": 6.224660396575928, \"dimension 2\": -5.010806560516357, \"label\": 1}, {\"dimension 1\": 13.728755950927734, \"dimension 2\": -6.0466508865356445, \"label\": 1}, {\"dimension 1\": 6.808591365814209, \"dimension 2\": -8.301769256591797, \"label\": 1}, {\"dimension 1\": -2.576566457748413, \"dimension 2\": -7.705238342285156, \"label\": 1}, {\"dimension 1\": -9.421592712402344, \"dimension 2\": -0.7721261382102966, \"label\": 0}, {\"dimension 1\": -6.209840774536133, \"dimension 2\": -6.6169304847717285, \"label\": 1}, {\"dimension 1\": -12.578591346740723, \"dimension 2\": -0.8707073926925659, \"label\": 0}, {\"dimension 1\": 4.27987813949585, \"dimension 2\": 5.844005584716797, \"label\": 0}, {\"dimension 1\": 5.634028434753418, \"dimension 2\": -5.731313705444336, \"label\": 1}, {\"dimension 1\": -6.650557518005371, \"dimension 2\": -6.979485511779785, \"label\": 1}, {\"dimension 1\": 7.944612979888916, \"dimension 2\": 0.07592107355594635, \"label\": 1}, {\"dimension 1\": 8.59908676147461, \"dimension 2\": 1.8434354066848755, \"label\": 1}, {\"dimension 1\": 1.0594172477722168, \"dimension 2\": -1.2597835063934326, \"label\": 1}, {\"dimension 1\": -0.08776585757732391, \"dimension 2\": 5.390697479248047, \"label\": 0}, {\"dimension 1\": -9.855269432067871, \"dimension 2\": 2.1120829582214355, \"label\": 0}, {\"dimension 1\": 5.720997333526611, \"dimension 2\": -2.3256187438964844, \"label\": 1}, {\"dimension 1\": 6.119631290435791, \"dimension 2\": 0.8170753717422485, \"label\": 1}, {\"dimension 1\": 8.237153053283691, \"dimension 2\": 6.961474895477295, \"label\": 1}, {\"dimension 1\": -13.762503623962402, \"dimension 2\": 0.8474472165107727, \"label\": 0}, {\"dimension 1\": -11.685014724731445, \"dimension 2\": 4.598170757293701, \"label\": 0}, {\"dimension 1\": -12.470232963562012, \"dimension 2\": 4.629544734954834, \"label\": 0}, {\"dimension 1\": -15.371331214904785, \"dimension 2\": 2.870666027069092, \"label\": 0}, {\"dimension 1\": -17.231124877929688, \"dimension 2\": -1.9243800640106201, \"label\": 0}, {\"dimension 1\": 9.327194213867188, \"dimension 2\": 6.254378318786621, \"label\": 2}, {\"dimension 1\": -12.250883102416992, \"dimension 2\": 3.5697221755981445, \"label\": 0}, {\"dimension 1\": -11.0592041015625, \"dimension 2\": 1.1962599754333496, \"label\": 0}, {\"dimension 1\": -16.504268646240234, \"dimension 2\": 2.750284433364868, \"label\": 0}, {\"dimension 1\": -13.671509742736816, \"dimension 2\": 2.938246011734009, \"label\": 0}, {\"dimension 1\": -10.471542358398438, \"dimension 2\": 1.610733985900879, \"label\": 0}, {\"dimension 1\": -11.598272323608398, \"dimension 2\": 6.05311393737793, \"label\": 0}, {\"dimension 1\": -11.052064895629883, \"dimension 2\": -0.573150098323822, \"label\": 0}, {\"dimension 1\": -12.921396255493164, \"dimension 2\": -0.8002690076828003, \"label\": 0}, {\"dimension 1\": -9.390983581542969, \"dimension 2\": -6.466005325317383, \"label\": 1}, {\"dimension 1\": -16.895978927612305, \"dimension 2\": -1.5160235166549683, \"label\": 0}, {\"dimension 1\": -11.268444061279297, \"dimension 2\": 2.7095279693603516, \"label\": 0}, {\"dimension 1\": -9.918338775634766, \"dimension 2\": -3.5797617435455322, \"label\": 0}, {\"dimension 1\": -16.260669708251953, \"dimension 2\": 3.87612247467041, \"label\": 0}, {\"dimension 1\": -16.68167495727539, \"dimension 2\": 3.5616116523742676, \"label\": 0}, {\"dimension 1\": -12.777844429016113, \"dimension 2\": 3.120356321334839, \"label\": 0}, {\"dimension 1\": -16.741718292236328, \"dimension 2\": 1.1894631385803223, \"label\": 0}, {\"dimension 1\": -11.218064308166504, \"dimension 2\": 4.833217620849609, \"label\": 0}, {\"dimension 1\": -10.953120231628418, \"dimension 2\": 3.695466995239258, \"label\": 0}, {\"dimension 1\": 12.195319175720215, \"dimension 2\": 7.276890754699707, \"label\": 2}, {\"dimension 1\": -6.632913589477539, \"dimension 2\": 4.585909843444824, \"label\": 0}, {\"dimension 1\": -5.046788692474365, \"dimension 2\": -6.003921985626221, \"label\": 1}, {\"dimension 1\": 11.300863265991211, \"dimension 2\": 8.411766052246094, \"label\": 2}, {\"dimension 1\": 16.951847076416016, \"dimension 2\": 5.2446370124816895, \"label\": 2}, {\"dimension 1\": -14.330857276916504, \"dimension 2\": 0.16392621397972107, \"label\": 0}, {\"dimension 1\": -13.41109561920166, \"dimension 2\": -7.582947731018066, \"label\": 2}, {\"dimension 1\": -10.533663749694824, \"dimension 2\": 0.42113280296325684, \"label\": 0}, {\"dimension 1\": 12.18734073638916, \"dimension 2\": 7.582254886627197, \"label\": 2}, {\"dimension 1\": -13.344806671142578, \"dimension 2\": 1.0275743007659912, \"label\": 0}, {\"dimension 1\": -1.4519141912460327, \"dimension 2\": 2.7886297702789307, \"label\": 0}, {\"dimension 1\": -6.620307922363281, \"dimension 2\": -5.132664203643799, \"label\": 1}, {\"dimension 1\": 4.924260139465332, \"dimension 2\": -11.096000671386719, \"label\": 1}, {\"dimension 1\": 5.396590232849121, \"dimension 2\": -3.602403163909912, \"label\": 1}, {\"dimension 1\": 6.734483242034912, \"dimension 2\": -9.319042205810547, \"label\": 1}, {\"dimension 1\": -7.738862037658691, \"dimension 2\": -3.0385751724243164, \"label\": 1}, {\"dimension 1\": 7.603926658630371, \"dimension 2\": 0.8969759941101074, \"label\": 1}, {\"dimension 1\": 5.307286739349365, \"dimension 2\": -5.3455657958984375, \"label\": 1}, {\"dimension 1\": 4.363435745239258, \"dimension 2\": -10.818137168884277, \"label\": 1}, {\"dimension 1\": 5.477078437805176, \"dimension 2\": -9.649828910827637, \"label\": 1}, {\"dimension 1\": -11.714219093322754, \"dimension 2\": -1.5852254629135132, \"label\": 0}, {\"dimension 1\": 4.429440975189209, \"dimension 2\": -7.632798194885254, \"label\": 1}, {\"dimension 1\": 3.222214460372925, \"dimension 2\": -8.199275970458984, \"label\": 1}, {\"dimension 1\": 13.560464859008789, \"dimension 2\": -5.372292995452881, \"label\": 1}, {\"dimension 1\": 4.1081767082214355, \"dimension 2\": -6.671432018280029, \"label\": 1}, {\"dimension 1\": 5.116755962371826, \"dimension 2\": -1.8575547933578491, \"label\": 1}, {\"dimension 1\": 6.996647834777832, \"dimension 2\": 2.209651470184326, \"label\": 1}, {\"dimension 1\": -10.105615615844727, \"dimension 2\": -4.449417591094971, \"label\": 1}, {\"dimension 1\": 14.772706031799316, \"dimension 2\": 5.159061908721924, \"label\": 2}, {\"dimension 1\": 0.5125922560691833, \"dimension 2\": -5.390324592590332, \"label\": 1}, {\"dimension 1\": 13.401902198791504, \"dimension 2\": 3.949110984802246, \"label\": 2}, {\"dimension 1\": 14.512945175170898, \"dimension 2\": 3.4569060802459717, \"label\": 2}, {\"dimension 1\": 6.7654852867126465, \"dimension 2\": -3.6052772998809814, \"label\": 1}, {\"dimension 1\": -9.399086952209473, \"dimension 2\": 6.968000888824463, \"label\": 0}, {\"dimension 1\": -6.255309581756592, \"dimension 2\": -6.151157855987549, \"label\": 1}, {\"dimension 1\": -7.868648529052734, \"dimension 2\": 0.4109148383140564, \"label\": 0}, {\"dimension 1\": -9.078021049499512, \"dimension 2\": 7.242112159729004, \"label\": 0}, {\"dimension 1\": 11.95089340209961, \"dimension 2\": 3.244863510131836, \"label\": 2}, {\"dimension 1\": -1.008643627166748, \"dimension 2\": 8.02833366394043, \"label\": 0}, {\"dimension 1\": -7.761673450469971, \"dimension 2\": 7.645988464355469, \"label\": 0}, {\"dimension 1\": -0.8984202742576599, \"dimension 2\": -8.545011520385742, \"label\": 1}, {\"dimension 1\": 10.857900619506836, \"dimension 2\": 1.4807440042495728, \"label\": 1}, {\"dimension 1\": -10.969988822937012, \"dimension 2\": 8.021594047546387, \"label\": 0}, {\"dimension 1\": 4.625909328460693, \"dimension 2\": -0.3399312198162079, \"label\": 1}, {\"dimension 1\": 1.4810985326766968, \"dimension 2\": 7.183345317840576, \"label\": 0}, {\"dimension 1\": 7.949909687042236, \"dimension 2\": -2.9366233348846436, \"label\": 1}, {\"dimension 1\": -0.3076987862586975, \"dimension 2\": 8.726679801940918, \"label\": 0}, {\"dimension 1\": 11.173843383789062, \"dimension 2\": 2.6359035968780518, \"label\": 2}, {\"dimension 1\": -3.8375864028930664, \"dimension 2\": -4.013413906097412, \"label\": 1}, {\"dimension 1\": 14.77165412902832, \"dimension 2\": 4.384716987609863, \"label\": 2}, {\"dimension 1\": 0.59578537940979, \"dimension 2\": 4.360999584197998, \"label\": 0}, {\"dimension 1\": -3.432513952255249, \"dimension 2\": 0.19300250709056854, \"label\": 0}, {\"dimension 1\": -9.22861385345459, \"dimension 2\": 2.6058361530303955, \"label\": 0}, {\"dimension 1\": 6.7619194984436035, \"dimension 2\": -4.478906154632568, \"label\": 1}, {\"dimension 1\": -9.554808616638184, \"dimension 2\": -1.8051106929779053, \"label\": 0}, {\"dimension 1\": 7.648282051086426, \"dimension 2\": -2.292391538619995, \"label\": 1}, {\"dimension 1\": -6.9580512046813965, \"dimension 2\": -9.166958808898926, \"label\": 0}, {\"dimension 1\": -5.186450004577637, \"dimension 2\": -9.606866836547852, \"label\": 1}, {\"dimension 1\": 9.913419723510742, \"dimension 2\": -2.321153163909912, \"label\": 1}, {\"dimension 1\": -2.7492318153381348, \"dimension 2\": -0.9870200753211975, \"label\": 0}, {\"dimension 1\": -4.8206987380981445, \"dimension 2\": -3.788632869720459, \"label\": 1}, {\"dimension 1\": 5.829578399658203, \"dimension 2\": -6.3582305908203125, \"label\": 1}, {\"dimension 1\": 1.326979637145996, \"dimension 2\": 5.755863666534424, \"label\": 1}, {\"dimension 1\": 12.09345531463623, \"dimension 2\": -3.2539260387420654, \"label\": 1}, {\"dimension 1\": 1.1647628545761108, \"dimension 2\": 7.456923961639404, \"label\": 0}, {\"dimension 1\": -15.312820434570312, \"dimension 2\": 1.548447847366333, \"label\": 0}, {\"dimension 1\": 4.7599358558654785, \"dimension 2\": -12.187621116638184, \"label\": 1}, {\"dimension 1\": -12.292778968811035, \"dimension 2\": 1.4422792196273804, \"label\": 0}, {\"dimension 1\": 14.005596160888672, \"dimension 2\": -7.720793724060059, \"label\": 0}, {\"dimension 1\": 2.766958236694336, \"dimension 2\": 5.749870777130127, \"label\": 0}, {\"dimension 1\": 13.311466217041016, \"dimension 2\": 6.088364601135254, \"label\": 2}, {\"dimension 1\": 15.506322860717773, \"dimension 2\": 4.1082258224487305, \"label\": 2}, {\"dimension 1\": 4.856332778930664, \"dimension 2\": 4.433386325836182, \"label\": 0}, {\"dimension 1\": -10.639311790466309, \"dimension 2\": 5.873889923095703, \"label\": 0}, {\"dimension 1\": -10.127921104431152, \"dimension 2\": 5.510786533355713, \"label\": 0}, {\"dimension 1\": -7.821390151977539, \"dimension 2\": 3.3511617183685303, \"label\": 0}, {\"dimension 1\": -13.312260627746582, \"dimension 2\": -3.099261522293091, \"label\": 0}, {\"dimension 1\": -4.454378604888916, \"dimension 2\": -10.92061710357666, \"label\": 1}, {\"dimension 1\": 2.1648643016815186, \"dimension 2\": 1.7848799228668213, \"label\": 1}, {\"dimension 1\": 3.070741891860962, \"dimension 2\": -2.147826671600342, \"label\": 1}, {\"dimension 1\": 3.244025230407715, \"dimension 2\": -1.4022345542907715, \"label\": 1}, {\"dimension 1\": 1.301550030708313, \"dimension 2\": -3.2954094409942627, \"label\": 1}, {\"dimension 1\": 6.072598457336426, \"dimension 2\": 4.544229984283447, \"label\": 0}, {\"dimension 1\": -7.270452499389648, \"dimension 2\": -0.7938819527626038, \"label\": 0}, {\"dimension 1\": 0.875758707523346, \"dimension 2\": -4.746131896972656, \"label\": 1}, {\"dimension 1\": 1.2050470113754272, \"dimension 2\": -3.931094169616699, \"label\": 1}, {\"dimension 1\": -3.221247911453247, \"dimension 2\": -6.029305934906006, \"label\": 1}, {\"dimension 1\": -4.341983795166016, \"dimension 2\": -5.779414176940918, \"label\": 1}, {\"dimension 1\": -1.9652622938156128, \"dimension 2\": -6.250982284545898, \"label\": 1}, {\"dimension 1\": -9.483442306518555, \"dimension 2\": 0.5566272735595703, \"label\": 0}, {\"dimension 1\": 10.186178207397461, \"dimension 2\": 4.684083938598633, \"label\": 2}, {\"dimension 1\": 12.24460506439209, \"dimension 2\": 5.404963493347168, \"label\": 2}, {\"dimension 1\": 11.406548500061035, \"dimension 2\": -3.9655954837799072, \"label\": 1}, {\"dimension 1\": 6.167975902557373, \"dimension 2\": 2.4006309509277344, \"label\": 1}, {\"dimension 1\": 16.577810287475586, \"dimension 2\": 4.908078193664551, \"label\": 2}, {\"dimension 1\": 11.040234565734863, \"dimension 2\": 5.400844097137451, \"label\": 2}, {\"dimension 1\": 4.253049850463867, \"dimension 2\": -4.484304904937744, \"label\": 1}, {\"dimension 1\": 7.261982440948486, \"dimension 2\": 2.2571887969970703, \"label\": 1}, {\"dimension 1\": 9.249341011047363, \"dimension 2\": -5.117438316345215, \"label\": 1}, {\"dimension 1\": 10.944482803344727, \"dimension 2\": -3.57963490486145, \"label\": 1}, {\"dimension 1\": 4.622138023376465, \"dimension 2\": -2.341038942337036, \"label\": 1}, {\"dimension 1\": -8.39991283416748, \"dimension 2\": -0.908080518245697, \"label\": 0}, {\"dimension 1\": 3.0338451862335205, \"dimension 2\": 3.501390218734741, \"label\": 0}, {\"dimension 1\": 6.769261360168457, \"dimension 2\": 3.5616958141326904, \"label\": 1}, {\"dimension 1\": 9.50114631652832, \"dimension 2\": 3.6987996101379395, \"label\": 2}, {\"dimension 1\": -9.95751953125, \"dimension 2\": 1.6086838245391846, \"label\": 0}, {\"dimension 1\": -2.9960572719573975, \"dimension 2\": -4.161137580871582, \"label\": 1}, {\"dimension 1\": 4.455054759979248, \"dimension 2\": 3.160397529602051, \"label\": 1}, {\"dimension 1\": 5.9065752029418945, \"dimension 2\": -1.3290374279022217, \"label\": 1}, {\"dimension 1\": 8.350749969482422, \"dimension 2\": -0.12130369246006012, \"label\": 1}, {\"dimension 1\": 1.4954493045806885, \"dimension 2\": 2.2540714740753174, \"label\": 1}, {\"dimension 1\": 3.2460122108459473, \"dimension 2\": 2.324652671813965, \"label\": 0}, {\"dimension 1\": 8.59961986541748, \"dimension 2\": 2.8935506343841553, \"label\": 1}, {\"dimension 1\": -13.314797401428223, \"dimension 2\": -2.1751699447631836, \"label\": 0}, {\"dimension 1\": 4.681601047515869, \"dimension 2\": 2.7303128242492676, \"label\": 1}, {\"dimension 1\": -7.290520191192627, \"dimension 2\": -4.673581600189209, \"label\": 1}, {\"dimension 1\": 12.059045791625977, \"dimension 2\": 4.45443868637085, \"label\": 2}, {\"dimension 1\": -9.297224998474121, \"dimension 2\": -0.2395235300064087, \"label\": 0}, {\"dimension 1\": -15.19328498840332, \"dimension 2\": 2.776919364929199, \"label\": 0}, {\"dimension 1\": 2.8880035877227783, \"dimension 2\": -9.711965560913086, \"label\": 1}, {\"dimension 1\": -7.404551029205322, \"dimension 2\": 1.7407433986663818, \"label\": 0}, {\"dimension 1\": 12.618061065673828, \"dimension 2\": 0.86042720079422, \"label\": 1}, {\"dimension 1\": -0.5885112881660461, \"dimension 2\": -11.583654403686523, \"label\": 0}, {\"dimension 1\": 14.922207832336426, \"dimension 2\": 3.005983591079712, \"label\": 2}, {\"dimension 1\": 11.556838989257812, \"dimension 2\": 5.166802883148193, \"label\": 2}, {\"dimension 1\": 9.794512748718262, \"dimension 2\": -1.9703545570373535, \"label\": 1}, {\"dimension 1\": 12.333173751831055, \"dimension 2\": -4.1165947914123535, \"label\": 1}, {\"dimension 1\": 2.390873670578003, \"dimension 2\": 2.8811545372009277, \"label\": 0}, {\"dimension 1\": -10.92171573638916, \"dimension 2\": 5.515120983123779, \"label\": 0}, {\"dimension 1\": -6.464691638946533, \"dimension 2\": 0.9080653786659241, \"label\": 0}, {\"dimension 1\": 6.665494441986084, \"dimension 2\": -0.7424898147583008, \"label\": 1}, {\"dimension 1\": 1.8974149227142334, \"dimension 2\": 7.214902877807617, \"label\": 0}, {\"dimension 1\": -3.3923540115356445, \"dimension 2\": 2.925233840942383, \"label\": 0}, {\"dimension 1\": -3.879434823989868, \"dimension 2\": -8.540635108947754, \"label\": 1}, {\"dimension 1\": -3.446442127227783, \"dimension 2\": 2.9538700580596924, \"label\": 0}, {\"dimension 1\": -3.5484886169433594, \"dimension 2\": 0.33174970746040344, \"label\": 0}, {\"dimension 1\": 5.160853862762451, \"dimension 2\": 0.3982393145561218, \"label\": 1}, {\"dimension 1\": 5.858605861663818, \"dimension 2\": -4.371206760406494, \"label\": 1}, {\"dimension 1\": -10.208405494689941, \"dimension 2\": 4.160738945007324, \"label\": 0}, {\"dimension 1\": 7.804008960723877, \"dimension 2\": -4.299373626708984, \"label\": 1}, {\"dimension 1\": 1.1924556493759155, \"dimension 2\": -9.46650218963623, \"label\": 1}, {\"dimension 1\": -2.599945545196533, \"dimension 2\": -1.723069190979004, \"label\": 1}, {\"dimension 1\": 4.588006973266602, \"dimension 2\": 4.076820373535156, \"label\": 1}, {\"dimension 1\": 5.113077640533447, \"dimension 2\": 2.9780917167663574, \"label\": 1}, {\"dimension 1\": -13.330744743347168, \"dimension 2\": 4.653784275054932, \"label\": 0}, {\"dimension 1\": -2.2047739028930664, \"dimension 2\": -10.42934799194336, \"label\": 1}, {\"dimension 1\": -1.3449690341949463, \"dimension 2\": 2.769275188446045, \"label\": 0}, {\"dimension 1\": 5.349630355834961, \"dimension 2\": 1.5886777639389038, \"label\": 1}, {\"dimension 1\": -17.432987213134766, \"dimension 2\": 3.586068868637085, \"label\": 0}, {\"dimension 1\": 8.535282135009766, \"dimension 2\": -1.1862635612487793, \"label\": 1}]}}, {\"mode\": \"vega-lite\"});\n",
       "</script>"
      ],
      "text/plain": [
       "alt.Chart(...)"
      ]
     },
     "execution_count": 232,
     "metadata": {},
     "output_type": "execute_result"
    }
   ],
   "source": [
    "X = clusters.loc[:, ['time_per_node', 'nodes_per_thread', 'largest_wcc', 'diameter_largest_wcc', 'num_nodes', 'sentiment_mean', 'user_tweet_count_mean', 'urls_mean', 'media_count_mean', 'user_follower_count_mean', 'user_friends_count_mean', 'num_edges', 'unverified']]\n",
    "\n",
    "scaler = StandardScaler()\n",
    "X = scaler.fit_transform(X)\n",
    "labels = cluster_k_means_clusters(X, n_clusters=3)\n",
    "graph_reduced_dimensions(X, labels, 200, 300, 'test')"
   ]
  },
  {
   "cell_type": "code",
   "execution_count": 233,
   "metadata": {},
   "outputs": [
    {
     "data": {
      "text/plain": [
       "1    117\n",
       "0     91\n",
       "2     27\n",
       "dtype: int64"
      ]
     },
     "execution_count": 233,
     "metadata": {},
     "output_type": "execute_result"
    }
   ],
   "source": [
    "labels.value_counts()"
   ]
  },
  {
   "cell_type": "markdown",
   "metadata": {},
   "source": [
    "# Overview\n",
    "\n",
    "Data: Each network is a combination of all rumour threads relating to a specific rumour. All pheme rumours are included except ones that don't have any edges"
   ]
  },
  {
   "cell_type": "code",
   "execution_count": null,
   "metadata": {},
   "outputs": [],
   "source": [
    "numerics = ['int16', 'int32', 'int64', 'float16', 'float32', 'float64']\n",
    "numeric_features = clusters.select_dtypes(numerics).copy()\n",
    "numeric_features.columns"
   ]
  },
  {
   "cell_type": "markdown",
   "metadata": {},
   "source": [
    "## Clustering stats"
   ]
  },
  {
   "cell_type": "code",
   "execution_count": null,
   "metadata": {},
   "outputs": [],
   "source": [
    "cl = ClusterGraphs(clusters)\n",
    "num_clusters, inertias = cl.choose_clust_num_k_means()\n",
    "plt.plot(inertias)"
   ]
  },
  {
   "cell_type": "code",
   "execution_count": null,
   "metadata": {},
   "outputs": [],
   "source": [
    "num_clusters"
   ]
  },
  {
   "cell_type": "code",
   "execution_count": null,
   "metadata": {},
   "outputs": [],
   "source": [
    "len(clusters)"
   ]
  },
  {
   "cell_type": "markdown",
   "metadata": {},
   "source": [
    "## Descriptive Stats"
   ]
  },
  {
   "cell_type": "code",
   "execution_count": null,
   "metadata": {},
   "outputs": [],
   "source": [
    "clusters.loc[:, ['num_threads', 'num_nodes', 'num_edges', 'num_wcc', 'largest_wcc',\n",
    "       'diameter_largest_wcc', 'max_out_degree', 'max_in_degree',\n",
    "       'mean_out_degree', 'mean_in_degree', 'wiener_index', 'nodes_per_thread']].describe()"
   ]
  },
  {
   "cell_type": "code",
   "execution_count": null,
   "metadata": {},
   "outputs": [],
   "source": [
    "clusters.event.value_counts()"
   ]
  },
  {
   "cell_type": "code",
   "execution_count": null,
   "metadata": {},
   "outputs": [],
   "source": [
    "clusters.truth.value_counts()"
   ]
  },
  {
   "cell_type": "code",
   "execution_count": null,
   "metadata": {},
   "outputs": [],
   "source": [
    "viz.graph_point_range_cluster_info(False, ['num_threads'], 300, 250, 1, 'event')"
   ]
  },
  {
   "cell_type": "code",
   "execution_count": null,
   "metadata": {},
   "outputs": [],
   "source": [
    "viz.graph_point_range_cluster_info(False, ['num_nodes'], 300, 250, 1, 'event')"
   ]
  },
  {
   "cell_type": "code",
   "execution_count": null,
   "metadata": {},
   "outputs": [],
   "source": [
    "viz.graph_point_range_cluster_info(False, ['nodes_per_thread'], 300, 250, 1, 'event')"
   ]
  },
  {
   "cell_type": "markdown",
   "metadata": {},
   "source": [
    "# Exploring Differences between Clusters"
   ]
  },
  {
   "cell_type": "markdown",
   "metadata": {},
   "source": [
    "## Central Network of Each cluster"
   ]
  },
  {
   "cell_type": "code",
   "execution_count": null,
   "metadata": {},
   "outputs": [],
   "source": [
    "viz.viz_graphs(clusters.loc[clusters.is_mean_vec == True].id.to_list())"
   ]
  },
  {
   "cell_type": "markdown",
   "metadata": {},
   "source": [
    "## Cluster Size"
   ]
  },
  {
   "cell_type": "code",
   "execution_count": null,
   "metadata": {},
   "outputs": [],
   "source": [
    "viz.plot_cluster_size()"
   ]
  },
  {
   "cell_type": "markdown",
   "metadata": {},
   "source": [
    "## Truth Composition of Each cluster"
   ]
  },
  {
   "cell_type": "code",
   "execution_count": null,
   "metadata": {},
   "outputs": [],
   "source": [
    "viz.viz_ind_cluster_truth()"
   ]
  },
  {
   "cell_type": "markdown",
   "metadata": {},
   "source": [
    "## Topological Features"
   ]
  },
  {
   "cell_type": "code",
   "execution_count": null,
   "metadata": {},
   "outputs": [],
   "source": [
    "viz.graph_point_range_cluster_info(False, ['num_nodes', 'num_edges'], 200, 250, 3, 'label')"
   ]
  },
  {
   "cell_type": "code",
   "execution_count": null,
   "metadata": {},
   "outputs": [],
   "source": [
    "viz.graph_point_range_cluster_info(False, ['num_nodes', 'num_edges'], 200, 250, 3, 'truth')"
   ]
  },
  {
   "cell_type": "code",
   "execution_count": null,
   "metadata": {},
   "outputs": [],
   "source": [
    "viz.graph_point_range_cluster_info(False, ['num_wcc', 'num_threads'], 200, 250, 3, 'label')"
   ]
  },
  {
   "cell_type": "code",
   "execution_count": null,
   "metadata": {},
   "outputs": [],
   "source": [
    "viz.graph_point_range_cluster_info(False, ['num_wcc', 'num_threads'], 200, 250, 3, 'truth')"
   ]
  },
  {
   "cell_type": "code",
   "execution_count": null,
   "metadata": {},
   "outputs": [],
   "source": [
    "viz.graph_point_range_cluster_info(False, ['largest_wcc'], 200, 250, 3, 'label')"
   ]
  },
  {
   "cell_type": "code",
   "execution_count": null,
   "metadata": {},
   "outputs": [],
   "source": [
    "viz.graph_point_range_cluster_info(False, ['largest_wcc'], 200, 250, 3, 'truth')"
   ]
  },
  {
   "cell_type": "code",
   "execution_count": null,
   "metadata": {},
   "outputs": [],
   "source": [
    "viz.graph_point_range_cluster_info(False, ['diameter_largest_wcc'], 200, 250, 3, 'label')"
   ]
  },
  {
   "cell_type": "code",
   "execution_count": null,
   "metadata": {},
   "outputs": [],
   "source": [
    "viz.graph_point_range_cluster_info(False, ['diameter_largest_wcc'], 200, 250, 3, 'truth')"
   ]
  },
  {
   "cell_type": "code",
   "execution_count": null,
   "metadata": {},
   "outputs": [],
   "source": [
    "viz.graph_point_range_cluster_info(False, ['wiener_index'], 200, 250, 3, 'label')"
   ]
  },
  {
   "cell_type": "code",
   "execution_count": null,
   "metadata": {},
   "outputs": [],
   "source": [
    "viz.graph_point_range_cluster_info(False, ['wiener_index'], 200, 250, 3, 'truth')"
   ]
  },
  {
   "cell_type": "code",
   "execution_count": null,
   "metadata": {},
   "outputs": [],
   "source": [
    "viz.graph_point_range_cluster_info(False, ['nodes_per_thread'], 200, 250, 3, 'label')"
   ]
  },
  {
   "cell_type": "code",
   "execution_count": null,
   "metadata": {},
   "outputs": [],
   "source": [
    "viz.graph_point_range_cluster_info(False, ['nodes_per_thread'], 200, 250, 3, 'truth')"
   ]
  },
  {
   "cell_type": "markdown",
   "metadata": {},
   "source": [
    "## Text Features"
   ]
  },
  {
   "cell_type": "code",
   "execution_count": null,
   "metadata": {},
   "outputs": [],
   "source": [
    "viz.graph_point_range_cluster_info(False, ['sentiment_mean'], 200, 250, 3, 'label')"
   ]
  },
  {
   "cell_type": "code",
   "execution_count": null,
   "metadata": {},
   "outputs": [],
   "source": [
    "viz.graph_point_range_cluster_info(False, ['sentiment_mean'], 200, 250, 3, 'truth')"
   ]
  },
  {
   "cell_type": "markdown",
   "metadata": {},
   "source": [
    "## Social Features"
   ]
  },
  {
   "cell_type": "markdown",
   "metadata": {},
   "source": [
    "## TSNE Plot"
   ]
  },
  {
   "cell_type": "code",
   "execution_count": null,
   "metadata": {},
   "outputs": [],
   "source": [
    "viz.graph_reduced_dimensions([\"id\", \"num_nodes\", \"title\", 'truth', 'event'], 400, 400, \"How Threads Networks Vary\")"
   ]
  },
  {
   "cell_type": "markdown",
   "metadata": {},
   "source": [
    "## Correlations"
   ]
  },
  {
   "cell_type": "code",
   "execution_count": null,
   "metadata": {},
   "outputs": [],
   "source": [
    "numeric_features"
   ]
  },
  {
   "cell_type": "code",
   "execution_count": null,
   "metadata": {},
   "outputs": [],
   "source": [
    "viz.get_corr_heat_map(numeric_features.columns.to_list())"
   ]
  }
 ],
 "metadata": {
  "kernelspec": {
   "display_name": "Python 3.8.5 ('base')",
   "language": "python",
   "name": "python3"
  },
  "language_info": {
   "codemirror_mode": {
    "name": "ipython",
    "version": 3
   },
   "file_extension": ".py",
   "mimetype": "text/x-python",
   "name": "python",
   "nbconvert_exporter": "python",
   "pygments_lexer": "ipython3",
   "version": "3.8.5"
  },
  "orig_nbformat": 4,
  "vscode": {
   "interpreter": {
    "hash": "60015666735a0000599ba2ae15b8f747bd6817ebd70a53af7ea250f075b403ad"
   }
  }
 },
 "nbformat": 4,
 "nbformat_minor": 2
}
