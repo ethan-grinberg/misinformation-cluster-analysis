{
 "cells": [
  {
   "cell_type": "code",
   "execution_count": 4,
   "metadata": {},
   "outputs": [],
   "source": [
    "import pandas as pd\n",
    "import numpy as np\n",
    "import twint\n",
    "import sys\n",
    "from selenium import webdriver\n",
    "import requests\n",
    "from bs4 import BeautifulSoup\n",
    "from requests_ip_rotator import ApiGateway, EXTRA_REGIONS\n",
    "\n",
    "sys.path.append(\"../src/data/twitter\")\n",
    "from twitter_scrape import TwitterScraper\n",
    "sys.path.append(\"../src/data/eu-disinfo\")\n",
    "from eu_disinfo_scrape import ScrapeEU\n",
    "sys.path.append(\"../\")\n",
    "from settings import DRIVER_PATH"
   ]
  },
  {
   "cell_type": "code",
   "execution_count": 1,
   "metadata": {},
   "outputs": [],
   "source": [
    "test = \"h\""
   ]
  },
  {
   "cell_type": "code",
   "execution_count": 2,
   "metadata": {},
   "outputs": [
    {
     "data": {
      "text/plain": [
       "'hhhhh'"
      ]
     },
     "execution_count": 2,
     "metadata": {},
     "output_type": "execute_result"
    }
   ],
   "source": [
    "test*5"
   ]
  },
  {
   "cell_type": "code",
   "execution_count": 2,
   "metadata": {},
   "outputs": [],
   "source": [
    "scraper = TwitterScraper(\"https://life.ru/p/1466169\")\n",
    "tweets = scraper.find_article_tweets(100, '2022-01-24')"
   ]
  },
  {
   "cell_type": "code",
   "execution_count": 3,
   "metadata": {},
   "outputs": [
    {
     "data": {
      "text/html": [
       "<div>\n",
       "<style scoped>\n",
       "    .dataframe tbody tr th:only-of-type {\n",
       "        vertical-align: middle;\n",
       "    }\n",
       "\n",
       "    .dataframe tbody tr th {\n",
       "        vertical-align: top;\n",
       "    }\n",
       "\n",
       "    .dataframe thead th {\n",
       "        text-align: right;\n",
       "    }\n",
       "</style>\n",
       "<table border=\"1\" class=\"dataframe\">\n",
       "  <thead>\n",
       "    <tr style=\"text-align: right;\">\n",
       "      <th></th>\n",
       "      <th>url</th>\n",
       "      <th>date</th>\n",
       "      <th>content</th>\n",
       "      <th>renderedContent</th>\n",
       "      <th>id</th>\n",
       "      <th>replyCount</th>\n",
       "      <th>retweetCount</th>\n",
       "      <th>likeCount</th>\n",
       "      <th>quoteCount</th>\n",
       "      <th>conversationId</th>\n",
       "      <th>...</th>\n",
       "      <th>listedCount</th>\n",
       "      <th>mediaCount</th>\n",
       "      <th>location</th>\n",
       "      <th>protected</th>\n",
       "      <th>linkUrl</th>\n",
       "      <th>linkTcourl</th>\n",
       "      <th>profileImageUrl</th>\n",
       "      <th>profileBannerUrl</th>\n",
       "      <th>label</th>\n",
       "      <th>user_id</th>\n",
       "    </tr>\n",
       "  </thead>\n",
       "  <tbody>\n",
       "    <tr>\n",
       "      <th>0</th>\n",
       "      <td>https://twitter.com/lifenews_ru/status/1485465...</td>\n",
       "      <td>2022-01-24 04:12:19+00:00</td>\n",
       "      <td>\"Открывашка универсальная\": Захарова заявила, ...</td>\n",
       "      <td>\"Открывашка универсальная\": Захарова заявила, ...</td>\n",
       "      <td>1485465460426653697</td>\n",
       "      <td>11</td>\n",
       "      <td>7</td>\n",
       "      <td>26</td>\n",
       "      <td>0</td>\n",
       "      <td>1485465460426653697</td>\n",
       "      <td>...</td>\n",
       "      <td>3049</td>\n",
       "      <td>298780</td>\n",
       "      <td></td>\n",
       "      <td>False</td>\n",
       "      <td>https://life.ru/</td>\n",
       "      <td>https://t.co/0FY1LOnPBi</td>\n",
       "      <td>https://pbs.twimg.com/profile_images/148415572...</td>\n",
       "      <td>https://pbs.twimg.com/profile_banners/53016173...</td>\n",
       "      <td>UserLabel(description='Государственное издание...</td>\n",
       "      <td>53016173</td>\n",
       "    </tr>\n",
       "    <tr>\n",
       "      <th>1</th>\n",
       "      <td>https://twitter.com/isterikakaratek/status/148...</td>\n",
       "      <td>2022-01-24 01:41:04+00:00</td>\n",
       "      <td>Открывашка универсальная https://t.co/daEz2cUFOg</td>\n",
       "      <td>Открывашка универсальная life.ru/p/1466169</td>\n",
       "      <td>1485427399781240835</td>\n",
       "      <td>0</td>\n",
       "      <td>1</td>\n",
       "      <td>2</td>\n",
       "      <td>0</td>\n",
       "      <td>1485427399781240835</td>\n",
       "      <td>...</td>\n",
       "      <td>24</td>\n",
       "      <td>11199</td>\n",
       "      <td>Москва</td>\n",
       "      <td>False</td>\n",
       "      <td>http://superkarate.ru/</td>\n",
       "      <td>http://t.co/xRbG7QkTqG</td>\n",
       "      <td>https://pbs.twimg.com/profile_images/176315424...</td>\n",
       "      <td>None</td>\n",
       "      <td>None</td>\n",
       "      <td>265923524</td>\n",
       "    </tr>\n",
       "  </tbody>\n",
       "</table>\n",
       "<p>2 rows × 46 columns</p>\n",
       "</div>"
      ],
      "text/plain": [
       "                                                 url  \\\n",
       "0  https://twitter.com/lifenews_ru/status/1485465...   \n",
       "1  https://twitter.com/isterikakaratek/status/148...   \n",
       "\n",
       "                       date  \\\n",
       "0 2022-01-24 04:12:19+00:00   \n",
       "1 2022-01-24 01:41:04+00:00   \n",
       "\n",
       "                                             content  \\\n",
       "0  \"Открывашка универсальная\": Захарова заявила, ...   \n",
       "1   Открывашка универсальная https://t.co/daEz2cUFOg   \n",
       "\n",
       "                                     renderedContent                   id  \\\n",
       "0  \"Открывашка универсальная\": Захарова заявила, ...  1485465460426653697   \n",
       "1         Открывашка универсальная life.ru/p/1466169  1485427399781240835   \n",
       "\n",
       "   replyCount  retweetCount  likeCount  quoteCount       conversationId  ...  \\\n",
       "0          11             7         26           0  1485465460426653697  ...   \n",
       "1           0             1          2           0  1485427399781240835  ...   \n",
       "\n",
       "  listedCount mediaCount location protected                 linkUrl  \\\n",
       "0        3049     298780              False        https://life.ru/   \n",
       "1          24      11199   Москва     False  http://superkarate.ru/   \n",
       "\n",
       "                linkTcourl                                    profileImageUrl  \\\n",
       "0  https://t.co/0FY1LOnPBi  https://pbs.twimg.com/profile_images/148415572...   \n",
       "1   http://t.co/xRbG7QkTqG  https://pbs.twimg.com/profile_images/176315424...   \n",
       "\n",
       "                                    profileBannerUrl  \\\n",
       "0  https://pbs.twimg.com/profile_banners/53016173...   \n",
       "1                                               None   \n",
       "\n",
       "                                               label    user_id  \n",
       "0  UserLabel(description='Государственное издание...   53016173  \n",
       "1                                               None  265923524  \n",
       "\n",
       "[2 rows x 46 columns]"
      ]
     },
     "execution_count": 3,
     "metadata": {},
     "output_type": "execute_result"
    }
   ],
   "source": [
    "tweets"
   ]
  },
  {
   "cell_type": "markdown",
   "metadata": {},
   "source": [
    "## Testing out web scraper"
   ]
  },
  {
   "cell_type": "code",
   "execution_count": 10,
   "metadata": {},
   "outputs": [],
   "source": [
    "title = driver.find_element_by_tag_name(\"title\")"
   ]
  },
  {
   "cell_type": "code",
   "execution_count": 11,
   "metadata": {},
   "outputs": [
    {
     "data": {
      "text/plain": [
       "'Access denied | euvsdisinfo.eu used Cloudflare to restrict access'"
      ]
     },
     "execution_count": 11,
     "metadata": {},
     "output_type": "execute_result"
    }
   ],
   "source": [
    "title.get_attribute('text')"
   ]
  },
  {
   "cell_type": "code",
   "execution_count": 7,
   "metadata": {},
   "outputs": [],
   "source": [
    "driver = webdriver.Firefox(executable_path=DRIVER_PATH)"
   ]
  },
  {
   "cell_type": "code",
   "execution_count": 8,
   "metadata": {},
   "outputs": [],
   "source": [
    "driver.get('https://euvsdisinfo.eu/disinformation-cases/?text=ukraine&date=15.03.2019%20-%2015.03.2021&per_page=100')"
   ]
  },
  {
   "cell_type": "code",
   "execution_count": 66,
   "metadata": {},
   "outputs": [],
   "source": [
    "posts = driver.find_elements_by_class_name(\"disinfo-db-post\")\n",
    "post = posts[0]"
   ]
  },
  {
   "cell_type": "code",
   "execution_count": 67,
   "metadata": {},
   "outputs": [],
   "source": [
    "cells = post.find_elements_by_tag_name(\"td\")"
   ]
  },
  {
   "cell_type": "code",
   "execution_count": 76,
   "metadata": {},
   "outputs": [
    {
     "data": {
      "text/plain": [
       "'ukraine focusing on refusing \"Sputnik V\" instead of saving lives'"
      ]
     },
     "execution_count": 76,
     "metadata": {},
     "output_type": "execute_result"
    }
   ],
   "source": [
    "cells[1].text"
   ]
  },
  {
   "cell_type": "code",
   "execution_count": 31,
   "metadata": {},
   "outputs": [],
   "source": [
    "driver.get(title.find_element_by_css_selector('a').get_attribute('href'))"
   ]
  },
  {
   "cell_type": "code",
   "execution_count": 86,
   "metadata": {},
   "outputs": [],
   "source": [
    "cols = driver.find_element_by_class_name(\"b-catalog__sticky\").find_elements_by_tag_name(\"li\")"
   ]
  },
  {
   "cell_type": "code",
   "execution_count": 79,
   "metadata": {},
   "outputs": [],
   "source": [
    "links = driver.find_elements_by_class_name(\"b-catalog__link\")"
   ]
  },
  {
   "cell_type": "code",
   "execution_count": 81,
   "metadata": {},
   "outputs": [
    {
     "data": {
      "text/plain": [
       "'https://arabic.rt.com/russia/1200867-%D8%B1%D9%88%D8%B3%D9%8A%D8%A7-%D8%B1%D9%81%D8%B6-%D8%A7%D9%84%D8%B3%D9%84%D8%B7%D8%A7%D8%AA-%D8%A7%D9%84%D8%A3%D9%88%D9%83%D8%B1%D8%A7%D9%86%D9%8A%D8%A9-%D8%B3%D8%A8%D9%88%D8%AA%D9%86%D9%8A%D9%83-v-%D9%8A%D8%B9%D9%88%D8%AF-%D9%84%D8%B3%D8%B9%D9%8A%D9%87%D8%A7-%D8%A5%D8%B1%D8%B6%D8%A7%D8%A1-%D8%A7%D9%84%D8%BA%D8%B1%D8%A8/'"
      ]
     },
     "execution_count": 81,
     "metadata": {},
     "output_type": "execute_result"
    }
   ],
   "source": [
    "links[1].find_element_by_css_selector('a').get_attribute(\"href\")"
   ]
  },
  {
   "cell_type": "code",
   "execution_count": 94,
   "metadata": {},
   "outputs": [
    {
     "ename": "IndexError",
     "evalue": "list index out of range",
     "output_type": "error",
     "traceback": [
      "\u001b[1;31m---------------------------------------------------------------------------\u001b[0m",
      "\u001b[1;31mIndexError\u001b[0m                                Traceback (most recent call last)",
      "\u001b[1;32m<ipython-input-94-c32d81995284>\u001b[0m in \u001b[0;36m<module>\u001b[1;34m\u001b[0m\n\u001b[1;32m----> 1\u001b[1;33m \u001b[0mcols\u001b[0m\u001b[1;33m[\u001b[0m\u001b[1;36m5\u001b[0m\u001b[1;33m]\u001b[0m\u001b[1;33m.\u001b[0m\u001b[0mtext\u001b[0m\u001b[1;33m.\u001b[0m\u001b[0msplit\u001b[0m\u001b[1;33m(\u001b[0m\u001b[1;34m\"\\n\"\u001b[0m\u001b[1;33m)\u001b[0m\u001b[1;33m\u001b[0m\u001b[1;33m\u001b[0m\u001b[0m\n\u001b[0m",
      "\u001b[1;31mIndexError\u001b[0m: list index out of range"
     ]
    }
   ],
   "source": [
    "cols[5].text.split(\"\\n\")"
   ]
  },
  {
   "cell_type": "code",
   "execution_count": 5,
   "metadata": {},
   "outputs": [
    {
     "ename": "ValueError",
     "evalue": "scraper was blocked",
     "output_type": "error",
     "traceback": [
      "\u001b[1;31m---------------------------------------------------------------------------\u001b[0m",
      "\u001b[1;31mValueError\u001b[0m                                Traceback (most recent call last)",
      "\u001b[1;32m<ipython-input-5-937161c5a2aa>\u001b[0m in \u001b[0;36m<module>\u001b[1;34m\u001b[0m\n\u001b[0;32m      1\u001b[0m \u001b[0mdb_scrape\u001b[0m \u001b[1;33m=\u001b[0m \u001b[0mScrapeEU\u001b[0m\u001b[1;33m(\u001b[0m\u001b[0mDRIVER_PATH\u001b[0m\u001b[1;33m)\u001b[0m\u001b[1;33m\u001b[0m\u001b[1;33m\u001b[0m\u001b[0m\n\u001b[1;32m----> 2\u001b[1;33m \u001b[0mtest_data\u001b[0m \u001b[1;33m=\u001b[0m \u001b[0mdb_scrape\u001b[0m\u001b[1;33m.\u001b[0m\u001b[0msearch_database\u001b[0m\u001b[1;33m(\u001b[0m\u001b[1;34m\"02-15-2021\"\u001b[0m\u001b[1;33m,\u001b[0m \u001b[1;34m\"02-15-2022\"\u001b[0m\u001b[1;33m,\u001b[0m \u001b[1;34m\"ukraine\"\u001b[0m\u001b[1;33m)\u001b[0m\u001b[1;33m\u001b[0m\u001b[1;33m\u001b[0m\u001b[0m\n\u001b[0m",
      "\u001b[1;32mc:\\Users\\ethan\\Documents\\School\\Research\\russian-disinformation\\src\\data\\eu-disinfo\\eu_disinfo_scrape.py\u001b[0m in \u001b[0;36msearch_database\u001b[1;34m(self, since, until, query)\u001b[0m\n\u001b[0;32m     20\u001b[0m \u001b[1;33m\u001b[0m\u001b[0m\n\u001b[0;32m     21\u001b[0m         \u001b[0mcurrent_query\u001b[0m \u001b[1;33m=\u001b[0m \u001b[0mself\u001b[0m\u001b[1;33m.\u001b[0m\u001b[0m__build_query\u001b[0m\u001b[1;33m(\u001b[0m\u001b[0msince\u001b[0m\u001b[1;33m,\u001b[0m \u001b[0muntil\u001b[0m\u001b[1;33m,\u001b[0m \u001b[0mquery\u001b[0m\u001b[1;33m)\u001b[0m\u001b[1;33m\u001b[0m\u001b[1;33m\u001b[0m\u001b[0m\n\u001b[1;32m---> 22\u001b[1;33m         \u001b[0mself\u001b[0m\u001b[1;33m.\u001b[0m\u001b[0m__get_or_rotate_proxy\u001b[0m\u001b[1;33m(\u001b[0m\u001b[0mcurrent_query\u001b[0m\u001b[1;33m)\u001b[0m\u001b[1;33m\u001b[0m\u001b[1;33m\u001b[0m\u001b[0m\n\u001b[0m\u001b[0;32m     23\u001b[0m \u001b[1;33m\u001b[0m\u001b[0m\n\u001b[0;32m     24\u001b[0m         \u001b[0mdata\u001b[0m \u001b[1;33m=\u001b[0m \u001b[1;33m[\u001b[0m\u001b[1;33m]\u001b[0m\u001b[1;33m\u001b[0m\u001b[1;33m\u001b[0m\u001b[0m\n",
      "\u001b[1;32mc:\\Users\\ethan\\Documents\\School\\Research\\russian-disinformation\\src\\data\\eu-disinfo\\eu_disinfo_scrape.py\u001b[0m in \u001b[0;36m__get_or_rotate_proxy\u001b[1;34m(self, query)\u001b[0m\n\u001b[0;32m     84\u001b[0m         \u001b[0mtitle\u001b[0m \u001b[1;33m=\u001b[0m \u001b[0mself\u001b[0m\u001b[1;33m.\u001b[0m\u001b[0m__driver\u001b[0m\u001b[1;33m.\u001b[0m\u001b[0mfind_element_by_tag_name\u001b[0m\u001b[1;33m(\u001b[0m\u001b[1;34m\"title\"\u001b[0m\u001b[1;33m)\u001b[0m\u001b[1;33m.\u001b[0m\u001b[0mget_attribute\u001b[0m\u001b[1;33m(\u001b[0m\u001b[1;34m\"text\"\u001b[0m\u001b[1;33m)\u001b[0m\u001b[1;33m\u001b[0m\u001b[1;33m\u001b[0m\u001b[0m\n\u001b[0;32m     85\u001b[0m         \u001b[1;32mif\u001b[0m \u001b[1;34m\"Access denied\"\u001b[0m \u001b[1;32min\u001b[0m \u001b[0mtitle\u001b[0m\u001b[1;33m:\u001b[0m\u001b[1;33m\u001b[0m\u001b[1;33m\u001b[0m\u001b[0m\n\u001b[1;32m---> 86\u001b[1;33m             \u001b[1;32mraise\u001b[0m \u001b[0mValueError\u001b[0m\u001b[1;33m(\u001b[0m\u001b[1;34m\"scraper was blocked\"\u001b[0m\u001b[1;33m)\u001b[0m\u001b[1;33m\u001b[0m\u001b[1;33m\u001b[0m\u001b[0m\n\u001b[0m\u001b[0;32m     87\u001b[0m \u001b[1;33m\u001b[0m\u001b[0m\n\u001b[0;32m     88\u001b[0m \u001b[1;33m\u001b[0m\u001b[0m\n",
      "\u001b[1;31mValueError\u001b[0m: scraper was blocked"
     ]
    }
   ],
   "source": [
    "db_scrape = ScrapeEU(DRIVER_PATH)\n",
    "test_data = db_scrape.search_database(\"02-15-2021\", \"02-15-2022\", \"ukraine\")"
   ]
  },
  {
   "cell_type": "code",
   "execution_count": 3,
   "metadata": {},
   "outputs": [
    {
     "data": {
      "text/html": [
       "<div>\n",
       "<style scoped>\n",
       "    .dataframe tbody tr th:only-of-type {\n",
       "        vertical-align: middle;\n",
       "    }\n",
       "\n",
       "    .dataframe tbody tr th {\n",
       "        vertical-align: top;\n",
       "    }\n",
       "\n",
       "    .dataframe thead th {\n",
       "        text-align: right;\n",
       "    }\n",
       "</style>\n",
       "<table border=\"1\" class=\"dataframe\">\n",
       "  <thead>\n",
       "    <tr style=\"text-align: right;\">\n",
       "      <th></th>\n",
       "      <th>date</th>\n",
       "      <th>description</th>\n",
       "      <th>outlets</th>\n",
       "      <th>countries</th>\n",
       "      <th>report_link</th>\n",
       "      <th>publication_date</th>\n",
       "      <th>languages</th>\n",
       "      <th>countries_discussed</th>\n",
       "      <th>keywords</th>\n",
       "      <th>links</th>\n",
       "    </tr>\n",
       "  </thead>\n",
       "  <tbody>\n",
       "  </tbody>\n",
       "</table>\n",
       "</div>"
      ],
      "text/plain": [
       "Empty DataFrame\n",
       "Columns: [date, description, outlets, countries, report_link, publication_date, languages, countries_discussed, keywords, links]\n",
       "Index: []"
      ]
     },
     "execution_count": 3,
     "metadata": {},
     "output_type": "execute_result"
    }
   ],
   "source": [
    "test_data"
   ]
  },
  {
   "cell_type": "code",
   "execution_count": 6,
   "metadata": {},
   "outputs": [
    {
     "data": {
      "text/html": [
       "<div>\n",
       "<style scoped>\n",
       "    .dataframe tbody tr th:only-of-type {\n",
       "        vertical-align: middle;\n",
       "    }\n",
       "\n",
       "    .dataframe tbody tr th {\n",
       "        vertical-align: top;\n",
       "    }\n",
       "\n",
       "    .dataframe thead th {\n",
       "        text-align: right;\n",
       "    }\n",
       "</style>\n",
       "<table border=\"1\" class=\"dataframe\">\n",
       "  <thead>\n",
       "    <tr style=\"text-align: right;\">\n",
       "      <th></th>\n",
       "      <th>col1</th>\n",
       "      <th>col2</th>\n",
       "    </tr>\n",
       "  </thead>\n",
       "  <tbody>\n",
       "    <tr>\n",
       "      <th>0</th>\n",
       "      <td>data</td>\n",
       "      <td>data</td>\n",
       "    </tr>\n",
       "    <tr>\n",
       "      <th>1</th>\n",
       "      <td>data1</td>\n",
       "      <td>data1</td>\n",
       "    </tr>\n",
       "  </tbody>\n",
       "</table>\n",
       "</div>"
      ],
      "text/plain": [
       "    col1   col2\n",
       "0   data   data\n",
       "1  data1  data1"
      ]
     },
     "execution_count": 6,
     "metadata": {},
     "output_type": "execute_result"
    }
   ],
   "source": [
    "dict1 = {\"col1\": \"data\", \"col2\": \"data\"}\n",
    "dict2 = {\"col1\": \"data1\", \"col2\": \"data1\"}\n",
    "pd.DataFrame([dict1, dict2])"
   ]
  }
 ],
 "metadata": {
  "interpreter": {
   "hash": "bdb1f293a72cda3337025d9d00554afb1343cd7218118617db03a8cb5103ebd2"
  },
  "kernelspec": {
   "display_name": "Python 3.8.5 64-bit ('base': conda)",
   "language": "python",
   "name": "python3"
  },
  "language_info": {
   "codemirror_mode": {
    "name": "ipython",
    "version": 3
   },
   "file_extension": ".py",
   "mimetype": "text/x-python",
   "name": "python",
   "nbconvert_exporter": "python",
   "pygments_lexer": "ipython3",
   "version": "3.8.5"
  },
  "orig_nbformat": 4
 },
 "nbformat": 4,
 "nbformat_minor": 2
}
