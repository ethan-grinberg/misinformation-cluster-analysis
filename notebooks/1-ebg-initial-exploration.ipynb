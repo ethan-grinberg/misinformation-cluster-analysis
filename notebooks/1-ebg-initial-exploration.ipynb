{
 "cells": [
  {
   "cell_type": "code",
   "execution_count": 1,
   "metadata": {},
   "outputs": [],
   "source": [
    "import pandas as pd\n",
    "import numpy as np\n",
    "import twint\n",
    "import sys\n",
    "import nest_asyncio\n",
    "nest_asyncio.apply()\n",
    "\n",
    "sys.path.append(\"../src/data/twitter\")\n",
    "from twitter_scrape import TwitterScraper"
   ]
  },
  {
   "cell_type": "code",
   "execution_count": 6,
   "metadata": {},
   "outputs": [],
   "source": [
    "scraper = TwitterScraper(\"https://life.ru/p/1466169\")\n",
    "tweets = scraper.find_article_tweets(100)\n",
    "ex_tweet = tweets[0]"
   ]
  },
  {
   "cell_type": "code",
   "execution_count": null,
   "metadata": {},
   "outputs": [],
   "source": [
    "c = twint.Config()\n",
    "c.User_id = 53016173\n",
    "c.Pandas = True\n",
    "\n",
    "twint.run.Lookup(c)\n",
    "\n",
    "users = twint.storage.panda.User_df"
   ]
  },
  {
   "cell_type": "code",
   "execution_count": null,
   "metadata": {},
   "outputs": [
    {
     "data": {
      "text/html": [
       "<div>\n",
       "<style scoped>\n",
       "    .dataframe tbody tr th:only-of-type {\n",
       "        vertical-align: middle;\n",
       "    }\n",
       "\n",
       "    .dataframe tbody tr th {\n",
       "        vertical-align: top;\n",
       "    }\n",
       "\n",
       "    .dataframe thead th {\n",
       "        text-align: right;\n",
       "    }\n",
       "</style>\n",
       "<table border=\"1\" class=\"dataframe\">\n",
       "  <thead>\n",
       "    <tr style=\"text-align: right;\">\n",
       "      <th></th>\n",
       "      <th>id</th>\n",
       "      <th>name</th>\n",
       "      <th>username</th>\n",
       "      <th>bio</th>\n",
       "      <th>url</th>\n",
       "      <th>join_datetime</th>\n",
       "      <th>join_date</th>\n",
       "      <th>join_time</th>\n",
       "      <th>tweets</th>\n",
       "      <th>location</th>\n",
       "      <th>following</th>\n",
       "      <th>followers</th>\n",
       "      <th>likes</th>\n",
       "      <th>media</th>\n",
       "      <th>private</th>\n",
       "      <th>verified</th>\n",
       "      <th>avatar</th>\n",
       "      <th>background_image</th>\n",
       "    </tr>\n",
       "  </thead>\n",
       "  <tbody>\n",
       "    <tr>\n",
       "      <th>0</th>\n",
       "      <td>53016173</td>\n",
       "      <td>lifenews_ru</td>\n",
       "      <td>lifenews_ru</td>\n",
       "      <td>LIFE – о жизни в России, только самые интересн...</td>\n",
       "      <td>https://t.co/0FY1LOnPBi</td>\n",
       "      <td>2009-07-02 09:12:27 UTC</td>\n",
       "      <td>2009-07-02</td>\n",
       "      <td>09:12:27 UTC</td>\n",
       "      <td>384934</td>\n",
       "      <td></td>\n",
       "      <td>0</td>\n",
       "      <td>724943</td>\n",
       "      <td>348</td>\n",
       "      <td>298602</td>\n",
       "      <td>False</td>\n",
       "      <td>False</td>\n",
       "      <td>https://pbs.twimg.com/profile_images/148415572...</td>\n",
       "      <td>https://pbs.twimg.com/profile_banners/53016173...</td>\n",
       "    </tr>\n",
       "  </tbody>\n",
       "</table>\n",
       "</div>"
      ],
      "text/plain": [
       "         id         name     username  \\\n",
       "0  53016173  lifenews_ru  lifenews_ru   \n",
       "\n",
       "                                                 bio                      url  \\\n",
       "0  LIFE – о жизни в России, только самые интересн...  https://t.co/0FY1LOnPBi   \n",
       "\n",
       "             join_datetime   join_date     join_time  tweets location  \\\n",
       "0  2009-07-02 09:12:27 UTC  2009-07-02  09:12:27 UTC  384934            \n",
       "\n",
       "   following  followers  likes   media  private  verified  \\\n",
       "0          0     724943    348  298602    False     False   \n",
       "\n",
       "                                              avatar  \\\n",
       "0  https://pbs.twimg.com/profile_images/148415572...   \n",
       "\n",
       "                                    background_image  \n",
       "0  https://pbs.twimg.com/profile_banners/53016173...  "
      ]
     },
     "execution_count": 36,
     "metadata": {},
     "output_type": "execute_result"
    }
   ],
   "source": [
    "users"
   ]
  },
  {
   "cell_type": "code",
   "execution_count": null,
   "metadata": {},
   "outputs": [],
   "source": [
    "c = twint.Config()\n",
    "c.Search = \"https://life.ru/p/1466169\"\n",
    "c.Pandas = True\n",
    "c.Hide_output = True\n",
    "\n",
    "twint.run.Search(c)\n",
    "\n",
    "Tweets_df = twint.storage.panda.Tweets_df"
   ]
  },
  {
   "cell_type": "code",
   "execution_count": null,
   "metadata": {},
   "outputs": [],
   "source": [
    "Tweets_df.iloc[1].link"
   ]
  },
  {
   "cell_type": "code",
   "execution_count": null,
   "metadata": {},
   "outputs": [],
   "source": [
    "scrape = TwitterScraper(\"https://life.ru/p/1466169\")\n",
    "test = scrape.find_article_tweets()"
   ]
  }
 ],
 "metadata": {
  "interpreter": {
   "hash": "bdb1f293a72cda3337025d9d00554afb1343cd7218118617db03a8cb5103ebd2"
  },
  "kernelspec": {
   "display_name": "Python 3.8.5 64-bit ('base': conda)",
   "language": "python",
   "name": "python3"
  },
  "language_info": {
   "codemirror_mode": {
    "name": "ipython",
    "version": 3
   },
   "file_extension": ".py",
   "mimetype": "text/x-python",
   "name": "python",
   "nbconvert_exporter": "python",
   "pygments_lexer": "ipython3",
   "version": "3.8.5"
  },
  "orig_nbformat": 4
 },
 "nbformat": 4,
 "nbformat_minor": 2
}
