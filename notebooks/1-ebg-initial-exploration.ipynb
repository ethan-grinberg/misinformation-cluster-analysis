{
 "cells": [
  {
   "cell_type": "code",
   "execution_count": 1,
   "metadata": {},
   "outputs": [],
   "source": [
    "import pandas as pd\n",
    "import numpy as np\n",
    "import sys\n",
    "from selenium import webdriver\n",
    "import requests\n",
    "from bs4 import BeautifulSoup\n",
    "\n",
    "sys.path.append(\"../src/data/twitter\")\n",
    "from twitter_scrape import TwitterScraper\n",
    "sys.path.append(\"../src/data/eu-disinfo\")\n",
    "from eu_disinfo_scrape import ScrapeEU\n",
    "sys.path.append(\"../\")\n",
    "from settings import DRIVER_PATH"
   ]
  },
  {
   "cell_type": "markdown",
   "metadata": {},
   "source": [
    "## Twitter Scraper"
   ]
  },
  {
   "cell_type": "code",
   "execution_count": 15,
   "metadata": {},
   "outputs": [],
   "source": [
    "eu_data = pd.read_pickle(\"../data/external/combined_data.pkl\")"
   ]
  },
  {
   "cell_type": "code",
   "execution_count": 20,
   "metadata": {},
   "outputs": [],
   "source": [
    "scraper = TwitterScraper()\n",
    "dfs = []\n",
    "for i in range(20):\n",
    "    links = eu_data.iloc[i].links\n",
    "    for link in links:\n",
    "        try:\n",
    "            tweets = scraper.find_article_tweets(link, 100)\n",
    "            tweets[\"claim\"] = eu_data.iloc[i].claim\n",
    "            dfs.append(tweets)\n",
    "        except Exception as e:\n",
    "            print(link)\n",
    "            continue\n",
    "\n",
    "all_tweets = pd.concat(dfs)"
   ]
  },
  {
   "cell_type": "code",
   "execution_count": 22,
   "metadata": {},
   "outputs": [
    {
     "data": {
      "text/plain": [
       "NATO is preparing for a big war, probably with Russia                                       87\n",
       "Four Ukrainian security officers were shot on the border with Hungary                       14\n",
       "Estonia threatens Sputnik staff with police                                                  8\n",
       "European Parliament resolution is pure madness                                               8\n",
       "The European Parliament requires the liquidation of the state of the Republic of Moldova     4\n",
       "Ukraine will issue citizenship to murderers                                                  4\n",
       "Any critic of the EU is considered a “politically incorrect” dissenter and persecuted        2\n",
       "Estonia is afraid of Sputnik's influence                                                     1\n",
       "NATO Preparing for War with Russia                                                           1\n",
       "Name: claim, dtype: int64"
      ]
     },
     "execution_count": 22,
     "metadata": {},
     "output_type": "execute_result"
    }
   ],
   "source": [
    "all_tweets.claim.value_counts()"
   ]
  },
  {
   "cell_type": "markdown",
   "metadata": {},
   "source": [
    "## Testing out web scraper"
   ]
  },
  {
   "cell_type": "code",
   "execution_count": 10,
   "metadata": {},
   "outputs": [],
   "source": [
    "title = driver.find_element_by_tag_name(\"title\")"
   ]
  },
  {
   "cell_type": "code",
   "execution_count": 11,
   "metadata": {},
   "outputs": [
    {
     "data": {
      "text/plain": [
       "'Access denied | euvsdisinfo.eu used Cloudflare to restrict access'"
      ]
     },
     "execution_count": 11,
     "metadata": {},
     "output_type": "execute_result"
    }
   ],
   "source": [
    "title.get_attribute('text')"
   ]
  },
  {
   "cell_type": "code",
   "execution_count": 2,
   "metadata": {},
   "outputs": [],
   "source": [
    "driver = webdriver.Firefox(executable_path=DRIVER_PATH)"
   ]
  },
  {
   "cell_type": "code",
   "execution_count": 8,
   "metadata": {},
   "outputs": [],
   "source": [
    "driver.get('https://euvsdisinfo.eu/disinformation-cases/?text=ukraine&date=15.03.2019%20-%2015.03.2021&per_page=100')"
   ]
  },
  {
   "cell_type": "code",
   "execution_count": 9,
   "metadata": {},
   "outputs": [],
   "source": [
    "posts = driver.find_elements_by_class_name(\"disinfo-db-post\")\n",
    "post = posts[0]"
   ]
  },
  {
   "cell_type": "code",
   "execution_count": 10,
   "metadata": {},
   "outputs": [],
   "source": [
    "cells = post.find_elements_by_tag_name(\"td\")"
   ]
  },
  {
   "cell_type": "code",
   "execution_count": 13,
   "metadata": {},
   "outputs": [],
   "source": [
    "data = []\n",
    "for i in range(4):\n",
    "    data.append(cells[i].text)"
   ]
  },
  {
   "cell_type": "code",
   "execution_count": 76,
   "metadata": {},
   "outputs": [
    {
     "data": {
      "text/plain": [
       "'ukraine focusing on refusing \"Sputnik V\" instead of saving lives'"
      ]
     },
     "execution_count": 76,
     "metadata": {},
     "output_type": "execute_result"
    }
   ],
   "source": [
    "cells[1].text"
   ]
  },
  {
   "cell_type": "code",
   "execution_count": 31,
   "metadata": {},
   "outputs": [],
   "source": [
    "driver.get(title.find_element_by_css_selector('a').get_attribute('href'))"
   ]
  },
  {
   "cell_type": "code",
   "execution_count": 86,
   "metadata": {},
   "outputs": [],
   "source": [
    "cols = driver.find_element_by_class_name(\"b-catalog__sticky\").find_elements_by_tag_name(\"li\")"
   ]
  },
  {
   "cell_type": "code",
   "execution_count": 79,
   "metadata": {},
   "outputs": [],
   "source": [
    "links = driver.find_elements_by_class_name(\"b-catalog__link\")"
   ]
  },
  {
   "cell_type": "code",
   "execution_count": 81,
   "metadata": {},
   "outputs": [
    {
     "data": {
      "text/plain": [
       "'https://arabic.rt.com/russia/1200867-%D8%B1%D9%88%D8%B3%D9%8A%D8%A7-%D8%B1%D9%81%D8%B6-%D8%A7%D9%84%D8%B3%D9%84%D8%B7%D8%A7%D8%AA-%D8%A7%D9%84%D8%A3%D9%88%D9%83%D8%B1%D8%A7%D9%86%D9%8A%D8%A9-%D8%B3%D8%A8%D9%88%D8%AA%D9%86%D9%8A%D9%83-v-%D9%8A%D8%B9%D9%88%D8%AF-%D9%84%D8%B3%D8%B9%D9%8A%D9%87%D8%A7-%D8%A5%D8%B1%D8%B6%D8%A7%D8%A1-%D8%A7%D9%84%D8%BA%D8%B1%D8%A8/'"
      ]
     },
     "execution_count": 81,
     "metadata": {},
     "output_type": "execute_result"
    }
   ],
   "source": [
    "links[1].find_element_by_css_selector('a').get_attribute(\"href\")"
   ]
  },
  {
   "cell_type": "code",
   "execution_count": 94,
   "metadata": {},
   "outputs": [
    {
     "ename": "IndexError",
     "evalue": "list index out of range",
     "output_type": "error",
     "traceback": [
      "\u001b[1;31m---------------------------------------------------------------------------\u001b[0m",
      "\u001b[1;31mIndexError\u001b[0m                                Traceback (most recent call last)",
      "\u001b[1;32m<ipython-input-94-c32d81995284>\u001b[0m in \u001b[0;36m<module>\u001b[1;34m\u001b[0m\n\u001b[1;32m----> 1\u001b[1;33m \u001b[0mcols\u001b[0m\u001b[1;33m[\u001b[0m\u001b[1;36m5\u001b[0m\u001b[1;33m]\u001b[0m\u001b[1;33m.\u001b[0m\u001b[0mtext\u001b[0m\u001b[1;33m.\u001b[0m\u001b[0msplit\u001b[0m\u001b[1;33m(\u001b[0m\u001b[1;34m\"\\n\"\u001b[0m\u001b[1;33m)\u001b[0m\u001b[1;33m\u001b[0m\u001b[1;33m\u001b[0m\u001b[0m\n\u001b[0m",
      "\u001b[1;31mIndexError\u001b[0m: list index out of range"
     ]
    }
   ],
   "source": [
    "cols[5].text.split(\"\\n\")"
   ]
  },
  {
   "cell_type": "code",
   "execution_count": 3,
   "metadata": {},
   "outputs": [
    {
     "name": "stdout",
     "output_type": "stream",
     "text": [
      "DISINFO DATABASE\n",
      "Attention Required! | Cloudflare\n",
      "scraper was blocked\n"
     ]
    }
   ],
   "source": [
    "db_scrape = ScrapeEU(DRIVER_PATH)\n",
    "test_data = db_scrape.search_database(\"02-15-2021\", \"02-15-2022\", \"ukraine\")"
   ]
  },
  {
   "cell_type": "code",
   "execution_count": 3,
   "metadata": {},
   "outputs": [
    {
     "data": {
      "text/html": [
       "<div>\n",
       "<style scoped>\n",
       "    .dataframe tbody tr th:only-of-type {\n",
       "        vertical-align: middle;\n",
       "    }\n",
       "\n",
       "    .dataframe tbody tr th {\n",
       "        vertical-align: top;\n",
       "    }\n",
       "\n",
       "    .dataframe thead th {\n",
       "        text-align: right;\n",
       "    }\n",
       "</style>\n",
       "<table border=\"1\" class=\"dataframe\">\n",
       "  <thead>\n",
       "    <tr style=\"text-align: right;\">\n",
       "      <th></th>\n",
       "      <th>date</th>\n",
       "      <th>description</th>\n",
       "      <th>outlets</th>\n",
       "      <th>countries</th>\n",
       "      <th>report_link</th>\n",
       "      <th>publication_date</th>\n",
       "      <th>languages</th>\n",
       "      <th>countries_discussed</th>\n",
       "      <th>keywords</th>\n",
       "      <th>links</th>\n",
       "    </tr>\n",
       "  </thead>\n",
       "  <tbody>\n",
       "  </tbody>\n",
       "</table>\n",
       "</div>"
      ],
      "text/plain": [
       "Empty DataFrame\n",
       "Columns: [date, description, outlets, countries, report_link, publication_date, languages, countries_discussed, keywords, links]\n",
       "Index: []"
      ]
     },
     "execution_count": 3,
     "metadata": {},
     "output_type": "execute_result"
    }
   ],
   "source": [
    "test_data"
   ]
  },
  {
   "cell_type": "markdown",
   "metadata": {},
   "source": [
    "## Trying to bypass cloudflare"
   ]
  }
 ],
 "metadata": {
  "interpreter": {
   "hash": "bdb1f293a72cda3337025d9d00554afb1343cd7218118617db03a8cb5103ebd2"
  },
  "kernelspec": {
   "display_name": "Python 3.8.5 64-bit ('base': conda)",
   "language": "python",
   "name": "python3"
  },
  "language_info": {
   "codemirror_mode": {
    "name": "ipython",
    "version": 3
   },
   "file_extension": ".py",
   "mimetype": "text/x-python",
   "name": "python",
   "nbconvert_exporter": "python",
   "pygments_lexer": "ipython3",
   "version": "3.8.5"
  },
  "orig_nbformat": 4
 },
 "nbformat": 4,
 "nbformat_minor": 2
}
