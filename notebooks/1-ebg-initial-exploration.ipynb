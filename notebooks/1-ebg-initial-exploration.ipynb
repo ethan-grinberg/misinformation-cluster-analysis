{
 "cells": [
  {
   "cell_type": "code",
   "execution_count": 9,
   "metadata": {},
   "outputs": [],
   "source": [
    "import pandas as pd\n",
    "import numpy as np\n",
    "import twint\n",
    "import sys\n",
    "from selenium import webdriver\n",
    "\n",
    "sys.path.append(\"../src/data/twitter\")\n",
    "from twitter_scrape import TwitterScraper\n",
    "sys.path.append(\"../src/data/eu-disinfo\")\n",
    "from eu_disinfo_scrape import ScrapeEU"
   ]
  },
  {
   "cell_type": "code",
   "execution_count": 5,
   "metadata": {},
   "outputs": [],
   "source": [
    "scraper = TwitterScraper(\"https://life.ru/p/1466169\")\n",
    "tweets = scraper.find_article_tweets(100, '2022-01-24')"
   ]
  },
  {
   "cell_type": "code",
   "execution_count": 12,
   "metadata": {},
   "outputs": [
    {
     "data": {
      "text/html": [
       "<div>\n",
       "<style scoped>\n",
       "    .dataframe tbody tr th:only-of-type {\n",
       "        vertical-align: middle;\n",
       "    }\n",
       "\n",
       "    .dataframe tbody tr th {\n",
       "        vertical-align: top;\n",
       "    }\n",
       "\n",
       "    .dataframe thead th {\n",
       "        text-align: right;\n",
       "    }\n",
       "</style>\n",
       "<table border=\"1\" class=\"dataframe\">\n",
       "  <thead>\n",
       "    <tr style=\"text-align: right;\">\n",
       "      <th></th>\n",
       "      <th>url</th>\n",
       "      <th>date</th>\n",
       "      <th>content</th>\n",
       "      <th>renderedContent</th>\n",
       "      <th>id</th>\n",
       "      <th>replyCount</th>\n",
       "      <th>retweetCount</th>\n",
       "      <th>likeCount</th>\n",
       "      <th>quoteCount</th>\n",
       "      <th>conversationId</th>\n",
       "      <th>...</th>\n",
       "      <th>listedCount</th>\n",
       "      <th>mediaCount</th>\n",
       "      <th>location</th>\n",
       "      <th>protected</th>\n",
       "      <th>linkUrl</th>\n",
       "      <th>linkTcourl</th>\n",
       "      <th>profileImageUrl</th>\n",
       "      <th>profileBannerUrl</th>\n",
       "      <th>label</th>\n",
       "      <th>user_id</th>\n",
       "    </tr>\n",
       "  </thead>\n",
       "  <tbody>\n",
       "    <tr>\n",
       "      <th>0</th>\n",
       "      <td>https://twitter.com/lifenews_ru/status/1485465...</td>\n",
       "      <td>2022-01-24 04:12:19+00:00</td>\n",
       "      <td>\"Открывашка универсальная\": Захарова заявила, ...</td>\n",
       "      <td>\"Открывашка универсальная\": Захарова заявила, ...</td>\n",
       "      <td>1485465460426653697</td>\n",
       "      <td>11</td>\n",
       "      <td>7</td>\n",
       "      <td>26</td>\n",
       "      <td>0</td>\n",
       "      <td>1485465460426653697</td>\n",
       "      <td>...</td>\n",
       "      <td>3049</td>\n",
       "      <td>298709</td>\n",
       "      <td></td>\n",
       "      <td>False</td>\n",
       "      <td>https://life.ru/</td>\n",
       "      <td>https://t.co/0FY1LOnPBi</td>\n",
       "      <td>https://pbs.twimg.com/profile_images/148415572...</td>\n",
       "      <td>https://pbs.twimg.com/profile_banners/53016173...</td>\n",
       "      <td>UserLabel(description='Государственное издание...</td>\n",
       "      <td>53016173</td>\n",
       "    </tr>\n",
       "    <tr>\n",
       "      <th>1</th>\n",
       "      <td>https://twitter.com/isterikakaratek/status/148...</td>\n",
       "      <td>2022-01-24 01:41:04+00:00</td>\n",
       "      <td>Открывашка универсальная https://t.co/daEz2cUFOg</td>\n",
       "      <td>Открывашка универсальная life.ru/p/1466169</td>\n",
       "      <td>1485427399781240835</td>\n",
       "      <td>0</td>\n",
       "      <td>1</td>\n",
       "      <td>2</td>\n",
       "      <td>0</td>\n",
       "      <td>1485427399781240835</td>\n",
       "      <td>...</td>\n",
       "      <td>24</td>\n",
       "      <td>11191</td>\n",
       "      <td>Москва</td>\n",
       "      <td>False</td>\n",
       "      <td>http://superkarate.ru/</td>\n",
       "      <td>http://t.co/xRbG7QkTqG</td>\n",
       "      <td>https://pbs.twimg.com/profile_images/176315424...</td>\n",
       "      <td>None</td>\n",
       "      <td>None</td>\n",
       "      <td>265923524</td>\n",
       "    </tr>\n",
       "  </tbody>\n",
       "</table>\n",
       "<p>2 rows × 46 columns</p>\n",
       "</div>"
      ],
      "text/plain": [
       "                                                 url  \\\n",
       "0  https://twitter.com/lifenews_ru/status/1485465...   \n",
       "1  https://twitter.com/isterikakaratek/status/148...   \n",
       "\n",
       "                       date  \\\n",
       "0 2022-01-24 04:12:19+00:00   \n",
       "1 2022-01-24 01:41:04+00:00   \n",
       "\n",
       "                                             content  \\\n",
       "0  \"Открывашка универсальная\": Захарова заявила, ...   \n",
       "1   Открывашка универсальная https://t.co/daEz2cUFOg   \n",
       "\n",
       "                                     renderedContent                   id  \\\n",
       "0  \"Открывашка универсальная\": Захарова заявила, ...  1485465460426653697   \n",
       "1         Открывашка универсальная life.ru/p/1466169  1485427399781240835   \n",
       "\n",
       "   replyCount  retweetCount  likeCount  quoteCount       conversationId  ...  \\\n",
       "0          11             7         26           0  1485465460426653697  ...   \n",
       "1           0             1          2           0  1485427399781240835  ...   \n",
       "\n",
       "  listedCount mediaCount location protected                 linkUrl  \\\n",
       "0        3049     298709              False        https://life.ru/   \n",
       "1          24      11191   Москва     False  http://superkarate.ru/   \n",
       "\n",
       "                linkTcourl                                    profileImageUrl  \\\n",
       "0  https://t.co/0FY1LOnPBi  https://pbs.twimg.com/profile_images/148415572...   \n",
       "1   http://t.co/xRbG7QkTqG  https://pbs.twimg.com/profile_images/176315424...   \n",
       "\n",
       "                                    profileBannerUrl  \\\n",
       "0  https://pbs.twimg.com/profile_banners/53016173...   \n",
       "1                                               None   \n",
       "\n",
       "                                               label    user_id  \n",
       "0  UserLabel(description='Государственное издание...   53016173  \n",
       "1                                               None  265923524  \n",
       "\n",
       "[2 rows x 46 columns]"
      ]
     },
     "execution_count": 12,
     "metadata": {},
     "output_type": "execute_result"
    }
   ],
   "source": [
    "tweets"
   ]
  },
  {
   "cell_type": "markdown",
   "metadata": {},
   "source": [
    "## Testing out web scraper"
   ]
  },
  {
   "cell_type": "code",
   "execution_count": 10,
   "metadata": {},
   "outputs": [],
   "source": [
    "driver = webdriver.Firefox(executable_path='C:\\\\Users\\\\ethan\\\\Desktop\\\\geckodriver-v0.29.1-win64\\\\geckodriver.exe')"
   ]
  },
  {
   "cell_type": "code",
   "execution_count": 72,
   "metadata": {},
   "outputs": [],
   "source": [
    "driver.get('https://euvsdisinfo.eu/disinformation-cases/?text=ukraine&date=15.03.2019%20-%2015.03.2021&per_page=100')"
   ]
  },
  {
   "cell_type": "code",
   "execution_count": 73,
   "metadata": {},
   "outputs": [],
   "source": [
    "post = driver.find_elements_by_class_name(\"disinfo-db-post\")[0]"
   ]
  },
  {
   "cell_type": "code",
   "execution_count": 74,
   "metadata": {},
   "outputs": [],
   "source": [
    "cells = post.find_elements_by_tag_name(\"td\")"
   ]
  },
  {
   "cell_type": "code",
   "execution_count": 82,
   "metadata": {},
   "outputs": [],
   "source": [
    "title = cells[1]"
   ]
  },
  {
   "cell_type": "code",
   "execution_count": 84,
   "metadata": {},
   "outputs": [
    {
     "data": {
      "text/plain": [
       "'https://euvsdisinfo.eu/report/eu-is-nato-white-label'"
      ]
     },
     "execution_count": 84,
     "metadata": {},
     "output_type": "execute_result"
    }
   ],
   "source": [
    "title.find_element_by_css_selector('a').get_attribute('href')"
   ]
  },
  {
   "cell_type": "code",
   "execution_count": 80,
   "metadata": {},
   "outputs": [
    {
     "data": {
      "text/plain": [
       "[]"
      ]
     },
     "execution_count": 80,
     "metadata": {},
     "output_type": "execute_result"
    }
   ],
   "source": [
    "post.find_elements_by_class_name(\"href\")"
   ]
  }
 ],
 "metadata": {
  "interpreter": {
   "hash": "bdb1f293a72cda3337025d9d00554afb1343cd7218118617db03a8cb5103ebd2"
  },
  "kernelspec": {
   "display_name": "Python 3.8.5 64-bit ('base': conda)",
   "language": "python",
   "name": "python3"
  },
  "language_info": {
   "codemirror_mode": {
    "name": "ipython",
    "version": 3
   },
   "file_extension": ".py",
   "mimetype": "text/x-python",
   "name": "python",
   "nbconvert_exporter": "python",
   "pygments_lexer": "ipython3",
   "version": "3.8.5"
  },
  "orig_nbformat": 4
 },
 "nbformat": 4,
 "nbformat_minor": 2
}
