{
 "cells": [
  {
   "cell_type": "code",
   "execution_count": 3,
   "metadata": {},
   "outputs": [],
   "source": [
    "import pandas as pd\n",
    "import numpy as np\n",
    "import json\n",
    "import os"
   ]
  },
  {
   "cell_type": "code",
   "execution_count": 2,
   "metadata": {},
   "outputs": [],
   "source": [
    "data_path = \"../data/external/pheme\""
   ]
  },
  {
   "cell_type": "code",
   "execution_count": 24,
   "metadata": {},
   "outputs": [],
   "source": [
    "def get_rumors(path):\n",
    "    data = {}\n",
    "    rumor_path = path + \"/rumours\"\n",
    "    non_rumor_path = path + \"/non-rumours\"\n",
    "    for f in os.listdir(rumor_path):\n",
    "        if not \".\" in f:\n",
    "            full_path = rumor_path + \"/\" + f\n",
    "            data[f] = {}\n",
    "\n",
    "            with open(full_path + \"/\" + \"annotation.json\", \"r\") as content:\n",
    "                data[f]['annotations'] = content\n",
    "\n",
    "            with open(full_path + \"/\" + \"structure.json\", \"r\") as content:\n",
    "                data[f]['structure'] = content\n",
    "    \n",
    "    return data"
   ]
  },
  {
   "cell_type": "code",
   "execution_count": 25,
   "metadata": {},
   "outputs": [],
   "source": [
    "def get_tweets(path):\n",
    "    all_data = []\n",
    "    for f in os.listdir(path):\n",
    "        if not \".\" in f:\n",
    "            data = get_rumors(path + \"/\" + f)\n",
    "            all_data.append(data)\n",
    "    return all_data"
   ]
  },
  {
   "cell_type": "code",
   "execution_count": 26,
   "metadata": {},
   "outputs": [],
   "source": [
    "all_data = get_tweets(data_path)"
   ]
  },
  {
   "cell_type": "code",
   "execution_count": 32,
   "metadata": {},
   "outputs": [
    {
     "data": {
      "text/plain": [
       "458"
      ]
     },
     "execution_count": 32,
     "metadata": {},
     "output_type": "execute_result"
    }
   ],
   "source": [
    "len(all_data[0].keys())"
   ]
  }
 ],
 "metadata": {
  "kernelspec": {
   "display_name": "Python 3.8.5 ('base')",
   "language": "python",
   "name": "python3"
  },
  "language_info": {
   "codemirror_mode": {
    "name": "ipython",
    "version": 3
   },
   "file_extension": ".py",
   "mimetype": "text/x-python",
   "name": "python",
   "nbconvert_exporter": "python",
   "pygments_lexer": "ipython3",
   "version": "3.8.5"
  },
  "orig_nbformat": 4,
  "vscode": {
   "interpreter": {
    "hash": "60015666735a0000599ba2ae15b8f747bd6817ebd70a53af7ea250f075b403ad"
   }
  }
 },
 "nbformat": 4,
 "nbformat_minor": 2
}
