{
  "cells": [
    {
      "cell_type": "markdown",
      "metadata": {
        "id": "xn87QVCIJ9Wt"
      },
      "source": [
        "# Unsupervised graph classification/representation learning via distances"
      ]
    },
    {
      "cell_type": "markdown",
      "metadata": {
        "id": "USVhwBrLJ9Ww"
      },
      "source": [
        "This demo demonstrated training a graph classification model without supervision. This model could be used to compute embedding vectors or representations for graphs.\n",
        "\n",
        "The algorithm uses a ground-truth distance between graphs as a metric to train against, by embedding pairs of graphs simultaneously and combining the resulting embedding vectors to match the distance.\n",
        "\n",
        "It is inspired by UGraphEmb[1].\n",
        "\n",
        "[1]: Y. Bai et al., “Unsupervised Inductive Graph-Level Representation Learning via Graph-Graph Proximity,” [arXiv:1904.01098](http://arxiv.org/abs/1904.01098) [cs, stat], Jun. 2019."
      ]
    },
    {
      "cell_type": "code",
      "execution_count": 1,
      "metadata": {
        "id": "5a9FIXGwJ9Wz"
      },
      "outputs": [],
      "source": [
        "import stellargraph as sg\n",
        "import pandas as pd\n",
        "import numpy as np\n",
        "import networkx as nx\n",
        "import tensorflow as tf\n",
        "from tensorflow import keras"
      ]
    },
    {
      "cell_type": "markdown",
      "metadata": {
        "id": "NI2Q9k7WJ9Wz"
      },
      "source": [
        "## Dataset\n",
        "\n",
        "The PROTEINS dataset consists of about one thousand graphs, with binary labels `1` or `2`."
      ]
    },
    {
      "cell_type": "code",
      "execution_count": 2,
      "metadata": {
        "colab": {
          "base_uri": "https://localhost:8080/",
          "height": 52
        },
        "id": "zOREOCTsJ9W0",
        "outputId": "385c2219-3075-46be-f55f-ba13cc8a2549"
      },
      "outputs": [],
      "source": [
        "dataset = sg.datasets.PROTEINS()\n",
        "graphs, graph_labels = dataset.load()"
      ]
    },
    {
      "cell_type": "code",
      "execution_count": 5,
      "metadata": {},
      "outputs": [
        {
          "data": {
            "text/plain": [
              "1113"
            ]
          },
          "execution_count": 5,
          "metadata": {},
          "output_type": "execute_result"
        }
      ],
      "source": [
        "len(graphs)"
      ]
    },
    {
      "cell_type": "code",
      "execution_count": null,
      "metadata": {
        "id": "7cR4WIpJJ9W0",
        "outputId": "c53388a6-56d1-4c39-d778-aa208f4d94c6"
      },
      "outputs": [
        {
          "data": {
            "text/html": [
              "<div>\n",
              "<style scoped>\n",
              "    .dataframe tbody tr th:only-of-type {\n",
              "        vertical-align: middle;\n",
              "    }\n",
              "\n",
              "    .dataframe tbody tr th {\n",
              "        vertical-align: top;\n",
              "    }\n",
              "\n",
              "    .dataframe thead th {\n",
              "        text-align: right;\n",
              "    }\n",
              "</style>\n",
              "<table border=\"1\" class=\"dataframe\">\n",
              "  <thead>\n",
              "    <tr style=\"text-align: right;\">\n",
              "      <th></th>\n",
              "      <th>label</th>\n",
              "    </tr>\n",
              "  </thead>\n",
              "  <tbody>\n",
              "    <tr>\n",
              "      <th>1</th>\n",
              "      <td>663</td>\n",
              "    </tr>\n",
              "    <tr>\n",
              "      <th>2</th>\n",
              "      <td>450</td>\n",
              "    </tr>\n",
              "  </tbody>\n",
              "</table>\n",
              "</div>"
            ],
            "text/plain": [
              "   label\n",
              "1    663\n",
              "2    450"
            ]
          },
          "execution_count": 3,
          "metadata": {},
          "output_type": "execute_result"
        }
      ],
      "source": [
        "graph_labels.value_counts().to_frame()"
      ]
    },
    {
      "cell_type": "markdown",
      "metadata": {
        "id": "K_G2VG4QJ9W1"
      },
      "source": [
        "The `graphs` value consists of many `StellarGraph` instances:"
      ]
    },
    {
      "cell_type": "code",
      "execution_count": 7,
      "metadata": {
        "id": "jWEUKDToJ9W2",
        "outputId": "30e87b5d-3e23-4383-9f2c-a89573be59b6"
      },
      "outputs": [
        {
          "name": "stdout",
          "output_type": "stream",
          "text": [
            "StellarGraph: Undirected multigraph\n",
            " Nodes: 42, Edges: 162\n",
            "\n",
            " Node types:\n",
            "  default: [42]\n",
            "    Features: float32 vector, length 4\n",
            "    Edge types: default-default->default\n",
            "\n",
            " Edge types:\n",
            "    default-default->default: [162]\n",
            "        Weights: all 1 (default)\n",
            "        Features: none\n"
          ]
        }
      ],
      "source": [
        "print(graphs[0].info())"
      ]
    },
    {
      "cell_type": "markdown",
      "metadata": {
        "id": "0RkUDK7QJ9W3"
      },
      "source": [
        "Summary statistics of the sizes of the graphs:"
      ]
    },
    {
      "cell_type": "code",
      "execution_count": 8,
      "metadata": {
        "id": "2aNNrf9RJ9W3",
        "outputId": "46feeb9a-98aa-4964-b862-2ef20cbc754e"
      },
      "outputs": [
        {
          "data": {
            "text/html": [
              "<div>\n",
              "<style scoped>\n",
              "    .dataframe tbody tr th:only-of-type {\n",
              "        vertical-align: middle;\n",
              "    }\n",
              "\n",
              "    .dataframe tbody tr th {\n",
              "        vertical-align: top;\n",
              "    }\n",
              "\n",
              "    .dataframe thead th {\n",
              "        text-align: right;\n",
              "    }\n",
              "</style>\n",
              "<table border=\"1\" class=\"dataframe\">\n",
              "  <thead>\n",
              "    <tr style=\"text-align: right;\">\n",
              "      <th></th>\n",
              "      <th>nodes</th>\n",
              "      <th>edges</th>\n",
              "    </tr>\n",
              "  </thead>\n",
              "  <tbody>\n",
              "    <tr>\n",
              "      <th>count</th>\n",
              "      <td>1113.0</td>\n",
              "      <td>1113.0</td>\n",
              "    </tr>\n",
              "    <tr>\n",
              "      <th>mean</th>\n",
              "      <td>39.1</td>\n",
              "      <td>145.6</td>\n",
              "    </tr>\n",
              "    <tr>\n",
              "      <th>std</th>\n",
              "      <td>45.8</td>\n",
              "      <td>169.3</td>\n",
              "    </tr>\n",
              "    <tr>\n",
              "      <th>min</th>\n",
              "      <td>4.0</td>\n",
              "      <td>10.0</td>\n",
              "    </tr>\n",
              "    <tr>\n",
              "      <th>25%</th>\n",
              "      <td>15.0</td>\n",
              "      <td>56.0</td>\n",
              "    </tr>\n",
              "    <tr>\n",
              "      <th>50%</th>\n",
              "      <td>26.0</td>\n",
              "      <td>98.0</td>\n",
              "    </tr>\n",
              "    <tr>\n",
              "      <th>75%</th>\n",
              "      <td>45.0</td>\n",
              "      <td>174.0</td>\n",
              "    </tr>\n",
              "    <tr>\n",
              "      <th>max</th>\n",
              "      <td>620.0</td>\n",
              "      <td>2098.0</td>\n",
              "    </tr>\n",
              "  </tbody>\n",
              "</table>\n",
              "</div>"
            ],
            "text/plain": [
              "        nodes   edges\n",
              "count  1113.0  1113.0\n",
              "mean     39.1   145.6\n",
              "std      45.8   169.3\n",
              "min       4.0    10.0\n",
              "25%      15.0    56.0\n",
              "50%      26.0    98.0\n",
              "75%      45.0   174.0\n",
              "max     620.0  2098.0"
            ]
          },
          "execution_count": 8,
          "metadata": {},
          "output_type": "execute_result"
        }
      ],
      "source": [
        "summary = pd.DataFrame(\n",
        "    [(g.number_of_nodes(), g.number_of_edges()) for g in graphs],\n",
        "    columns=[\"nodes\", \"edges\"],\n",
        ")\n",
        "summary.describe().round(1)"
      ]
    },
    {
      "cell_type": "markdown",
      "metadata": {
        "id": "Oy49IEElJ9W4"
      },
      "source": [
        "## Create the model"
      ]
    },
    {
      "cell_type": "code",
      "execution_count": 9,
      "metadata": {
        "id": "SvWrqlKuJ9W4"
      },
      "outputs": [],
      "source": [
        "generator = sg.mapper.PaddedGraphGenerator(graphs)"
      ]
    },
    {
      "cell_type": "code",
      "execution_count": 10,
      "metadata": {
        "id": "RYy4EWRbJ9W4"
      },
      "outputs": [],
      "source": [
        "gc_model = sg.layer.GCNSupervisedGraphClassification(\n",
        "    [64, 32], [\"relu\", \"relu\"], generator, pool_all_layers=True\n",
        ")"
      ]
    },
    {
      "cell_type": "code",
      "execution_count": 11,
      "metadata": {
        "id": "AGtkG9ydJ9W5"
      },
      "outputs": [],
      "source": [
        "inp1, out1 = gc_model.in_out_tensors()\n",
        "inp2, out2 = gc_model.in_out_tensors()\n",
        "\n",
        "vec_distance = tf.norm(out1 - out2, axis=1)"
      ]
    },
    {
      "cell_type": "code",
      "execution_count": 12,
      "metadata": {
        "id": "Fz0mE3iZJ9W6"
      },
      "outputs": [],
      "source": [
        "pair_model = keras.Model(inp1 + inp2, vec_distance)\n",
        "embedding_model = keras.Model(inp1, out1)"
      ]
    },
    {
      "cell_type": "markdown",
      "metadata": {
        "id": "EoNmaFuPJ9W6"
      },
      "source": [
        "## Train the model\n",
        "\n",
        "The model is trained on 100 random pairs of graphs, along with the ground-truth distance between them."
      ]
    },
    {
      "cell_type": "markdown",
      "metadata": {
        "id": "lT0EKV58J9W6"
      },
      "source": [
        "### Similarity measure\n",
        "\n",
        "This method can use any notion of distance or similarity between two graphs. In this case, we use something efficient, but not particularly accurate: the distance between the spectrum (or eigenvalues) of the [Laplacian matrix](https://en.wikipedia.org/wiki/Laplacian_matrix) of the graphs.\n",
        "\n",
        "Other options include graph edit distance and minimum common subgraph, but these are NP-hard to compute and are too slow for this demonstration."
      ]
    },
    {
      "cell_type": "code",
      "execution_count": 13,
      "metadata": {
        "id": "pOCwmEhdJ9W6"
      },
      "outputs": [],
      "source": [
        "def graph_distance(graph1, graph2):\n",
        "    spec1 = nx.laplacian_spectrum(graph1.to_networkx(feature_attr=None))\n",
        "    spec2 = nx.laplacian_spectrum(graph2.to_networkx(feature_attr=None))\n",
        "    k = min(len(spec1), len(spec2))\n",
        "    return np.linalg.norm(spec1[:k] - spec2[:k])"
      ]
    },
    {
      "cell_type": "markdown",
      "metadata": {
        "id": "ItO-58eBJ9W7"
      },
      "source": [
        "### Training examples"
      ]
    },
    {
      "cell_type": "code",
      "execution_count": 14,
      "metadata": {
        "id": "_f4FfKV0J9W8"
      },
      "outputs": [],
      "source": [
        "graph_idx = np.random.RandomState(0).randint(len(graphs), size=(100, 2))"
      ]
    },
    {
      "cell_type": "code",
      "execution_count": 15,
      "metadata": {
        "id": "PGlr8DFFJ9W8"
      },
      "outputs": [],
      "source": [
        "targets = [graph_distance(graphs[left], graphs[right]) for left, right in graph_idx]"
      ]
    },
    {
      "cell_type": "code",
      "execution_count": 16,
      "metadata": {
        "id": "N7XN1H0bJ9W8"
      },
      "outputs": [],
      "source": [
        "train_gen = generator.flow(graph_idx, batch_size=10, targets=targets)"
      ]
    },
    {
      "cell_type": "markdown",
      "metadata": {
        "id": "_XWxllYCJ9W9"
      },
      "source": [
        "### Training procedure"
      ]
    },
    {
      "cell_type": "code",
      "execution_count": 17,
      "metadata": {
        "id": "jXwJV_bXJ9W9"
      },
      "outputs": [],
      "source": [
        "pair_model.compile(keras.optimizers.Adam(1e-2), loss=\"mse\")"
      ]
    },
    {
      "cell_type": "code",
      "execution_count": 18,
      "metadata": {
        "colab": {
          "base_uri": "https://localhost:8080/",
          "height": 334
        },
        "id": "ZA9UHjb0J9W9",
        "outputId": "b5534d39-7cbe-4890-e4fc-abdca9d1fe37"
      },
      "outputs": [
        {
          "data": {
            "image/png": "[encoded data removed]",
            "text/plain": [
              "<Figure size 504x288 with 1 Axes>"
            ]
          },
          "metadata": {
            "needs_background": "light"
          },
          "output_type": "display_data"
        }
      ],
      "source": [
        "history = pair_model.fit(train_gen, epochs=500, verbose=0)\n",
        "sg.utils.plot_history(history)"
      ]
    },
    {
      "cell_type": "markdown",
      "metadata": {
        "id": "5GDuju7aJ9W9"
      },
      "source": [
        "## Compute embeddings"
      ]
    },
    {
      "cell_type": "code",
      "execution_count": 19,
      "metadata": {
        "id": "hJP0mtwnJ9W-"
      },
      "outputs": [],
      "source": [
        "embeddings = embedding_model.predict(generator.flow(graphs))"
      ]
    },
    {
      "cell_type": "code",
      "execution_count": 20,
      "metadata": {
        "colab": {
          "base_uri": "https://localhost:8080/"
        },
        "id": "HpTZpNIqLA1C",
        "outputId": "b512b124-6875-4b3d-b81d-f16bdb8ac2a2"
      },
      "outputs": [
        {
          "data": {
            "text/plain": [
              "(1113, 96)"
            ]
          },
          "execution_count": 20,
          "metadata": {},
          "output_type": "execute_result"
        }
      ],
      "source": [
        "embeddings.shape"
      ]
    },
    {
      "cell_type": "markdown",
      "metadata": {
        "id": "8KK3Hi8xJ9W-"
      },
      "source": [
        "## Downstream tasks\n",
        "\n",
        "Now that we've computed some embedding vectors in an unsupervised fashion, we can use them for other supervised, semi-supervised and unsupervised tasks."
      ]
    },
    {
      "cell_type": "markdown",
      "metadata": {
        "id": "VZwNviNTJ9W-"
      },
      "source": [
        "### Supervised graph classification\n",
        "\n",
        "We can use the embedding vectors to perform logistic regression classification, using the labels."
      ]
    },
    {
      "cell_type": "code",
      "execution_count": null,
      "metadata": {
        "id": "zcLCkaYiJ9W-"
      },
      "outputs": [],
      "source": [
        "from sklearn.linear_model import LogisticRegression\n",
        "from sklearn import model_selection"
      ]
    },
    {
      "cell_type": "code",
      "execution_count": null,
      "metadata": {
        "id": "1wmP6PNPJ9W_",
        "outputId": "c707db55-254e-4d10-e59a-6b25aa960480"
      },
      "outputs": [
        {
          "name": "stdout",
          "output_type": "stream",
          "text": [
            "Test classification accuracy: 0.6846307385229541\n"
          ]
        }
      ],
      "source": [
        "train_labels, test_labels = model_selection.train_test_split(\n",
        "    graph_labels, train_size=0.1, test_size=None, stratify=graph_labels\n",
        ")\n",
        "\n",
        "test_embeddings = embeddings[test_labels.index - 1]\n",
        "train_embeddings = embeddings[train_labels.index - 1]\n",
        "\n",
        "lr = LogisticRegression(multi_class=\"auto\", solver=\"lbfgs\")\n",
        "lr.fit(train_embeddings, train_labels)\n",
        "\n",
        "y_pred = lr.predict(test_embeddings)\n",
        "gcn_acc = (y_pred == test_labels).mean()\n",
        "print(f\"Test classification accuracy: {gcn_acc}\")"
      ]
    },
    {
      "cell_type": "markdown",
      "metadata": {
        "id": "TR2ZfUhaJ9W_"
      },
      "source": [
        "#### Confusion matrix"
      ]
    },
    {
      "cell_type": "code",
      "execution_count": null,
      "metadata": {
        "id": "qZQIis7BJ9XA",
        "outputId": "cf5beb8b-b028-49ec-f12b-d97cdc3bc32f"
      },
      "outputs": [
        {
          "data": {
            "text/html": [
              "<div>\n",
              "<style scoped>\n",
              "    .dataframe tbody tr th:only-of-type {\n",
              "        vertical-align: middle;\n",
              "    }\n",
              "\n",
              "    .dataframe tbody tr th {\n",
              "        vertical-align: top;\n",
              "    }\n",
              "\n",
              "    .dataframe thead th {\n",
              "        text-align: right;\n",
              "    }\n",
              "</style>\n",
              "<table border=\"1\" class=\"dataframe\">\n",
              "  <thead>\n",
              "    <tr style=\"text-align: right;\">\n",
              "      <th>predicted</th>\n",
              "      <th>1</th>\n",
              "      <th>2</th>\n",
              "    </tr>\n",
              "    <tr>\n",
              "      <th>true</th>\n",
              "      <th></th>\n",
              "      <th></th>\n",
              "    </tr>\n",
              "  </thead>\n",
              "  <tbody>\n",
              "    <tr>\n",
              "      <th>1</th>\n",
              "      <td>506</td>\n",
              "      <td>91</td>\n",
              "    </tr>\n",
              "    <tr>\n",
              "      <th>2</th>\n",
              "      <td>225</td>\n",
              "      <td>180</td>\n",
              "    </tr>\n",
              "  </tbody>\n",
              "</table>\n",
              "</div>"
            ],
            "text/plain": [
              "predicted    1    2\n",
              "true               \n",
              "1          506   91\n",
              "2          225  180"
            ]
          },
          "execution_count": 152,
          "metadata": {},
          "output_type": "execute_result"
        }
      ],
      "source": [
        "pd.crosstab(test_labels, y_pred, rownames=[\"true\"], colnames=[\"predicted\"])"
      ]
    },
    {
      "cell_type": "markdown",
      "metadata": {
        "id": "VPstzRIjJ9XA"
      },
      "source": [
        "### Visualising embeddings\n",
        "\n",
        "We can also get a qualitative measure of the embeddings, using dimensionality reduction."
      ]
    },
    {
      "cell_type": "code",
      "execution_count": 21,
      "metadata": {
        "id": "0JUMc9a5J9XA"
      },
      "outputs": [],
      "source": [
        "from sklearn.manifold import TSNE\n",
        "\n",
        "tsne = TSNE(2)\n",
        "two_d = tsne.fit_transform(embeddings)"
      ]
    },
    {
      "cell_type": "code",
      "execution_count": 22,
      "metadata": {
        "id": "UCAnZkswJ9XA",
        "outputId": "a08ce317-a066-43a4-9f49-c239a6397ca5"
      },
      "outputs": [
        {
          "data": {
            "text/plain": [
              "<matplotlib.collections.PathCollection at 0x145c2ee7610>"
            ]
          },
          "execution_count": 22,
          "metadata": {},
          "output_type": "execute_result"
        },
        {
          "data": {
            "image/png": "[encoded data removed]",
            "text/plain": [
              "<Figure size 432x288 with 1 Axes>"
            ]
          },
          "metadata": {
            "needs_background": "light"
          },
          "output_type": "display_data"
        }
      ],
      "source": [
        "from matplotlib import pyplot as plt\n",
        "\n",
        "plt.scatter(two_d[:, 0], two_d[:, 1], c=graph_labels.cat.codes, cmap=\"jet\", alpha=0.4)"
      ]
    },
    {
      "cell_type": "markdown",
      "metadata": {
        "id": "WXZb5HezJ9XB"
      },
      "source": [
        "## Conclusion\n",
        "\n",
        "This demo demonstrated training a graph classification model without supervision. This model could be used to compute embedding vectors or representations for graphs. \n",
        "\n",
        "The algorithm works with three components:\n",
        "\n",
        "- a ground truth distance or similarity between two graphs such as graph edit distance, or, in this case, Laplacian spectrum distance (for efficiency)\n",
        "- a model that encodes graphs into embedding vectors\n",
        "- a data generator that yields pairs of graphs and the corresponding ground truth distance\n",
        "\n",
        "This model is inspired by UGraphEmb[1]."
      ]
    },
    {
      "cell_type": "markdown",
      "metadata": {
        "id": "xT4dqEYLJ9XB",
        "nbsphinx": "hidden",
        "tags": [
          "CloudRunner"
        ]
      },
      "source": [
        "<table><tr><td>Run the latest release of this notebook:</td><td><a href=\"https://mybinder.org/v2/gh/stellargraph/stellargraph/master?urlpath=lab/tree/demos/embeddings/gcn-unsupervised-graph-embeddings.ipynb\" alt=\"Open In Binder\" target=\"_parent\"><img src=\"https://mybinder.org/badge_logo.svg\"/></a></td><td><a href=\"https://colab.research.google.com/github/stellargraph/stellargraph/blob/master/demos/embeddings/gcn-unsupervised-graph-embeddings.ipynb\" alt=\"Open In Colab\" target=\"_parent\"><img src=\"https://colab.research.google.com/assets/colab-badge.svg\"/></a></td></tr></table>"
      ]
    }
  ],
  "metadata": {
    "colab": {
      "name": "gcn-unsupervised-graph-embeddings.ipynb",
      "provenance": []
    },
    "kernelspec": {
      "display_name": "Python 3",
      "language": "python",
      "name": "python3"
    },
    "language_info": {
      "codemirror_mode": {
        "name": "ipython",
        "version": 3
      },
      "file_extension": ".py",
      "mimetype": "text/x-python",
      "name": "python",
      "nbconvert_exporter": "python",
      "pygments_lexer": "ipython3",
      "version": "3.8.5"
    }
  },
  "nbformat": 4,
  "nbformat_minor": 0
}
